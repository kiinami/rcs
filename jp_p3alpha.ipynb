{
 "cells": [
  {
   "cell_type": "code",
   "execution_count": 1,
   "metadata": {},
   "outputs": [],
   "source": [
    "import os\n",
    "from utils import *\n",
    "import optuna"
   ]
  },
  {
   "cell_type": "code",
   "execution_count": 2,
   "metadata": {},
   "outputs": [],
   "source": [
    "data, usermap, itemmap, users = load_data2()\n",
    "data_train, data_test, data_val = split_data2(data, 0, 0.2)"
   ]
  },
  {
   "cell_type": "code",
   "execution_count": 3,
   "metadata": {},
   "outputs": [
    {
     "name": "stderr",
     "output_type": "stream",
     "text": [
      "[I 2023-12-17 12:16:25,272] A new study created in RDB with name: P3Alpha\n"
     ]
    }
   ],
   "source": [
    "study_name = \"P3Alpha\"\n",
    "study = optuna.create_study(\n",
    "    study_name=study_name,\n",
    "    storage=get_database_url(),\n",
    "    load_if_exists=True,\n",
    "    direction=\"maximize\",\n",
    ")"
   ]
  },
  {
   "cell_type": "code",
   "execution_count": 4,
   "metadata": {},
   "outputs": [
    {
     "name": "stderr",
     "output_type": "stream",
     "text": [
      "[I 2023-12-17 12:17:05,527] Trial 0 finished with value: 0.04097575338794001 and parameters: {'topK': 621, 'alpha': 0.06135381025972064, 'implicit': False, 'normalize_similarity': False}. Best is trial 0 with value: 0.04097575338794001.\n",
      "[I 2023-12-17 12:17:34,192] Trial 1 finished with value: 0.031209369961052617 and parameters: {'topK': 352, 'alpha': 1.150452460643985, 'implicit': False, 'normalize_similarity': False}. Best is trial 0 with value: 0.04097575338794001.\n",
      "[I 2023-12-17 12:18:08,602] Trial 2 finished with value: 0.023600899116106046 and parameters: {'topK': 666, 'alpha': 1.3067741985874441, 'implicit': False, 'normalize_similarity': False}. Best is trial 0 with value: 0.04097575338794001.\n",
      "[I 2023-12-17 12:18:35,983] Trial 3 finished with value: 0.024317757984782157 and parameters: {'topK': 384, 'alpha': 1.230323099886746, 'implicit': False, 'normalize_similarity': False}. Best is trial 0 with value: 0.04097575338794001.\n",
      "[I 2023-12-17 12:19:06,941] Trial 4 finished with value: 0.04722623067167061 and parameters: {'topK': 315, 'alpha': 0.357618879570365, 'implicit': True, 'normalize_similarity': False}. Best is trial 4 with value: 0.04722623067167061.\n",
      "[I 2023-12-17 12:19:41,858] Trial 5 finished with value: 0.04102537118017507 and parameters: {'topK': 662, 'alpha': 1.7524786654904496, 'implicit': True, 'normalize_similarity': True}. Best is trial 4 with value: 0.04722623067167061.\n",
      "[I 2023-12-17 12:20:20,204] Trial 6 finished with value: 0.034651765085678916 and parameters: {'topK': 873, 'alpha': 1.9681055736512916, 'implicit': True, 'normalize_similarity': True}. Best is trial 4 with value: 0.04722623067167061.\n",
      "[I 2023-12-17 12:20:55,997] Trial 7 finished with value: 0.04169820990734244 and parameters: {'topK': 855, 'alpha': 1.7248993215796236, 'implicit': True, 'normalize_similarity': True}. Best is trial 4 with value: 0.04722623067167061.\n",
      "[I 2023-12-17 12:21:33,071] Trial 8 finished with value: 0.045654289283033146 and parameters: {'topK': 781, 'alpha': 0.483004696032705, 'implicit': False, 'normalize_similarity': False}. Best is trial 4 with value: 0.04722623067167061.\n",
      "[I 2023-12-17 12:22:01,900] Trial 9 finished with value: 0.04325042069604997 and parameters: {'topK': 370, 'alpha': 0.10994712045302757, 'implicit': True, 'normalize_similarity': False}. Best is trial 4 with value: 0.04722623067167061.\n",
      "[I 2023-12-17 12:22:23,141] Trial 10 finished with value: 0.07733804131467319 and parameters: {'topK': 29, 'alpha': 0.681126552511346, 'implicit': True, 'normalize_similarity': True}. Best is trial 10 with value: 0.07733804131467319.\n",
      "[I 2023-12-17 12:22:44,335] Trial 11 finished with value: 0.035498425323113966 and parameters: {'topK': 3, 'alpha': 0.6469722980227872, 'implicit': True, 'normalize_similarity': True}. Best is trial 10 with value: 0.07733804131467319.\n",
      "[I 2023-12-17 12:23:07,381] Trial 12 finished with value: 0.07889439247244621 and parameters: {'topK': 60, 'alpha': 0.6701379073319558, 'implicit': True, 'normalize_similarity': True}. Best is trial 12 with value: 0.07889439247244621.\n",
      "[I 2023-12-17 12:23:28,884] Trial 13 finished with value: 0.07593476351763394 and parameters: {'topK': 56, 'alpha': 0.814203367319965, 'implicit': True, 'normalize_similarity': True}. Best is trial 12 with value: 0.07889439247244621.\n",
      "[I 2023-12-17 12:23:52,510] Trial 14 finished with value: 0.07543116905696824 and parameters: {'topK': 168, 'alpha': 0.8613986921637158, 'implicit': True, 'normalize_similarity': True}. Best is trial 12 with value: 0.07889439247244621.\n",
      "[I 2023-12-17 12:24:15,310] Trial 15 finished with value: 0.07803205541121988 and parameters: {'topK': 183, 'alpha': 0.4117465318254364, 'implicit': True, 'normalize_similarity': True}. Best is trial 12 with value: 0.07889439247244621.\n",
      "[I 2023-12-17 12:24:41,384] Trial 16 finished with value: 0.07630408920855644 and parameters: {'topK': 217, 'alpha': 0.2909328976530817, 'implicit': True, 'normalize_similarity': True}. Best is trial 12 with value: 0.07889439247244621.\n",
      "[I 2023-12-17 12:25:02,376] Trial 17 finished with value: 0.07903986631880773 and parameters: {'topK': 171, 'alpha': 0.5268063522554519, 'implicit': True, 'normalize_similarity': True}. Best is trial 17 with value: 0.07903986631880773.\n",
      "[I 2023-12-17 12:25:33,304] Trial 18 finished with value: 0.06860759092365588 and parameters: {'topK': 511, 'alpha': 0.961938306476087, 'implicit': True, 'normalize_similarity': True}. Best is trial 17 with value: 0.07903986631880773.\n",
      "[I 2023-12-17 12:26:09,961] Trial 19 finished with value: 0.06416146179712554 and parameters: {'topK': 994, 'alpha': 0.6064087489363363, 'implicit': True, 'normalize_similarity': True}. Best is trial 17 with value: 0.07903986631880773.\n",
      "[I 2023-12-17 12:26:30,810] Trial 20 finished with value: 0.050328167868236 and parameters: {'topK': 116, 'alpha': 1.4987480540279474, 'implicit': True, 'normalize_similarity': True}. Best is trial 17 with value: 0.07903986631880773.\n",
      "[I 2023-12-17 12:26:53,379] Trial 21 finished with value: 0.075397945495434 and parameters: {'topK': 245, 'alpha': 0.3289700546778773, 'implicit': True, 'normalize_similarity': True}. Best is trial 17 with value: 0.07903986631880773.\n",
      "[I 2023-12-17 12:27:16,728] Trial 22 finished with value: 0.07985581996445573 and parameters: {'topK': 128, 'alpha': 0.508195321580321, 'implicit': True, 'normalize_similarity': True}. Best is trial 22 with value: 0.07985581996445573.\n",
      "[I 2023-12-17 12:27:40,887] Trial 23 finished with value: 0.08004655180408132 and parameters: {'topK': 102, 'alpha': 0.5750257857674983, 'implicit': True, 'normalize_similarity': True}. Best is trial 23 with value: 0.08004655180408132.\n",
      "[I 2023-12-17 12:28:06,495] Trial 24 finished with value: 0.07286520406009707 and parameters: {'topK': 276, 'alpha': 0.17995749381041648, 'implicit': True, 'normalize_similarity': True}. Best is trial 23 with value: 0.08004655180408132.\n",
      "[I 2023-12-17 12:28:36,398] Trial 25 finished with value: 0.06920250322014992 and parameters: {'topK': 472, 'alpha': 0.4826324848109592, 'implicit': True, 'normalize_similarity': True}. Best is trial 23 with value: 0.08004655180408132.\n",
      "[I 2023-12-17 12:28:59,948] Trial 26 finished with value: 0.07588401965641986 and parameters: {'topK': 132, 'alpha': 0.8477718413083954, 'implicit': False, 'normalize_similarity': True}. Best is trial 23 with value: 0.08004655180408132.\n",
      "[I 2023-12-17 12:29:23,193] Trial 27 finished with value: 0.08014366539564227 and parameters: {'topK': 134, 'alpha': 0.24748080817040963, 'implicit': True, 'normalize_similarity': True}. Best is trial 27 with value: 0.08014366539564227.\n",
      "[I 2023-12-17 12:29:46,131] Trial 28 finished with value: 0.07032603056591351 and parameters: {'topK': 97, 'alpha': 1.0331579976094827, 'implicit': True, 'normalize_similarity': True}. Best is trial 27 with value: 0.08014366539564227.\n",
      "[I 2023-12-17 12:30:16,442] Trial 29 finished with value: 0.06710793360486256 and parameters: {'topK': 442, 'alpha': 0.01132177282384167, 'implicit': False, 'normalize_similarity': True}. Best is trial 27 with value: 0.08014366539564227.\n",
      "[I 2023-12-17 12:30:44,706] Trial 30 finished with value: 0.07475645157308444 and parameters: {'topK': 247, 'alpha': 0.23168474546877182, 'implicit': True, 'normalize_similarity': True}. Best is trial 27 with value: 0.08014366539564227.\n",
      "[I 2023-12-17 12:31:10,351] Trial 31 finished with value: 0.07916073778821937 and parameters: {'topK': 158, 'alpha': 0.4693859459946646, 'implicit': True, 'normalize_similarity': True}. Best is trial 27 with value: 0.08014366539564227.\n",
      "[I 2023-12-17 12:31:33,141] Trial 32 finished with value: 0.08009881600429278 and parameters: {'topK': 124, 'alpha': 0.17339273495623753, 'implicit': True, 'normalize_similarity': True}. Best is trial 27 with value: 0.08014366539564227.\n",
      "[I 2023-12-17 12:31:56,733] Trial 33 finished with value: 0.08114510012825234 and parameters: {'topK': 72, 'alpha': 0.13357825402212292, 'implicit': True, 'normalize_similarity': True}. Best is trial 33 with value: 0.08114510012825234.\n",
      "[W 2023-12-17 12:32:14,102] Trial 34 failed with parameters: {'topK': 74, 'alpha': 0.09276672001861405, 'implicit': False, 'normalize_similarity': False} because of the following error: KeyboardInterrupt().\n",
      "Traceback (most recent call last):\n",
      "  File \"/home/kinami/.conda/envs/RecSysFramework/lib/python3.8/site-packages/optuna/study/_optimize.py\", line 200, in _run_trial\n",
      "    value_or_values = func(trial)\n",
      "  File \"/tmp/ipykernel_15634/824872364.py\", line 16, in objective\n",
      "    _, _, ev_map, _, _ = evaluator(recommender, data_train, data_val)\n",
      "  File \"/home/kinami/code/rcs/utils.py\", line 146, in evaluator\n",
      "    accum_precision += precision(recommendations, relevant_items)\n",
      "  File \"/home/kinami/code/rcs/utils.py\", line 99, in precision\n",
      "    is_relevant = np.in1d(recommendations, relevant_items, assume_unique=True)\n",
      "  File \"<__array_function__ internals>\", line 200, in in1d\n",
      "  File \"/home/kinami/.conda/envs/RecSysFramework/lib/python3.8/site-packages/numpy/lib/arraysetops.py\", line 741, in in1d\n",
      "    ar = np.concatenate((ar1, ar2))\n",
      "  File \"<__array_function__ internals>\", line 200, in concatenate\n",
      "KeyboardInterrupt\n",
      "[W 2023-12-17 12:32:14,113] Trial 34 failed with value None.\n"
     ]
    },
    {
     "ename": "KeyboardInterrupt",
     "evalue": "",
     "output_type": "error",
     "traceback": [
      "\u001b[0;31m---------------------------------------------------------------------------\u001b[0m",
      "\u001b[0;31mKeyboardInterrupt\u001b[0m                         Traceback (most recent call last)",
      "Cell \u001b[0;32mIn[4], line 20\u001b[0m\n\u001b[1;32m     16\u001b[0m     _, _, ev_map, _, _ \u001b[38;5;241m=\u001b[39m evaluator(recommender, data_train, data_val)\n\u001b[1;32m     18\u001b[0m     \u001b[38;5;28;01mreturn\u001b[39;00m ev_map\n\u001b[0;32m---> 20\u001b[0m \u001b[43mstudy\u001b[49m\u001b[38;5;241;43m.\u001b[39;49m\u001b[43moptimize\u001b[49m\u001b[43m(\u001b[49m\u001b[43mobjective\u001b[49m\u001b[43m,\u001b[49m\u001b[43m \u001b[49m\u001b[43mn_trials\u001b[49m\u001b[38;5;241;43m=\u001b[39;49m\u001b[38;5;241;43m150\u001b[39;49m\u001b[43m)\u001b[49m\n",
      "File \u001b[0;32m~/.conda/envs/RecSysFramework/lib/python3.8/site-packages/optuna/study/study.py:451\u001b[0m, in \u001b[0;36mStudy.optimize\u001b[0;34m(self, func, n_trials, timeout, n_jobs, catch, callbacks, gc_after_trial, show_progress_bar)\u001b[0m\n\u001b[1;32m    348\u001b[0m \u001b[38;5;28;01mdef\u001b[39;00m \u001b[38;5;21moptimize\u001b[39m(\n\u001b[1;32m    349\u001b[0m     \u001b[38;5;28mself\u001b[39m,\n\u001b[1;32m    350\u001b[0m     func: ObjectiveFuncType,\n\u001b[0;32m   (...)\u001b[0m\n\u001b[1;32m    357\u001b[0m     show_progress_bar: \u001b[38;5;28mbool\u001b[39m \u001b[38;5;241m=\u001b[39m \u001b[38;5;28;01mFalse\u001b[39;00m,\n\u001b[1;32m    358\u001b[0m ) \u001b[38;5;241m-\u001b[39m\u001b[38;5;241m>\u001b[39m \u001b[38;5;28;01mNone\u001b[39;00m:\n\u001b[1;32m    359\u001b[0m \u001b[38;5;250m    \u001b[39m\u001b[38;5;124;03m\"\"\"Optimize an objective function.\u001b[39;00m\n\u001b[1;32m    360\u001b[0m \n\u001b[1;32m    361\u001b[0m \u001b[38;5;124;03m    Optimization is done by choosing a suitable set of hyperparameter values from a given\u001b[39;00m\n\u001b[0;32m   (...)\u001b[0m\n\u001b[1;32m    449\u001b[0m \u001b[38;5;124;03m            If nested invocation of this method occurs.\u001b[39;00m\n\u001b[1;32m    450\u001b[0m \u001b[38;5;124;03m    \"\"\"\u001b[39;00m\n\u001b[0;32m--> 451\u001b[0m     \u001b[43m_optimize\u001b[49m\u001b[43m(\u001b[49m\n\u001b[1;32m    452\u001b[0m \u001b[43m        \u001b[49m\u001b[43mstudy\u001b[49m\u001b[38;5;241;43m=\u001b[39;49m\u001b[38;5;28;43mself\u001b[39;49m\u001b[43m,\u001b[49m\n\u001b[1;32m    453\u001b[0m \u001b[43m        \u001b[49m\u001b[43mfunc\u001b[49m\u001b[38;5;241;43m=\u001b[39;49m\u001b[43mfunc\u001b[49m\u001b[43m,\u001b[49m\n\u001b[1;32m    454\u001b[0m \u001b[43m        \u001b[49m\u001b[43mn_trials\u001b[49m\u001b[38;5;241;43m=\u001b[39;49m\u001b[43mn_trials\u001b[49m\u001b[43m,\u001b[49m\n\u001b[1;32m    455\u001b[0m \u001b[43m        \u001b[49m\u001b[43mtimeout\u001b[49m\u001b[38;5;241;43m=\u001b[39;49m\u001b[43mtimeout\u001b[49m\u001b[43m,\u001b[49m\n\u001b[1;32m    456\u001b[0m \u001b[43m        \u001b[49m\u001b[43mn_jobs\u001b[49m\u001b[38;5;241;43m=\u001b[39;49m\u001b[43mn_jobs\u001b[49m\u001b[43m,\u001b[49m\n\u001b[1;32m    457\u001b[0m \u001b[43m        \u001b[49m\u001b[43mcatch\u001b[49m\u001b[38;5;241;43m=\u001b[39;49m\u001b[38;5;28;43mtuple\u001b[39;49m\u001b[43m(\u001b[49m\u001b[43mcatch\u001b[49m\u001b[43m)\u001b[49m\u001b[43m \u001b[49m\u001b[38;5;28;43;01mif\u001b[39;49;00m\u001b[43m \u001b[49m\u001b[38;5;28;43misinstance\u001b[39;49m\u001b[43m(\u001b[49m\u001b[43mcatch\u001b[49m\u001b[43m,\u001b[49m\u001b[43m \u001b[49m\u001b[43mIterable\u001b[49m\u001b[43m)\u001b[49m\u001b[43m \u001b[49m\u001b[38;5;28;43;01melse\u001b[39;49;00m\u001b[43m \u001b[49m\u001b[43m(\u001b[49m\u001b[43mcatch\u001b[49m\u001b[43m,\u001b[49m\u001b[43m)\u001b[49m\u001b[43m,\u001b[49m\n\u001b[1;32m    458\u001b[0m \u001b[43m        \u001b[49m\u001b[43mcallbacks\u001b[49m\u001b[38;5;241;43m=\u001b[39;49m\u001b[43mcallbacks\u001b[49m\u001b[43m,\u001b[49m\n\u001b[1;32m    459\u001b[0m \u001b[43m        \u001b[49m\u001b[43mgc_after_trial\u001b[49m\u001b[38;5;241;43m=\u001b[39;49m\u001b[43mgc_after_trial\u001b[49m\u001b[43m,\u001b[49m\n\u001b[1;32m    460\u001b[0m \u001b[43m        \u001b[49m\u001b[43mshow_progress_bar\u001b[49m\u001b[38;5;241;43m=\u001b[39;49m\u001b[43mshow_progress_bar\u001b[49m\u001b[43m,\u001b[49m\n\u001b[1;32m    461\u001b[0m \u001b[43m    \u001b[49m\u001b[43m)\u001b[49m\n",
      "File \u001b[0;32m~/.conda/envs/RecSysFramework/lib/python3.8/site-packages/optuna/study/_optimize.py:66\u001b[0m, in \u001b[0;36m_optimize\u001b[0;34m(study, func, n_trials, timeout, n_jobs, catch, callbacks, gc_after_trial, show_progress_bar)\u001b[0m\n\u001b[1;32m     64\u001b[0m \u001b[38;5;28;01mtry\u001b[39;00m:\n\u001b[1;32m     65\u001b[0m     \u001b[38;5;28;01mif\u001b[39;00m n_jobs \u001b[38;5;241m==\u001b[39m \u001b[38;5;241m1\u001b[39m:\n\u001b[0;32m---> 66\u001b[0m         \u001b[43m_optimize_sequential\u001b[49m\u001b[43m(\u001b[49m\n\u001b[1;32m     67\u001b[0m \u001b[43m            \u001b[49m\u001b[43mstudy\u001b[49m\u001b[43m,\u001b[49m\n\u001b[1;32m     68\u001b[0m \u001b[43m            \u001b[49m\u001b[43mfunc\u001b[49m\u001b[43m,\u001b[49m\n\u001b[1;32m     69\u001b[0m \u001b[43m            \u001b[49m\u001b[43mn_trials\u001b[49m\u001b[43m,\u001b[49m\n\u001b[1;32m     70\u001b[0m \u001b[43m            \u001b[49m\u001b[43mtimeout\u001b[49m\u001b[43m,\u001b[49m\n\u001b[1;32m     71\u001b[0m \u001b[43m            \u001b[49m\u001b[43mcatch\u001b[49m\u001b[43m,\u001b[49m\n\u001b[1;32m     72\u001b[0m \u001b[43m            \u001b[49m\u001b[43mcallbacks\u001b[49m\u001b[43m,\u001b[49m\n\u001b[1;32m     73\u001b[0m \u001b[43m            \u001b[49m\u001b[43mgc_after_trial\u001b[49m\u001b[43m,\u001b[49m\n\u001b[1;32m     74\u001b[0m \u001b[43m            \u001b[49m\u001b[43mreseed_sampler_rng\u001b[49m\u001b[38;5;241;43m=\u001b[39;49m\u001b[38;5;28;43;01mFalse\u001b[39;49;00m\u001b[43m,\u001b[49m\n\u001b[1;32m     75\u001b[0m \u001b[43m            \u001b[49m\u001b[43mtime_start\u001b[49m\u001b[38;5;241;43m=\u001b[39;49m\u001b[38;5;28;43;01mNone\u001b[39;49;00m\u001b[43m,\u001b[49m\n\u001b[1;32m     76\u001b[0m \u001b[43m            \u001b[49m\u001b[43mprogress_bar\u001b[49m\u001b[38;5;241;43m=\u001b[39;49m\u001b[43mprogress_bar\u001b[49m\u001b[43m,\u001b[49m\n\u001b[1;32m     77\u001b[0m \u001b[43m        \u001b[49m\u001b[43m)\u001b[49m\n\u001b[1;32m     78\u001b[0m     \u001b[38;5;28;01melse\u001b[39;00m:\n\u001b[1;32m     79\u001b[0m         \u001b[38;5;28;01mif\u001b[39;00m n_jobs \u001b[38;5;241m==\u001b[39m \u001b[38;5;241m-\u001b[39m\u001b[38;5;241m1\u001b[39m:\n",
      "File \u001b[0;32m~/.conda/envs/RecSysFramework/lib/python3.8/site-packages/optuna/study/_optimize.py:163\u001b[0m, in \u001b[0;36m_optimize_sequential\u001b[0;34m(study, func, n_trials, timeout, catch, callbacks, gc_after_trial, reseed_sampler_rng, time_start, progress_bar)\u001b[0m\n\u001b[1;32m    160\u001b[0m         \u001b[38;5;28;01mbreak\u001b[39;00m\n\u001b[1;32m    162\u001b[0m \u001b[38;5;28;01mtry\u001b[39;00m:\n\u001b[0;32m--> 163\u001b[0m     frozen_trial \u001b[38;5;241m=\u001b[39m \u001b[43m_run_trial\u001b[49m\u001b[43m(\u001b[49m\u001b[43mstudy\u001b[49m\u001b[43m,\u001b[49m\u001b[43m \u001b[49m\u001b[43mfunc\u001b[49m\u001b[43m,\u001b[49m\u001b[43m \u001b[49m\u001b[43mcatch\u001b[49m\u001b[43m)\u001b[49m\n\u001b[1;32m    164\u001b[0m \u001b[38;5;28;01mfinally\u001b[39;00m:\n\u001b[1;32m    165\u001b[0m     \u001b[38;5;66;03m# The following line mitigates memory problems that can be occurred in some\u001b[39;00m\n\u001b[1;32m    166\u001b[0m     \u001b[38;5;66;03m# environments (e.g., services that use computing containers such as GitHub Actions).\u001b[39;00m\n\u001b[1;32m    167\u001b[0m     \u001b[38;5;66;03m# Please refer to the following PR for further details:\u001b[39;00m\n\u001b[1;32m    168\u001b[0m     \u001b[38;5;66;03m# https://github.com/optuna/optuna/pull/325.\u001b[39;00m\n\u001b[1;32m    169\u001b[0m     \u001b[38;5;28;01mif\u001b[39;00m gc_after_trial:\n",
      "File \u001b[0;32m~/.conda/envs/RecSysFramework/lib/python3.8/site-packages/optuna/study/_optimize.py:251\u001b[0m, in \u001b[0;36m_run_trial\u001b[0;34m(study, func, catch)\u001b[0m\n\u001b[1;32m    244\u001b[0m         \u001b[38;5;28;01massert\u001b[39;00m \u001b[38;5;28;01mFalse\u001b[39;00m, \u001b[38;5;124m\"\u001b[39m\u001b[38;5;124mShould not reach.\u001b[39m\u001b[38;5;124m\"\u001b[39m\n\u001b[1;32m    246\u001b[0m \u001b[38;5;28;01mif\u001b[39;00m (\n\u001b[1;32m    247\u001b[0m     frozen_trial\u001b[38;5;241m.\u001b[39mstate \u001b[38;5;241m==\u001b[39m TrialState\u001b[38;5;241m.\u001b[39mFAIL\n\u001b[1;32m    248\u001b[0m     \u001b[38;5;129;01mand\u001b[39;00m func_err \u001b[38;5;129;01mis\u001b[39;00m \u001b[38;5;129;01mnot\u001b[39;00m \u001b[38;5;28;01mNone\u001b[39;00m\n\u001b[1;32m    249\u001b[0m     \u001b[38;5;129;01mand\u001b[39;00m \u001b[38;5;129;01mnot\u001b[39;00m \u001b[38;5;28misinstance\u001b[39m(func_err, catch)\n\u001b[1;32m    250\u001b[0m ):\n\u001b[0;32m--> 251\u001b[0m     \u001b[38;5;28;01mraise\u001b[39;00m func_err\n\u001b[1;32m    252\u001b[0m \u001b[38;5;28;01mreturn\u001b[39;00m frozen_trial\n",
      "File \u001b[0;32m~/.conda/envs/RecSysFramework/lib/python3.8/site-packages/optuna/study/_optimize.py:200\u001b[0m, in \u001b[0;36m_run_trial\u001b[0;34m(study, func, catch)\u001b[0m\n\u001b[1;32m    198\u001b[0m \u001b[38;5;28;01mwith\u001b[39;00m get_heartbeat_thread(trial\u001b[38;5;241m.\u001b[39m_trial_id, study\u001b[38;5;241m.\u001b[39m_storage):\n\u001b[1;32m    199\u001b[0m     \u001b[38;5;28;01mtry\u001b[39;00m:\n\u001b[0;32m--> 200\u001b[0m         value_or_values \u001b[38;5;241m=\u001b[39m \u001b[43mfunc\u001b[49m\u001b[43m(\u001b[49m\u001b[43mtrial\u001b[49m\u001b[43m)\u001b[49m\n\u001b[1;32m    201\u001b[0m     \u001b[38;5;28;01mexcept\u001b[39;00m exceptions\u001b[38;5;241m.\u001b[39mTrialPruned \u001b[38;5;28;01mas\u001b[39;00m e:\n\u001b[1;32m    202\u001b[0m         \u001b[38;5;66;03m# TODO(mamu): Handle multi-objective cases.\u001b[39;00m\n\u001b[1;32m    203\u001b[0m         state \u001b[38;5;241m=\u001b[39m TrialState\u001b[38;5;241m.\u001b[39mPRUNED\n",
      "Cell \u001b[0;32mIn[4], line 16\u001b[0m, in \u001b[0;36mobjective\u001b[0;34m(trial)\u001b[0m\n\u001b[1;32m      9\u001b[0m recommender \u001b[38;5;241m=\u001b[39m P3alphaRecommender(data_train, verbose\u001b[38;5;241m=\u001b[39m\u001b[38;5;28;01mFalse\u001b[39;00m)\n\u001b[1;32m     10\u001b[0m recommender\u001b[38;5;241m.\u001b[39mfit(\n\u001b[1;32m     11\u001b[0m     topK\u001b[38;5;241m=\u001b[39mtopK,\n\u001b[1;32m     12\u001b[0m     alpha\u001b[38;5;241m=\u001b[39malpha,\n\u001b[1;32m     13\u001b[0m     implicit\u001b[38;5;241m=\u001b[39mimplicit,\n\u001b[1;32m     14\u001b[0m     normalize_similarity\u001b[38;5;241m=\u001b[39mnormalize_similarity,\n\u001b[1;32m     15\u001b[0m )\n\u001b[0;32m---> 16\u001b[0m _, _, ev_map, _, _ \u001b[38;5;241m=\u001b[39m \u001b[43mevaluator\u001b[49m\u001b[43m(\u001b[49m\u001b[43mrecommender\u001b[49m\u001b[43m,\u001b[49m\u001b[43m \u001b[49m\u001b[43mdata_train\u001b[49m\u001b[43m,\u001b[49m\u001b[43m \u001b[49m\u001b[43mdata_val\u001b[49m\u001b[43m)\u001b[49m\n\u001b[1;32m     18\u001b[0m \u001b[38;5;28;01mreturn\u001b[39;00m ev_map\n",
      "File \u001b[0;32m~/code/rcs/utils.py:146\u001b[0m, in \u001b[0;36mevaluator\u001b[0;34m(recommender, data_train, data_test, recommendation_length)\u001b[0m\n\u001b[1;32m    141\u001b[0m     \u001b[38;5;28;01mcontinue\u001b[39;00m\n\u001b[1;32m    143\u001b[0m recommendations \u001b[38;5;241m=\u001b[39m np\u001b[38;5;241m.\u001b[39marray(recommender\u001b[38;5;241m.\u001b[39mrecommend(user_id,\n\u001b[1;32m    144\u001b[0m                                         cutoff\u001b[38;5;241m=\u001b[39mrecommendation_length))\n\u001b[0;32m--> 146\u001b[0m accum_precision \u001b[38;5;241m+\u001b[39m\u001b[38;5;241m=\u001b[39m \u001b[43mprecision\u001b[49m\u001b[43m(\u001b[49m\u001b[43mrecommendations\u001b[49m\u001b[43m,\u001b[49m\u001b[43m \u001b[49m\u001b[43mrelevant_items\u001b[49m\u001b[43m)\u001b[49m\n\u001b[1;32m    147\u001b[0m accum_recall \u001b[38;5;241m+\u001b[39m\u001b[38;5;241m=\u001b[39m recall(recommendations, relevant_items)\n\u001b[1;32m    148\u001b[0m accum_map \u001b[38;5;241m+\u001b[39m\u001b[38;5;241m=\u001b[39m mean_average_precision(recommendations, relevant_items)\n",
      "File \u001b[0;32m~/code/rcs/utils.py:99\u001b[0m, in \u001b[0;36mprecision\u001b[0;34m(recommendations, relevant_items)\u001b[0m\n\u001b[1;32m     98\u001b[0m \u001b[38;5;28;01mdef\u001b[39;00m \u001b[38;5;21mprecision\u001b[39m(recommendations: np\u001b[38;5;241m.\u001b[39marray, relevant_items: np\u001b[38;5;241m.\u001b[39marray) \u001b[38;5;241m-\u001b[39m\u001b[38;5;241m>\u001b[39m \u001b[38;5;28mfloat\u001b[39m:\n\u001b[0;32m---> 99\u001b[0m     is_relevant \u001b[38;5;241m=\u001b[39m \u001b[43mnp\u001b[49m\u001b[38;5;241;43m.\u001b[39;49m\u001b[43min1d\u001b[49m\u001b[43m(\u001b[49m\u001b[43mrecommendations\u001b[49m\u001b[43m,\u001b[49m\u001b[43m \u001b[49m\u001b[43mrelevant_items\u001b[49m\u001b[43m,\u001b[49m\u001b[43m \u001b[49m\u001b[43massume_unique\u001b[49m\u001b[38;5;241;43m=\u001b[39;49m\u001b[38;5;28;43;01mTrue\u001b[39;49;00m\u001b[43m)\u001b[49m\n\u001b[1;32m    101\u001b[0m     precision_score \u001b[38;5;241m=\u001b[39m np\u001b[38;5;241m.\u001b[39msum(is_relevant) \u001b[38;5;241m/\u001b[39m recommendations\u001b[38;5;241m.\u001b[39mshape[\u001b[38;5;241m0\u001b[39m]\n\u001b[1;32m    103\u001b[0m     \u001b[38;5;28;01mreturn\u001b[39;00m precision_score\n",
      "File \u001b[0;32m<__array_function__ internals>:200\u001b[0m, in \u001b[0;36min1d\u001b[0;34m(*args, **kwargs)\u001b[0m\n",
      "File \u001b[0;32m~/.conda/envs/RecSysFramework/lib/python3.8/site-packages/numpy/lib/arraysetops.py:741\u001b[0m, in \u001b[0;36min1d\u001b[0;34m(ar1, ar2, assume_unique, invert, kind)\u001b[0m\n\u001b[1;32m    738\u001b[0m     ar1, rev_idx \u001b[38;5;241m=\u001b[39m np\u001b[38;5;241m.\u001b[39munique(ar1, return_inverse\u001b[38;5;241m=\u001b[39m\u001b[38;5;28;01mTrue\u001b[39;00m)\n\u001b[1;32m    739\u001b[0m     ar2 \u001b[38;5;241m=\u001b[39m np\u001b[38;5;241m.\u001b[39munique(ar2)\n\u001b[0;32m--> 741\u001b[0m ar \u001b[38;5;241m=\u001b[39m \u001b[43mnp\u001b[49m\u001b[38;5;241;43m.\u001b[39;49m\u001b[43mconcatenate\u001b[49m\u001b[43m(\u001b[49m\u001b[43m(\u001b[49m\u001b[43mar1\u001b[49m\u001b[43m,\u001b[49m\u001b[43m \u001b[49m\u001b[43mar2\u001b[49m\u001b[43m)\u001b[49m\u001b[43m)\u001b[49m\n\u001b[1;32m    742\u001b[0m \u001b[38;5;66;03m# We need this to be a stable sort, so always use 'mergesort'\u001b[39;00m\n\u001b[1;32m    743\u001b[0m \u001b[38;5;66;03m# here. The values from the first array should always come before\u001b[39;00m\n\u001b[1;32m    744\u001b[0m \u001b[38;5;66;03m# the values from the second array.\u001b[39;00m\n\u001b[1;32m    745\u001b[0m order \u001b[38;5;241m=\u001b[39m ar\u001b[38;5;241m.\u001b[39margsort(kind\u001b[38;5;241m=\u001b[39m\u001b[38;5;124m'\u001b[39m\u001b[38;5;124mmergesort\u001b[39m\u001b[38;5;124m'\u001b[39m)\n",
      "File \u001b[0;32m<__array_function__ internals>:200\u001b[0m, in \u001b[0;36mconcatenate\u001b[0;34m(*args, **kwargs)\u001b[0m\n",
      "\u001b[0;31mKeyboardInterrupt\u001b[0m: "
     ]
    }
   ],
   "source": [
    "from Recommenders.GraphBased.P3alphaRecommender import P3alphaRecommender\n",
    "\n",
    "def objective(trial):\n",
    "    topK = trial.suggest_int('topK', 1, 1000)\n",
    "    alpha = trial.suggest_float('alpha', 0, 2)\n",
    "    implicit = trial.suggest_categorical('implicit', [True, False])\n",
    "    normalize_similarity = trial.suggest_categorical('normalize_similarity', [True, False])\n",
    "    \n",
    "    recommender = P3alphaRecommender(data_train, verbose=False)\n",
    "    recommender.fit(\n",
    "        topK=topK,\n",
    "        alpha=alpha,\n",
    "        implicit=implicit,\n",
    "        normalize_similarity=normalize_similarity,\n",
    "    )\n",
    "    _, _, ev_map, _, _ = evaluator(recommender, data_train, data_val)\n",
    "    \n",
    "    return ev_map\n",
    "\n",
    "study.optimize(objective, n_trials=150)"
   ]
  },
  {
   "cell_type": "code",
   "execution_count": null,
   "metadata": {},
   "outputs": [],
   "source": [
    "study.best_params"
   ]
  },
  {
   "cell_type": "code",
   "execution_count": null,
   "metadata": {},
   "outputs": [],
   "source": [
    "from Recommenders.GraphBased.P3alphaRecommender import P3alphaRecommender\n",
    "\n",
    "recommender = P3alphaRecommender(data_train, verbose=False)\n",
    "recommender.fit(**study.best_params)"
   ]
  },
  {
   "cell_type": "code",
   "execution_count": null,
   "metadata": {},
   "outputs": [],
   "source": [
    "pr, re, ev_map, ev_ndcg, ev_auc = evaluator(recommender, data_train, data_val)\n",
    "print(\"Precision: {:.8f}\".format(pr))\n",
    "print(\"Recall: {:.8f}\".format(re))\n",
    "print(\"MAP: {:.8f}\".format(ev_map))"
   ]
  },
  {
   "cell_type": "code",
   "execution_count": null,
   "metadata": {},
   "outputs": [],
   "source": [
    "submission2(recommender, users, usermap, itemmap, data_train)"
   ]
  },
  {
   "cell_type": "code",
   "execution_count": null,
   "metadata": {},
   "outputs": [],
   "source": []
  }
 ],
 "metadata": {
  "kernelspec": {
   "display_name": "venv",
   "language": "python",
   "name": "python3"
  },
  "language_info": {
   "codemirror_mode": {
    "name": "ipython",
    "version": 3
   },
   "file_extension": ".py",
   "mimetype": "text/x-python",
   "name": "python",
   "nbconvert_exporter": "python",
   "pygments_lexer": "ipython3",
   "version": "3.8.18"
  }
 },
 "nbformat": 4,
 "nbformat_minor": 2
}
