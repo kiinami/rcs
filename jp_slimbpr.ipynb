{
 "cells": [
  {
   "cell_type": "code",
   "execution_count": null,
   "metadata": {},
   "outputs": [],
   "source": [
    "import os\n",
    "\n",
    "import optuna\n",
    "\n",
    "from utils import *\n",
    "from Recommenders.DataIO import DataIO\n",
    "from Evaluation.Evaluator import EvaluatorHoldout\n",
    "from Recommenders.SLIM.Cython.SLIM_BPR_Cython import SLIM_BPR_Cython"
   ]
  },
  {
   "cell_type": "code",
   "execution_count": null,
   "metadata": {},
   "outputs": [],
   "source": [
    "data = load_data()\n",
    "users = load_users()\n",
    "data, num_users, num_items, mapping_user_id = preprocess_data(data)\n",
    "data_train, data_validation, data_test = split_data(\n",
    "    data,\n",
    "    num_users=num_users,\n",
    "    num_items=num_items,\n",
    "    validation_percentage=0.2,\n",
    "    testing_percentage=0.20\n",
    ")"
   ]
  },
  {
   "cell_type": "code",
   "execution_count": null,
   "metadata": {},
   "outputs": [],
   "source": [
    "study_name = \"SLIMBPR\"\n",
    "study = optuna.create_study(\n",
    "    study_name=study_name,\n",
    "    storage=get_database_url(),\n",
    "    load_if_exists=True,\n",
    "    direction=\"maximize\",\n",
    ")"
   ]
  },
  {
   "cell_type": "code",
   "execution_count": null,
   "metadata": {},
   "outputs": [],
   "source": [
    "from Recommenders.SLIM.Cython.SLIM_BPR_Cython import SLIM_BPR_Cython\n",
    "\n",
    "def objective(trial):\n",
    "    epochs = trial.suggest_int('epochs', 1, 500, log=True)\n",
    "    symmetric = trial.suggest_categorical('symmetric', [True, False])\n",
    "    lambda_i = trial.suggest_float('lambda_i', 1e-8, 1, log=True)\n",
    "    lambda_j = trial.suggest_float('lambda_j', 1e-8, 1, log=True)\n",
    "    learning_rate = trial.suggest_float('learning_rate', 1e-8, 1, log=True)\n",
    "    topK = trial.suggest_int('topK', 1, 1000, log=True)\n",
    "    sgd_mode = trial.suggest_categorical('sgd_mode', [\"sgd\", \"adagrad\", \"adam\"])\n",
    "    gamma = trial.suggest_float('gamma', 1e-8, 1, log=True)\n",
    "    beta_1 = trial.suggest_float('beta_1', 1e-8, 1, log=True)\n",
    "    beta_2 = trial.suggest_float('beta_2', 1e-8, 1, log=True)\n",
    "    \n",
    "    recommender = SLIM_BPR_Cython(data_train, verbose=False)\n",
    "    recommender.fit(\n",
    "        epochs=epochs,\n",
    "        symmetric=symmetric,\n",
    "        lambda_i=lambda_i,\n",
    "        lambda_j=lambda_j,\n",
    "        learning_rate=learning_rate,\n",
    "        topK=topK,\n",
    "        sgd_mode=sgd_mode,\n",
    "        gamma=gamma,\n",
    "        beta_1=beta_1,\n",
    "        beta_2=beta_2,\n",
    "    )\n",
    "    _, _, ev_map, _, _ = evaluator(recommender, data_train, data_validation)\n",
    "    \n",
    "    return ev_map\n",
    "\n",
    "study.optimize(objective, n_trials=300)"
   ]
  },
  {
   "cell_type": "code",
   "execution_count": null,
   "metadata": {},
   "outputs": [],
   "source": [
    "study.best_params"
   ]
  },
  {
   "cell_type": "code",
   "execution_count": null,
   "metadata": {},
   "outputs": [],
   "source": [
    "recommender = SLIM_BPR_Cython(data_train, verbose=False)\n",
    "recommender.fit(**study.best_params)\n",
    "write_submission(prepare_submission(data, users, data_train, recommender))"
   ]
  },
  {
   "cell_type": "code",
   "execution_count": null,
   "metadata": {},
   "outputs": [],
   "source": []
  }
 ],
 "metadata": {
  "kernelspec": {
   "display_name": "venv",
   "language": "python",
   "name": "python3"
  },
  "language_info": {
   "codemirror_mode": {
    "name": "ipython",
    "version": 3
   },
   "file_extension": ".py",
   "mimetype": "text/x-python",
   "name": "python",
   "nbconvert_exporter": "python",
   "pygments_lexer": "ipython3",
   "version": "3.8.18"
  }
 },
 "nbformat": 4,
 "nbformat_minor": 2
}
