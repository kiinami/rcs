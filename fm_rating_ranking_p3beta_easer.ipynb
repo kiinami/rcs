{
 "cells": [
  {
   "cell_type": "code",
   "execution_count": 1,
   "metadata": {},
   "outputs": [],
   "source": [
    "import os\n",
    "from utils import *\n",
    "import optuna"
   ]
  },
  {
   "cell_type": "code",
   "execution_count": 2,
   "metadata": {},
   "outputs": [],
   "source": [
    "data, usermap, itemmap, users = load_data2()\n",
    "data_train, data_val=split_data2(data, 0.2)"
   ]
  },
  {
   "cell_type": "code",
   "execution_count": 10,
   "metadata": {},
   "outputs": [
    {
     "name": "stderr",
     "output_type": "stream",
     "text": [
      "[I 2024-01-09 09:26:28,436] A new study created in RDB with name: P3Beta+Easer\n"
     ]
    }
   ],
   "source": [
    "rat_rank_study = optuna.create_study(\n",
    "    study_name=\"P3Beta+Easer\",\n",
    "    storage=get_database_url(),\n",
    "    load_if_exists=True,\n",
    "    direction=\"maximize\",\n",
    ")"
   ]
  },
  {
   "cell_type": "code",
   "execution_count": 4,
   "metadata": {},
   "outputs": [
    {
     "name": "stderr",
     "output_type": "stream",
     "text": [
      "[I 2024-01-09 09:21:05,475] Using an existing study with name 'P3Beta' instead of creating a new one.\n"
     ]
    }
   ],
   "source": [
    "rp3beta_study = optuna.create_study(\n",
    "    study_name=\"P3Beta\",\n",
    "    storage=get_database_url(),\n",
    "    load_if_exists=True,\n",
    "    direction=\"maximize\",\n",
    ")"
   ]
  },
  {
   "cell_type": "code",
   "execution_count": 5,
   "metadata": {},
   "outputs": [],
   "source": [
    "from Recommenders.GraphBased.RP3betaRecommender import RP3betaRecommender\n",
    "\n",
    "rp3beta_recommender = RP3betaRecommender(data_train, verbose=False)\n",
    "rp3beta_recommender.fit(**rp3beta_study.best_params)"
   ]
  },
  {
   "cell_type": "code",
   "execution_count": 6,
   "metadata": {},
   "outputs": [
    {
     "name": "stderr",
     "output_type": "stream",
     "text": [
      "[I 2024-01-09 09:21:28,124] Using an existing study with name 'Easer' instead of creating a new one.\n"
     ]
    }
   ],
   "source": [
    "easer_study = optuna.create_study(\n",
    "    study_name=\"Easer\",\n",
    "    storage=get_database_url(),\n",
    "    load_if_exists=True,\n",
    "    direction=\"maximize\",\n",
    ")"
   ]
  },
  {
   "cell_type": "code",
   "execution_count": 7,
   "metadata": {},
   "outputs": [
    {
     "name": "stdout",
     "output_type": "stream",
     "text": [
      "EASE_R_Recommender: URM Detected 213 ( 1.7%) users with no interactions.\n",
      "EASE_R_Recommender: URM Detected 120 ( 0.5%) items with no interactions.\n",
      "EASE_R_Recommender: Fitting model... \n",
      "EASE_R_Recommender: Fitting model... done in 3.44 min\n"
     ]
    }
   ],
   "source": [
    "from Recommenders.EASE_R.EASE_R_Recommender import EASE_R_Recommender\n",
    "\n",
    "easer_recommender = EASE_R_Recommender(data_train)\n",
    "easer_recommender.fit(**easer_study.best_params)"
   ]
  },
  {
   "cell_type": "code",
   "execution_count": 12,
   "metadata": {},
   "outputs": [],
   "source": [
    "from Recommenders.BaseRecommender import BaseRecommender\n",
    "import scipy.sparse as sps\n",
    "import numpy.linalg as LA\n",
    "\n",
    "class DifferentLossScoresHybridRecommender(BaseRecommender):\n",
    "    \"\"\" ScoresHybridRecommender\n",
    "    Hybrid of two prediction scores R = R1/norm*alpha + R2/norm*(1-alpha) where R1 and R2 come from\n",
    "    algorithms trained on different loss functions.\n",
    "\n",
    "    \"\"\"\n",
    "\n",
    "    RECOMMENDER_NAME = \"DifferentLossScoresHybridRecommender\"\n",
    "\n",
    "\n",
    "    def __init__(self, URM_train, recommender_1, recommender_2):\n",
    "        super(DifferentLossScoresHybridRecommender, self).__init__(URM_train)\n",
    "\n",
    "        self.URM_train = sps.csr_matrix(URM_train)\n",
    "        self.recommender_1 = recommender_1\n",
    "        self.recommender_2 = recommender_2\n",
    "        \n",
    "        \n",
    "        \n",
    "    def fit(self, norm, alpha = 0.5):\n",
    "\n",
    "        self.alpha = alpha\n",
    "        self.norm = norm\n",
    "\n",
    "\n",
    "    def _compute_item_score(self, user_id_array, items_to_compute):\n",
    "        \n",
    "        item_weights_1 = self.recommender_1._compute_item_score(user_id_array)\n",
    "        item_weights_2 = self.recommender_2._compute_item_score(user_id_array)\n",
    "\n",
    "        norm_item_weights_1 = LA.norm(item_weights_1, self.norm)\n",
    "        norm_item_weights_2 = LA.norm(item_weights_2, self.norm)\n",
    "        \n",
    "        \n",
    "        if norm_item_weights_1 == 0:\n",
    "            norm_item_weights_1 = 0.0000001\n",
    "            #raise ValueError(\"Norm {} of item weights for recommender 1 is zero. Avoiding division by zero\".format(self.norm))\n",
    "        \n",
    "        if norm_item_weights_2 == 0:\n",
    "            norm_item_weights_2 = 0.0000001\n",
    "            #raise ValueError(\"Norm {} of item weights for recommender 2 is zero. Avoiding division by zero\".format(self.norm))\n",
    "        \n",
    "        item_weights = item_weights_1 / norm_item_weights_1 * self.alpha + item_weights_2 / norm_item_weights_2 * (1-self.alpha)\n",
    "\n",
    "        return item_weights\n",
    "\n"
   ]
  },
  {
   "cell_type": "code",
   "execution_count": 13,
   "metadata": {},
   "outputs": [
    {
     "name": "stderr",
     "output_type": "stream",
     "text": [
      "/tmp/ipykernel_328043/1942927178.py:3: FutureWarning: suggest_uniform has been deprecated in v3.0.0. This feature will be removed in v6.0.0. See https://github.com/optuna/optuna/releases/tag/v3.0.0. Use suggest_float instead.\n",
      "  alpha = trial.suggest_uniform(\"alpha\", 0, 1)\n"
     ]
    },
    {
     "name": "stdout",
     "output_type": "stream",
     "text": [
      "DifferentLossScoresHybridRecommender: URM Detected 213 ( 1.7%) users with no interactions.\n",
      "DifferentLossScoresHybridRecommender: URM Detected 120 ( 0.5%) items with no interactions.\n"
     ]
    },
    {
     "name": "stderr",
     "output_type": "stream",
     "text": [
      "[I 2024-01-09 09:27:45,081] Trial 1 finished with value: 0.08115946630574146 and parameters: {'norm': None, 'alpha': 0.03745962530001046}. Best is trial 1 with value: 0.08115946630574146.\n"
     ]
    },
    {
     "name": "stdout",
     "output_type": "stream",
     "text": [
      "DifferentLossScoresHybridRecommender: URM Detected 213 ( 1.7%) users with no interactions.\n",
      "DifferentLossScoresHybridRecommender: URM Detected 120 ( 0.5%) items with no interactions.\n"
     ]
    },
    {
     "name": "stderr",
     "output_type": "stream",
     "text": [
      "[I 2024-01-09 09:28:10,020] Trial 2 finished with value: 0.08345394682270492 and parameters: {'norm': 2, 'alpha': 0.2622433110540575}. Best is trial 2 with value: 0.08345394682270492.\n"
     ]
    },
    {
     "name": "stdout",
     "output_type": "stream",
     "text": [
      "DifferentLossScoresHybridRecommender: URM Detected 213 ( 1.7%) users with no interactions.\n",
      "DifferentLossScoresHybridRecommender: URM Detected 120 ( 0.5%) items with no interactions.\n"
     ]
    },
    {
     "name": "stderr",
     "output_type": "stream",
     "text": [
      "[I 2024-01-09 09:28:32,684] Trial 3 finished with value: 0.08321625302576705 and parameters: {'norm': inf, 'alpha': 0.11217141563921496}. Best is trial 2 with value: 0.08345394682270492.\n"
     ]
    },
    {
     "name": "stdout",
     "output_type": "stream",
     "text": [
      "DifferentLossScoresHybridRecommender: URM Detected 213 ( 1.7%) users with no interactions.\n",
      "DifferentLossScoresHybridRecommender: URM Detected 120 ( 0.5%) items with no interactions.\n"
     ]
    },
    {
     "name": "stderr",
     "output_type": "stream",
     "text": [
      "[I 2024-01-09 09:29:00,272] Trial 4 finished with value: 0.08481124596740923 and parameters: {'norm': None, 'alpha': 0.5292133556808732}. Best is trial 4 with value: 0.08481124596740923.\n"
     ]
    },
    {
     "name": "stdout",
     "output_type": "stream",
     "text": [
      "DifferentLossScoresHybridRecommender: URM Detected 213 ( 1.7%) users with no interactions.\n",
      "DifferentLossScoresHybridRecommender: URM Detected 120 ( 0.5%) items with no interactions.\n"
     ]
    },
    {
     "name": "stderr",
     "output_type": "stream",
     "text": [
      "[I 2024-01-09 09:29:22,639] Trial 5 finished with value: 0.08419798997226575 and parameters: {'norm': -inf, 'alpha': 0.9015215065779015}. Best is trial 4 with value: 0.08481124596740923.\n"
     ]
    },
    {
     "name": "stdout",
     "output_type": "stream",
     "text": [
      "DifferentLossScoresHybridRecommender: URM Detected 213 ( 1.7%) users with no interactions.\n",
      "DifferentLossScoresHybridRecommender: URM Detected 120 ( 0.5%) items with no interactions.\n"
     ]
    },
    {
     "name": "stderr",
     "output_type": "stream",
     "text": [
      "[I 2024-01-09 09:29:54,378] Trial 6 finished with value: 0.08438339434287818 and parameters: {'norm': -inf, 'alpha': 0.8497184779392989}. Best is trial 4 with value: 0.08481124596740923.\n"
     ]
    },
    {
     "name": "stdout",
     "output_type": "stream",
     "text": [
      "DifferentLossScoresHybridRecommender: URM Detected 213 ( 1.7%) users with no interactions.\n",
      "DifferentLossScoresHybridRecommender: URM Detected 120 ( 0.5%) items with no interactions.\n"
     ]
    },
    {
     "name": "stderr",
     "output_type": "stream",
     "text": [
      "[I 2024-01-09 09:30:20,088] Trial 7 finished with value: 0.08407603306358193 and parameters: {'norm': inf, 'alpha': 0.9809686949772557}. Best is trial 4 with value: 0.08481124596740923.\n"
     ]
    },
    {
     "name": "stdout",
     "output_type": "stream",
     "text": [
      "DifferentLossScoresHybridRecommender: URM Detected 213 ( 1.7%) users with no interactions.\n",
      "DifferentLossScoresHybridRecommender: URM Detected 120 ( 0.5%) items with no interactions.\n"
     ]
    },
    {
     "name": "stderr",
     "output_type": "stream",
     "text": [
      "[I 2024-01-09 09:30:38,148] Trial 8 finished with value: 0.08380965340958546 and parameters: {'norm': None, 'alpha': 0.3350812116487889}. Best is trial 4 with value: 0.08481124596740923.\n"
     ]
    },
    {
     "name": "stdout",
     "output_type": "stream",
     "text": [
      "DifferentLossScoresHybridRecommender: URM Detected 213 ( 1.7%) users with no interactions.\n",
      "DifferentLossScoresHybridRecommender: URM Detected 120 ( 0.5%) items with no interactions.\n"
     ]
    }
   ],
   "source": [
    "def objective(trial):\n",
    "    norm = trial.suggest_categorical(\"norm\", [1, 2, np.inf, -np.inf, None])\n",
    "    alpha = trial.suggest_uniform(\"alpha\", 0, 1)\n",
    "\n",
    "    recommender_object = DifferentLossScoresHybridRecommender(data_train, rp3beta_recommender, easer_recommender)\n",
    "    recommender_object.fit(\n",
    "        norm = norm, \n",
    "        alpha = alpha\n",
    "    )\n",
    "\n",
    "    _, _, ev_map, _, _ = evaluator(recommender_object, data_train, data_val)\n",
    "    \n",
    "    return ev_map\n",
    "\n",
    "rat_rank_study.optimize(objective, n_trials=100)"
   ]
  },
  {
   "cell_type": "code",
   "execution_count": null,
   "metadata": {},
   "outputs": [],
   "source": []
  }
 ],
 "metadata": {
  "kernelspec": {
   "display_name": "RecSysFramework",
   "language": "python",
   "name": "python3"
  },
  "language_info": {
   "codemirror_mode": {
    "name": "ipython",
    "version": 3
   },
   "file_extension": ".py",
   "mimetype": "text/x-python",
   "name": "python",
   "nbconvert_exporter": "python",
   "pygments_lexer": "ipython3",
   "version": "3.8.18"
  }
 },
 "nbformat": 4,
 "nbformat_minor": 2
}
