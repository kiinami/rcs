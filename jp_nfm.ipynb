{
 "cells": [
  {
   "cell_type": "code",
   "execution_count": 1,
   "metadata": {},
   "outputs": [],
   "source": [
    "import os\n",
    "from utils import *\n",
    "import optuna"
   ]
  },
  {
   "cell_type": "code",
   "execution_count": 2,
   "metadata": {},
   "outputs": [],
   "source": [
    "data, usermap, itemmap, users = load_data2()\n",
    "data_train, data_val = split_data2(data, 0.2)"
   ]
  },
  {
   "cell_type": "code",
   "execution_count": 3,
   "metadata": {},
   "outputs": [
    {
     "name": "stderr",
     "output_type": "stream",
     "text": [
      "[I 2023-12-20 16:45:33,486] A new study created in RDB with name: NFM\n"
     ]
    }
   ],
   "source": [
    "study_name = \"NFM\"\n",
    "study = optuna.create_study(\n",
    "    study_name=study_name,\n",
    "    storage=get_database_url(),\n",
    "    load_if_exists=True,\n",
    "    direction=\"maximize\",\n",
    ")"
   ]
  },
  {
   "cell_type": "code",
   "execution_count": 5,
   "metadata": {},
   "outputs": [],
   "source": [
    "from Recommenders.MatrixFactorization.NMFRecommender import NMFRecommender\n",
    "\n",
    "def objective(trial):\n",
    "    num_factors = trial.suggest_int('num_factors', 1, 1000)\n",
    "    l1_ratio = trial.suggest_float('l1_ratio', 0, 1)\n",
    "    solver = trial.suggest_categorical('solver', ['coordinate_descent', 'multiplicative_update'])\n",
    "    init_type = trial.suggest_categorical('init_type', ['random', 'nndsvda'])\n",
    "    beta_loss = trial.suggest_categorical('beta_loss', ['frobenius', 'kullback-leibler'])\n",
    "    \n",
    "    recommender = NMFRecommender(data_train, verbose=False)\n",
    "    recommender.fit(\n",
    "        num_factors=num_factors,\n",
    "        l1_ratio=l1_ratio,\n",
    "        solver=solver,\n",
    "        init_type=init_type,\n",
    "        beta_loss=beta_loss,\n",
    "        verbose=False\n",
    "    )\n",
    "    _, _, ev_map, _, _ = evaluator(recommender, data_train, data_val)\n",
    "    \n",
    "    return ev_map\n",
    "\n",
    "study.optimize(objective, n_trials=150)"
   ]
  },
  {
   "cell_type": "code",
   "execution_count": null,
   "metadata": {},
   "outputs": [],
   "source": [
    "study.best_params"
   ]
  },
  {
   "cell_type": "code",
   "execution_count": null,
   "metadata": {},
   "outputs": [],
   "source": [
    "from Recommenders.MatrixFactorization.NMFRecommender import NMFRecommender\n",
    "\n",
    "recommender = NMFRecommender(data_train, verbose=False)\n",
    "recommender.fit(**study.best_params)"
   ]
  },
  {
   "cell_type": "code",
   "execution_count": null,
   "metadata": {},
   "outputs": [],
   "source": [
    "pr, re, ev_map, ev_ndcg, ev_auc = evaluator(recommender, data_train, data_val)\n",
    "print(\"Precision: {:.8f}\".format(pr))\n",
    "print(\"Recall: {:.8f}\".format(re))\n",
    "print(\"MAP: {:.8f}\".format(ev_map))"
   ]
  },
  {
   "cell_type": "code",
   "execution_count": null,
   "metadata": {},
   "outputs": [],
   "source": [
    "submission2(recommender, users, usermap, itemmap, data_train)"
   ]
  },
  {
   "cell_type": "code",
   "execution_count": null,
   "metadata": {},
   "outputs": [],
   "source": []
  }
 ],
 "metadata": {
  "kernelspec": {
   "display_name": "venv",
   "language": "python",
   "name": "python3"
  },
  "language_info": {
   "codemirror_mode": {
    "name": "ipython",
    "version": 3
   },
   "file_extension": ".py",
   "mimetype": "text/x-python",
   "name": "python",
   "nbconvert_exporter": "python",
   "pygments_lexer": "ipython3",
   "version": "3.8.18"
  }
 },
 "nbformat": 4,
 "nbformat_minor": 2
}
