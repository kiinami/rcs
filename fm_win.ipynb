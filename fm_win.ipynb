{
 "cells": [
  {
   "cell_type": "code",
   "execution_count": 1,
   "metadata": {},
   "outputs": [
    {
     "name": "stdout",
     "output_type": "stream",
     "text": [
      "Tensorflow is not available\n"
     ]
    },
    {
     "name": "stderr",
     "output_type": "stream",
     "text": [
      "c:\\Users\\francesco\\miniconda3\\envs\\RecSysFramework\\lib\\site-packages\\lightfm\\_lightfm_fast.py:9: UserWarning: LightFM was compiled without OpenMP support. Only a single thread will be used.\n",
      "  warnings.warn(\n"
     ]
    }
   ],
   "source": [
    "import os\n",
    "from utils import *\n",
    "import optuna\n",
    "from Recommenders.Recommender_import_list import *\n",
    "import scipy.sparse as sps\n",
    "from tqdm import tqdm"
   ]
  },
  {
   "cell_type": "code",
   "execution_count": 2,
   "metadata": {},
   "outputs": [],
   "source": [
    "data, usermap, itemmap, users = load_data2()\n",
    "data_train, data_val = split_data2(data, 0.2)\n",
    "data_train_val = data_train + data_val"
   ]
  },
  {
   "cell_type": "code",
   "execution_count": null,
   "metadata": {},
   "outputs": [],
   "source": [
    "# 0.08254950935282762\n",
    "slimel_study = optuna.load_study(\n",
    "    study_name=\"SLIMElastic\",\n",
    "    storage=get_database_url(),\n",
    ")\n",
    "\n",
    "# 0.07018143152516958\n",
    "slimbpr_study = optuna.load_study(\n",
    "    study_name=\"SLIMBPR\",\n",
    "    storage=get_database_url(),\n",
    ")\n",
    "\n",
    "# 0.08248515814658722\n",
    "p3alpha_study = optuna.load_study(\n",
    "    study_name=\"P3Alpha\",\n",
    "    storage=get_database_url(),\n",
    ")\n",
    "\n",
    "# 0.082429130748692\n",
    "easer_study = optuna.load_study(\n",
    "    study_name=\"Easer\",\n",
    "    storage=get_database_url(),\n",
    ")\n",
    "\n",
    "# 0.06470798788105654\n",
    "userknncf_study = optuna.load_study(\n",
    "    study_name=\"UserKNNCF\",\n",
    "    storage=get_database_url(),\n",
    ")\n",
    "\n",
    "# 0.07684279728158312\n",
    "itemknncf_study = optuna.load_study(\n",
    "    study_name=\"ItemKNNCF\",\n",
    "    storage=get_database_url(),\n",
    ")\n",
    "\n",
    "# 0.08511222934213017\n",
    "p3beta_study = optuna.load_study(\n",
    "    study_name=\"P3Beta\",\n",
    "    storage=get_database_url(),\n",
    ")\n",
    "\n",
    "# 0.08513855277446945\n",
    "hybrid_itemknncf_p3beta_study = optuna.load_study(\n",
    "    study_name=\"ItemKNNCF + P3Beta\",\n",
    "    storage=get_database_url(),\n",
    ")\n",
    "\n",
    "# 0.08660457653642996\n",
    "hybrid_itemknncf_userknncf_p3beta_study = optuna.load_study(\n",
    "    study_name=\"ScoresHybrid\",\n",
    "    storage=get_database_url(),\n",
    ")\n",
    "\n",
    "# 0.08268787988452277\n",
    "hybrid_slimel_slimbpr_study = optuna.load_study(\n",
    "    study_name=\"SLIMElastic+SLIMBPR\",\n",
    "    storage=get_database_url(),\n",
    ")\n",
    "\n",
    "# 0.085366019104557\n",
    "hybrid_p3beta_easer_study = optuna.load_study(\n",
    "    study_name=\"P3Beta+Easer\",\n",
    "    storage=get_database_url(),\n",
    ")\n",
    "\n",
    "# 0.08666846078257197\n",
    "hybrid_slimel_p3beta_study = optuna.load_study(\n",
    "    study_name=\"SLIMElastic+P3Beta\",\n",
    "    storage=get_database_url(),\n",
    ")\n",
    "\n",
    "# 0.08350570630637119\n",
    "hybrid_slimel_p3beta_easer_study = optuna.load_study(\n",
    "    study_name=\"SLIMElastic+P3Beta+Easer\",\n",
    "    storage=get_database_url(),\n",
    ")\n",
    "\n",
    "# 0.08368146099525228\n",
    "hybrid_slimel_p3beta_itemknncf_study = optuna.load_study(\n",
    "    study_name=\"SLIMElastic+P3Beta+ItemKNNCF\",\n",
    "    storage=get_database_url(),\n",
    ")\n",
    "\n",
    "# 0.08606971380880395\n",
    "hybrid_easer_slimel_itemknncf_slimbpr_study = optuna.load_study(\n",
    "    study_name=\"Easer+SlimElastic+ItemKNNCF+SLIMBPR\",\n",
    "    storage=get_database_url(),\n",
    ")\n",
    "\n",
    "# 0.08555814709467932\n",
    "hybrid_slimbpr_p3beta_easer_study = optuna.load_study(\n",
    "    study_name=\"P3Beta+Easer+SLIMBPR\",\n",
    "    storage=get_database_url(),\n",
    ")\n",
    "\n",
    "# 0.08339769978001665\n",
    "hybrid_easer_slimel_study = optuna.load_study(\n",
    "    study_name=\"Easer+SlimElastic\",\n",
    "    storage=get_database_url(),\n",
    ")"
   ]
  },
  {
   "cell_type": "code",
   "execution_count": null,
   "metadata": {},
   "outputs": [],
   "source": [
    "slimel_recommender = MultiThreadSLIM_SLIMElasticNetRecommender(data_train, verbose=False)\n",
    "slimel_recommender.fit(**slimel_study.best_params)\n",
    "\n",
    "# [alpha: 0.0023866170167418325, topK: 396, l1_ratio: 2.5949057850541665e-07]"
   ]
  },
  {
   "cell_type": "code",
   "execution_count": null,
   "metadata": {},
   "outputs": [],
   "source": [
    "slimbpr_recommender = SLIM_BPR_Cython(data_train, verbose=False)\n",
    "slimbpr_recommender.fit(**slimbpr_study.best_params)\n",
    "\n",
    "# [epochs: 490, symmetric: False, lambda_i: 0.04973485595359249, lambda_j: 1.8772031164012726e-07, learning_rate: 0.008459713940705181, topK: 23, sgd_mode: adagrad, gamma: 0.0036083269768859244, beta_1: 0.010947253104592736, beta_2: 1.7512021923757238e-05]"
   ]
  },
  {
   "cell_type": "code",
   "execution_count": null,
   "metadata": {},
   "outputs": [],
   "source": [
    "p3alpha_recommender = P3alphaRecommender(data_train, verbose=False)\n",
    "p3alpha_recommender.fit(**p3alpha_study.best_params)\n",
    "\n",
    "# [topK: 61, alpha: 0.4121129634953655, implicit: True, normalize_similarity: True]"
   ]
  },
  {
   "cell_type": "code",
   "execution_count": null,
   "metadata": {},
   "outputs": [],
   "source": [
    "easer_recommender = EASE_R_Recommender(data_train, verbose=False)\n",
    "easer_recommender.fit(**easer_study.best_params)\n",
    "\n",
    "# [topK: 72, l2_norm: 36.47305040353163]"
   ]
  },
  {
   "cell_type": "code",
   "execution_count": null,
   "metadata": {},
   "outputs": [],
   "source": [
    "userknncf_recommender = UserKNNCFRecommender(data_train, verbose=False)\n",
    "userknncf_recommender.fit(**userknncf_study.best_params)\n",
    "\n",
    "# [topK: 281, similarity: cosine, normalize: True, feature_weighting: TF-IDF]"
   ]
  },
  {
   "cell_type": "code",
   "execution_count": null,
   "metadata": {},
   "outputs": [],
   "source": [
    "itemknncf_recommender = ItemKNNCFRecommender(data_train, verbose=False)\n",
    "itemknncf_recommender.fit(**itemknncf_study.best_params)\n",
    "\n",
    "# [topK: 180, similarity: cosine, normalize: True, feature_weighting: TF-IDF]"
   ]
  },
  {
   "cell_type": "code",
   "execution_count": null,
   "metadata": {},
   "outputs": [],
   "source": [
    "p3beta_recommender = RP3betaRecommender(data_train, verbose=False)\n",
    "p3beta_recommender.fit(**p3beta_study.best_params)\n",
    "\n",
    "# [topK: 35, alpha: 0.3598110596257423, beta: 0.1558338653772352, implicit: True, normalize_similarity: True]"
   ]
  },
  {
   "cell_type": "code",
   "execution_count": null,
   "metadata": {},
   "outputs": [],
   "source": [
    "hybrid_itemknncf_p3beta_recommender = DifferentLossScoresHybridRecommender(\n",
    "    data_train,\n",
    "    p3beta_recommender,\n",
    "    itemknncf_recommender,\n",
    ")\n",
    "hybrid_itemknncf_p3beta_recommender.fit(**hybrid_itemknncf_p3beta_study.best_params)\n",
    "\n",
    "# [alpha: 0.061089174221146764]"
   ]
  },
  {
   "cell_type": "code",
   "execution_count": null,
   "metadata": {},
   "outputs": [],
   "source": [
    "recommenders = [\n",
    "    {\n",
    "        \"recommender\": ItemKNNCFRecommender,\n",
    "        \"params\": itemknncf_study.best_params,\n",
    "    },\n",
    "    {\n",
    "        \"recommender\": UserKNNCFRecommender,\n",
    "        \"params\": userknncf_study.best_params,\n",
    "    },\n",
    "    {\n",
    "        \"recommender\": RP3betaRecommender,\n",
    "        \"params\": p3beta_study.best_params,\n",
    "    }\n",
    "]\n",
    "\n",
    "hybrid_itemknncf_userknncf_p3beta_recommender = ScoresHybridRecommender(data_train, recommenders)\n",
    "hybrid_itemknncf_userknncf_p3beta_recommender.prefit()\n",
    "hybrid_itemknncf_userknncf_p3beta_recommender.fit(**hybrid_itemknncf_userknncf_p3beta_study.best_params)\n",
    "\n",
    "# [weight_0: 0.0007057494959371759, weight_1: 0.0010435587541626084, weight_2: 0.5557013992211137]"
   ]
  },
  {
   "cell_type": "code",
   "execution_count": null,
   "metadata": {},
   "outputs": [],
   "source": [
    "hybrid_slimel_slimbpr_recommender = DifferentLossScoresHybridRecommender(\n",
    "    data_train,\n",
    "    slimel_recommender,\n",
    "    slimbpr_recommender,\n",
    ")\n",
    "hybrid_slimel_slimbpr_recommender.fit(**hybrid_slimel_slimbpr_study.best_params)\n",
    "\n",
    "# [norm: 1, alpha: 0.9711764934578814]"
   ]
  },
  {
   "cell_type": "code",
   "execution_count": null,
   "metadata": {},
   "outputs": [],
   "source": [
    "hybrid_p3beta_easer_recommender = DifferentLossScoresHybridRecommender(\n",
    "    data_train,\n",
    "    p3beta_recommender,\n",
    "    easer_recommender,\n",
    ")\n",
    "hybrid_p3beta_easer_recommender.fit(**hybrid_p3beta_easer_study.best_params)\n",
    "\n",
    "# [norm: None, alpha: 0.5641427244696609]"
   ]
  },
  {
   "cell_type": "code",
   "execution_count": null,
   "metadata": {},
   "outputs": [],
   "source": [
    "hybrid_slimel_p3beta_recommender = DifferentLossScoresHybridRecommender(\n",
    "    data_train,\n",
    "    slimel_recommender,\n",
    "    p3beta_recommender,\n",
    ")\n",
    "hybrid_slimel_p3beta_recommender.fit(**hybrid_slimel_p3beta_study.best_params)\n",
    "\n",
    "# [norm: 2, alpha: 0.6182214281226774]"
   ]
  },
  {
   "cell_type": "code",
   "execution_count": null,
   "metadata": {},
   "outputs": [],
   "source": [
    "hybrid_slimel_p3beta_easer_recommender = DifferentLossScoresHybridRecommender(\n",
    "    data_train,\n",
    "    hybrid_slimel_p3beta_recommender,\n",
    "    easer_recommender,\n",
    ")\n",
    "hybrid_slimel_p3beta_easer_recommender.fit(**hybrid_slimel_p3beta_easer_study.best_params)\n",
    "\n",
    "# [norm: None, alpha: 0.8485943767022647]"
   ]
  },
  {
   "cell_type": "code",
   "execution_count": null,
   "metadata": {},
   "outputs": [],
   "source": [
    "hybrid_slimel_p3beta_itemknncf_recommender = DifferentLossScoresHybridRecommender(\n",
    "    data_train,\n",
    "    hybrid_slimel_p3beta_recommender,\n",
    "    itemknncf_recommender,\n",
    ")\n",
    "hybrid_slimel_p3beta_itemknncf_recommender.fit(**hybrid_slimel_p3beta_itemknncf_study.best_params)\n",
    "\n",
    "# [weight_0: 0.0007057494959371759, weight_1: 0.0010435587541626084, weight_2: 0.5557013992211137]"
   ]
  },
  {
   "cell_type": "code",
   "execution_count": null,
   "metadata": {},
   "outputs": [],
   "source": [
    "hybrid_easer_slimel_itemknncf_slimbpr_recommender_1 = DifferentLossScoresHybridRecommender(data_train, easer_recommender, slimel_recommender)\n",
    "hybrid_easer_slimel_itemknncf_slimbpr_recommender_1.fit(norm=hybrid_easer_slimel_itemknncf_slimbpr_study.best_params['norm'], alpha=hybrid_easer_slimel_itemknncf_slimbpr_study.best_params['alpha'])\n",
    "hybrid_easer_slimel_itemknncf_slimbpr_recommender_2 = DifferentLossScoresHybridRecommender(data_train, hybrid_easer_slimel_itemknncf_slimbpr_recommender_1, itemknncf_recommender)\n",
    "hybrid_easer_slimel_itemknncf_slimbpr_recommender_2.fit(norm=hybrid_easer_slimel_itemknncf_slimbpr_study.best_params['norm'], alpha=hybrid_easer_slimel_itemknncf_slimbpr_study.best_params['beta'])\n",
    "hybrid_easer_slimel_itemknncf_slimbpr_recommender = DifferentLossScoresHybridRecommender(data_train, hybrid_easer_slimel_itemknncf_slimbpr_recommender_2, slimbpr_recommender)\n",
    "hybrid_easer_slimel_itemknncf_slimbpr_recommender.fit(norm=hybrid_easer_slimel_itemknncf_slimbpr_study.best_params['norm'], alpha=hybrid_easer_slimel_itemknncf_slimbpr_study.best_params['gamma'])\n",
    "\n",
    "# [norm: None, alpha: 0.07677940193059153, beta: 0.6475804621808522, gamma: 0.9786981109318013]"
   ]
  },
  {
   "cell_type": "code",
   "execution_count": null,
   "metadata": {},
   "outputs": [],
   "source": [
    "hybrid_slimbpr_p3beta_easer_recommender = DifferentLossScoresHybridRecommender(\n",
    "    data_train,\n",
    "    slimbpr_recommender,\n",
    "    hybrid_p3beta_easer_recommender,\n",
    ")\n",
    "hybrid_slimbpr_p3beta_easer_recommender.fit(\n",
    "    hybrid_slimbpr_p3beta_easer_study.best_params['norm'],\n",
    "    hybrid_slimbpr_p3beta_easer_study.best_params['alpha'],\n",
    ")\n",
    "\n",
    "# [norm: -inf, alpha: 0.9415797004214617, beta: 0.26986192573566387]"
   ]
  },
  {
   "cell_type": "code",
   "execution_count": null,
   "metadata": {},
   "outputs": [],
   "source": [
    "hybrid_easer_slimel_recommender = DifferentLossScoresHybridRecommender(\n",
    "    data_train,\n",
    "    easer_recommender,\n",
    "    slimel_recommender,\n",
    ")\n",
    "hybrid_easer_slimel_recommender.fit(**hybrid_easer_slimel_study.best_params)\n",
    "\n",
    "# [norm: inf, alpha: 0.08364695105189879]"
   ]
  },
  {
   "cell_type": "code",
   "execution_count": null,
   "metadata": {},
   "outputs": [],
   "source": [
    "n_users, n_items = data_train_val.shape\n",
    "\n",
    "training_dataframe = pd.DataFrame(index=range(0,n_users), columns = [\"ItemID\"])\n",
    "training_dataframe.index.name='UserID'"
   ]
  },
  {
   "cell_type": "code",
   "execution_count": null,
   "metadata": {},
   "outputs": [],
   "source": [
    "cutoff = 50\n",
    "\n",
    "for user_id in range(n_users):    \n",
    "    recommendations = hybrid_slimel_p3beta_recommender.recommend(user_id, cutoff = cutoff, remove_seen_flag=True)\n",
    "    training_dataframe.loc[user_id, \"ItemID\"] = recommendations"
   ]
  },
  {
   "cell_type": "code",
   "execution_count": null,
   "metadata": {},
   "outputs": [],
   "source": [
    "training_dataframe = training_dataframe.explode(\"ItemID\")"
   ]
  },
  {
   "cell_type": "code",
   "execution_count": null,
   "metadata": {},
   "outputs": [],
   "source": [
    "data_val_coo = sps.coo_matrix(data_val)\n",
    "correct_recommendations = pd.DataFrame({\"UserID\": data_val_coo.row,\n",
    "                                        \"ItemID\": data_val_coo.col})"
   ]
  },
  {
   "cell_type": "code",
   "execution_count": null,
   "metadata": {},
   "outputs": [],
   "source": [
    "training_dataframe = pd.merge(training_dataframe, correct_recommendations, on=['UserID','ItemID'], how='left', indicator='Exist')"
   ]
  },
  {
   "cell_type": "code",
   "execution_count": null,
   "metadata": {},
   "outputs": [],
   "source": [
    "training_dataframe[\"Label\"] = training_dataframe[\"Exist\"] == \"both\"\n",
    "training_dataframe.drop(columns = ['Exist'], inplace=True)"
   ]
  },
  {
   "cell_type": "code",
   "execution_count": null,
   "metadata": {},
   "outputs": [],
   "source": [
    "topPop = TopPop(data_train)\n",
    "topPop.fit()\n",
    "\n",
    "other_algorithms = {\n",
    "    \"TopPop\": topPop,\n",
    "    \"slimel\": slimel_recommender,\n",
    "    \"slimbpr\": slimbpr_recommender,\n",
    "    \"p3alpha\": p3alpha_recommender,\n",
    "    \"easer\": easer_recommender,\n",
    "    \"userknncf\": userknncf_recommender,\n",
    "    \"itemknncf\": itemknncf_recommender,\n",
    "    \"p3beta\": p3beta_recommender,\n",
    "    \"hybrid_itemknncf_p3beta\": hybrid_itemknncf_p3beta_recommender,\n",
    "    \"hybrid_itemknncf_userknncf_p3beta\": hybrid_itemknncf_userknncf_p3beta_recommender,\n",
    "    \"hybrid_slimel_slimbpr\": hybrid_slimel_slimbpr_recommender,\n",
    "    \"hybrid_p3beta_easer\": hybrid_p3beta_easer_recommender,\n",
    "    \"hybrid_slimel_p3beta_easer\": hybrid_slimel_p3beta_easer_recommender,\n",
    "    \"hybrid_slimel_p3beta_itemknncf\": hybrid_slimel_p3beta_itemknncf_recommender,\n",
    "    \"hybrid_easer_slimel_itemknncf_slimbpr\": hybrid_easer_slimel_itemknncf_slimbpr_recommender,\n",
    "    \"hybrid_slimbpr_p3beta_easer\": hybrid_slimbpr_p3beta_easer_recommender,\n",
    "    \"hybrid_easer_slimel\": hybrid_easer_slimel_recommender,\n",
    "}"
   ]
  },
  {
   "cell_type": "code",
   "execution_count": null,
   "metadata": {},
   "outputs": [],
   "source": [
    "training_dataframe = training_dataframe.set_index('UserID')\n",
    "\n",
    "for user_id in tqdm(range(n_users)):  \n",
    "    for rec_label, rec_instance in other_algorithms.items():\n",
    "        \n",
    "        item_list = training_dataframe.loc[user_id, \"ItemID\"].values.tolist()\n",
    "        \n",
    "        all_item_scores = rec_instance._compute_item_score([user_id], items_to_compute = item_list)\n",
    "\n",
    "        training_dataframe.loc[user_id, rec_label] = all_item_scores[0, item_list] \n",
    "\n",
    "training_dataframe = training_dataframe.reset_index()\n",
    "training_dataframe = training_dataframe.rename(columns = {\"index\": \"UserID\"})"
   ]
  },
  {
   "cell_type": "code",
   "execution_count": null,
   "metadata": {},
   "outputs": [],
   "source": [
    "item_popularity = np.ediff1d(sps.csc_matrix(data_train).indptr)\n",
    "\n",
    "training_dataframe['item_popularity'] = item_popularity[training_dataframe[\"ItemID\"].values.astype(int)]"
   ]
  },
  {
   "cell_type": "code",
   "execution_count": null,
   "metadata": {},
   "outputs": [],
   "source": [
    "user_popularity = np.ediff1d(sps.csr_matrix(data_train).indptr)\n",
    "\n",
    "training_dataframe['user_profile_len'] = user_popularity[training_dataframe[\"UserID\"].values.astype(int)]"
   ]
  },
  {
   "cell_type": "code",
   "execution_count": null,
   "metadata": {},
   "outputs": [],
   "source": [
    "training_dataframe = training_dataframe.sort_values(\"UserID\").reset_index()\n",
    "training_dataframe.drop(columns = ['index'], inplace=True)"
   ]
  },
  {
   "cell_type": "code",
   "execution_count": null,
   "metadata": {},
   "outputs": [],
   "source": [
    "groups = training_dataframe.groupby(\"UserID\").size().values"
   ]
  },
  {
   "cell_type": "code",
   "execution_count": null,
   "metadata": {},
   "outputs": [],
   "source": [
    "study = optuna.create_study(\n",
    "    study_name=\"XGBoostWin\",\n",
    "    storage=get_database_url(),\n",
    "    load_if_exists=True,\n",
    "    direction=\"maximize\",\n",
    ")"
   ]
  },
  {
   "cell_type": "code",
   "execution_count": null,
   "metadata": {},
   "outputs": [],
   "source": [
    "def evaluator(data_train, train_recs, XGB_model, training_dataframe, data_test: sp.csr_matrix, recommendation_length: int = 10):\n",
    "    accum_precision = 0\n",
    "    accum_recall = 0\n",
    "    accum_map = 0\n",
    "\n",
    "    num_users = data_train.shape[0]\n",
    "\n",
    "    num_users_evaluated = 0\n",
    "    num_users_skipped = 0\n",
    "    for user_id in range(num_users):\n",
    "        user_profile_start = data_test.indptr[user_id]\n",
    "        user_profile_end = data_test.indptr[user_id+1]\n",
    "\n",
    "        relevant_items = data_test.indices[user_profile_start:user_profile_end]\n",
    "\n",
    "        if relevant_items.size == 0:\n",
    "            num_users_skipped += 1\n",
    "            continue\n",
    "        \n",
    "        predict = train_recs[train_recs[\"UserID\"] == user_id]\n",
    "        predictions = XGB_model.predict(predict)\n",
    "        user_ids = predict[\"UserID\"].values\n",
    "        item_ids = predict[\"ItemID\"].values\n",
    "        predictions = pd.DataFrame({\"UserID\": user_ids, \"ItemID\": item_ids, \"Predictions\": predictions})\n",
    "        predictions = predictions.sort_values(by=\"Predictions\", ascending=False)\n",
    "        recommendations = np.array(predictions[\"ItemID\"].values[:recommendation_length])\n",
    "\n",
    "        accum_precision += precision(recommendations, relevant_items)\n",
    "        accum_recall += recall(recommendations, relevant_items)\n",
    "        accum_map += mean_average_precision(recommendations, relevant_items)\n",
    "\n",
    "        num_users_evaluated += 1\n",
    "\n",
    "\n",
    "    accum_precision /= max(num_users_evaluated, 1)\n",
    "    accum_recall /= max(num_users_evaluated, 1)\n",
    "    accum_map /=  max(num_users_evaluated, 1)\n",
    "\n",
    "    return accum_precision, accum_recall, accum_map, num_users_evaluated, num_users_skipped\n"
   ]
  },
  {
   "cell_type": "code",
   "execution_count": null,
   "metadata": {},
   "outputs": [],
   "source": [
    "train_recs = training_dataframe.drop(columns=[\"Label\"])\n",
    "train_labs = training_dataframe[\"Label\"]"
   ]
  },
  {
   "cell_type": "code",
   "execution_count": null,
   "metadata": {},
   "outputs": [],
   "source": [
    "from xgboost import XGBRanker\n",
    "\n",
    "def objective(trial):\n",
    "    objective = trial.suggest_categorical(\"objective\", [\"rank:ndcg\", \"rank:map\", \"rank:pairwise\"])\n",
    "    n_estimators = trial.suggest_int(\"n_estimators\", 5, 500)\n",
    "    learning_rate = trial.suggest_float(\"learning_rate\", 1e-4, 1e-1, log=True)\n",
    "    reg_alpha = trial.suggest_float(\"reg_alpha\", 1e-4, 1e-1, log=True)\n",
    "    reg_lambda = trial.suggest_float(\"reg_lambda\", 1e-4, 1e-1, log=True)\n",
    "    max_depth = trial.suggest_int(\"max_depth\", 1, 10)\n",
    "    max_leaves = trial.suggest_int(\"max_leaves\", 1, 10)\n",
    "    grow_policy = trial.suggest_categorical(\"grow_policy\", [\"depthwise\", \"lossguide\"])\n",
    "    booster = trial.suggest_categorical(\"booster\", [\"gbtree\", \"gblinear\", \"dart\"])\n",
    "\n",
    "    XGB_model = XGBRanker(\n",
    "        tree_method=\"hist\",\n",
    "        objective=objective,\n",
    "        n_estimators=int(n_estimators),\n",
    "        random_state=None,\n",
    "        learning_rate=learning_rate,\n",
    "        reg_alpha=reg_alpha,\n",
    "        reg_lambda=reg_lambda,\n",
    "        max_depth=int(max_depth),\n",
    "        max_leaves=int(max_leaves),\n",
    "        grow_policy=grow_policy,\n",
    "        booster=booster,\n",
    "        verbosity=0, # 2 if self.verbose else 0,\n",
    "    )\n",
    "    XGB_model.fit(\n",
    "        train_recs,\n",
    "        train_labs,\n",
    "        group=groups,\n",
    "        verbose=False\n",
    "    )\n",
    "    _, _, ev_map, _, _ = evaluator(data_train, train_recs, XGB_model, training_dataframe, data_val)\n",
    "    \n",
    "    return ev_map\n",
    "\n",
    "study.optimize(objective, n_trials=1000)"
   ]
  },
  {
   "cell_type": "code",
   "execution_count": null,
   "metadata": {},
   "outputs": [],
   "source": [
    "from xgboost import XGBRanker\n",
    "\n",
    "XGB_model = XGBRanker(\n",
    "    **study.best_params,\n",
    "    verbosity=0, # 2 if self.verbose else 0,\n",
    "    enable_categorical=True,\n",
    ")\n",
    "XGB_model.fit(\n",
    "    train_recs,\n",
    "    train_labs,\n",
    "    group=groups,\n",
    "    verbose=False\n",
    ")"
   ]
  },
  {
   "cell_type": "code",
   "execution_count": null,
   "metadata": {},
   "outputs": [],
   "source": [
    "def submission2(train_recs, XGB_model, users, usermap, itemmap, data_train_val):\n",
    "    \n",
    "    toppoprecommender = TopPop(data_train_val)\n",
    "    toppoprecommender.fit()\n",
    "    \n",
    "    with open('data/results.csv', 'w', newline='') as f:\n",
    "        writer = csv.writer(f)\n",
    "        writer.writerow(['user_id', 'item_list'])\n",
    "        for user_id in users:\n",
    "            predict = train_recs[train_recs[\"UserID\"] == user_id]\n",
    "            user_ids = predict[\"UserID\"].values\n",
    "            item_ids = predict[\"ItemID\"].values\n",
    "            predictions = XGB_model.predict(predict)\n",
    "            if not list(predictions):\n",
    "                predictions = toppoprecommender.recommend(0, cutoff = 10)\n",
    "                item_list = [itemmap[i] for i in predictions]\n",
    "                writer.writerow([usermap[user_id], ' '.join(map(str, item_list))])\n",
    "                continue\n",
    "            predictions = pd.DataFrame({\"UserID\": user_ids, \"ItemID\": item_ids, \"Predictions\": predictions.ravel()})\n",
    "            predictions = predictions.sort_values(by=\"Predictions\", ascending=False)\n",
    "            for i in range(10):\n",
    "                if predictions[\"ItemID\"].values[i] in data_train_val[user_id].indices:\n",
    "                    predictions[\"Predictions\"].values[i] = -10\n",
    "            recommendations = np.array(predictions[\"ItemID\"].values[:10])\n",
    "            item_list = [itemmap[i] for i in recommendations]\n",
    "            writer.writerow([usermap[user_id], ' '.join(map(str, item_list))])\n",
    "                "
   ]
  },
  {
   "cell_type": "code",
   "execution_count": null,
   "metadata": {},
   "outputs": [],
   "source": [
    "submission2(train_recs, XGB_model, users, usermap, itemmap, data_train_val)"
   ]
  }
 ],
 "metadata": {
  "kernelspec": {
   "display_name": "RecSysFramework",
   "language": "python",
   "name": "python3"
  },
  "language_info": {
   "codemirror_mode": {
    "name": "ipython",
    "version": 3
   },
   "file_extension": ".py",
   "mimetype": "text/x-python",
   "name": "python",
   "nbconvert_exporter": "python",
   "pygments_lexer": "ipython3",
   "version": "3.8.18"
  }
 },
 "nbformat": 4,
 "nbformat_minor": 2
}
