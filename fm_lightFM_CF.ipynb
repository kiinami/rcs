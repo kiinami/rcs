{
 "cells": [
  {
   "cell_type": "code",
   "execution_count": 1,
   "metadata": {},
   "outputs": [],
   "source": [
    "import os\n",
    "from utils import *\n",
    "import optuna"
   ]
  },
  {
   "cell_type": "code",
   "execution_count": 2,
   "metadata": {},
   "outputs": [],
   "source": [
    "data, usermap, itemmap, users = load_data2()"
   ]
  },
  {
   "cell_type": "code",
   "execution_count": 3,
   "metadata": {},
   "outputs": [
    {
     "name": "stdout",
     "output_type": "stream",
     "text": [
      "EvaluatorHoldout: Ignoring 2213 (17.5%) Users that have less than 1 test interactions\n",
      "EvaluatorHoldout: Ignoring 2630 (20.8%) Users that have less than 1 test interactions\n"
     ]
    }
   ],
   "source": [
    "from Evaluation.Evaluator import EvaluatorHoldout\n",
    "\n",
    "data_train, data_test, data_val=split_data2(data, 0.2, 0.2)\n",
    "\n",
    "evaluator_validation = EvaluatorHoldout(data_val, cutoff_list=[10])\n",
    "evaluator_test = EvaluatorHoldout(data_test, cutoff_list=[10])"
   ]
  },
  {
   "cell_type": "code",
   "execution_count": 4,
   "metadata": {},
   "outputs": [
    {
     "name": "stderr",
     "output_type": "stream",
     "text": [
      "[I 2024-01-04 16:25:52,378] A new study created in memory with name: LightFMCF\n"
     ]
    }
   ],
   "source": [
    "study_name = \"LightFMCF\"\n",
    "study = optuna.create_study(\n",
    "    study_name=study_name,\n",
    "    #storage=get_database_url(),\n",
    "    load_if_exists=True,\n",
    "    direction=\"maximize\",\n",
    ")"
   ]
  },
  {
   "cell_type": "code",
   "execution_count": 5,
   "metadata": {},
   "outputs": [],
   "source": [
    "#from Recommenders.FactorizationMachines.LightFMRecommender import LightFMCFRecommender\n",
    "#from lightfm import LightFM\n",
    "#\n",
    "#recommender = LightFMCFRecommender(data_train)\n",
    "#recommender.fit(epochs = 10)\n",
    "#_, _, ev_map, _, _ = evaluator(recommender, data_train, data_val)"
   ]
  },
  {
   "cell_type": "code",
   "execution_count": 5,
   "metadata": {},
   "outputs": [
    {
     "ename": "",
     "evalue": "",
     "output_type": "error",
     "traceback": [
      "\u001b[1;31mThe Kernel crashed while executing code in the the current cell or a previous cell. Please review the code in the cell(s) to identify a possible cause of the failure. Click <a href='https://aka.ms/vscodeJupyterKernelCrash'>here</a> for more info. View Jupyter <a href='command:jupyter.viewOutput'>log</a> for further details."
     ]
    }
   ],
   "source": [
    "from Recommenders.FactorizationMachines.LightFMRecommender import LightFMCFRecommender\n",
    "from lightfm import LightFM\n",
    "\n",
    "def objective(trial):\n",
    "    #loss=trial.suggest_categorical(\"loss\", [\"bpr\", \"warp\", \"warp-kos\"])\n",
    "    #sgd_mode=trial.suggest_categorical(\"sgd_mode\", [\"adagrad\", \"adadelta\"])\n",
    "    #n_components=trial.suggest_int('n_components', 0, 100)\n",
    "    #item_alpha=trial.suggest_float('item_alpha', 0, 1.0)\n",
    "    #user_alpha=trial.suggest_float('user_alpha', 0, 1.0)\n",
    "    #learning_rate=trial.suggest_float('learning_rate', 0, 1.0)\n",
    "    #num_threads=1\n",
    "\n",
    "    loss = \"bpr\"\n",
    "    sgd_mode = \"adagrad\" \n",
    "    n_components = 10\n",
    "    item_alpha = 0.0\n",
    "    user_alpha = 0.0\n",
    "    learning_rate = 0.05\n",
    "    \n",
    "    recommender = LightFMCFRecommender(data_train)\n",
    "    recommender.fit(\n",
    "        loss=loss,\n",
    "        sgd_mode=sgd_mode,\n",
    "        n_components=n_components,\n",
    "        item_alpha=item_alpha,\n",
    "        user_alpha=user_alpha,\n",
    "        learning_rate=learning_rate)\n",
    "\n",
    "    _, _, ev_map, _, _ = evaluator(recommender, data_train, data_val)\n",
    "    \n",
    "    return ev_map\n",
    "\n",
    "study.optimize(objective, n_trials=10)"
   ]
  },
  {
   "cell_type": "code",
   "execution_count": null,
   "metadata": {},
   "outputs": [],
   "source": [
    "study.best_params"
   ]
  }
 ],
 "metadata": {
  "kernelspec": {
   "display_name": "RecSysFramework",
   "language": "python",
   "name": "python3"
  },
  "language_info": {
   "codemirror_mode": {
    "name": "ipython",
    "version": 3
   },
   "file_extension": ".py",
   "mimetype": "text/x-python",
   "name": "python",
   "nbconvert_exporter": "python",
   "pygments_lexer": "ipython3",
   "version": "3.8.18"
  }
 },
 "nbformat": 4,
 "nbformat_minor": 2
}
