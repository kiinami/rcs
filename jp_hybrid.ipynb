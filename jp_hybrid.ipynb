{
 "cells": [
  {
   "cell_type": "code",
   "execution_count": 1,
   "metadata": {},
   "outputs": [
    {
     "name": "stderr",
     "output_type": "stream",
     "text": [
      "2024-01-05 15:57:52.181827: I tensorflow/core/platform/cpu_feature_guard.cc:182] This TensorFlow binary is optimized to use available CPU instructions in performance-critical operations.\n",
      "To enable the following instructions: AVX2 FMA, in other operations, rebuild TensorFlow with the appropriate compiler flags.\n",
      "2024-01-05 15:57:52.827373: W tensorflow/compiler/tf2tensorrt/utils/py_utils.cc:38] TF-TRT Warning: Could not find TensorRT\n"
     ]
    }
   ],
   "source": [
    "import os\n",
    "from utils import *\n",
    "import optuna\n",
    "from Recommenders.Recommender_import_list import *\n",
    "from Recommenders.BaseRecommender import BaseRecommender\n",
    "import scipy.sparse as sps"
   ]
  },
  {
   "cell_type": "code",
   "execution_count": 2,
   "metadata": {},
   "outputs": [],
   "source": [
    "data, usermap, itemmap, users = load_data2()\n",
    "data_train, data_val = split_data2(data, 0.2)"
   ]
  },
  {
   "cell_type": "code",
   "execution_count": 3,
   "metadata": {},
   "outputs": [
    {
     "name": "stderr",
     "output_type": "stream",
     "text": [
      "[I 2024-01-05 15:58:07,450] Using an existing study with name 'ItemKNNCF' instead of creating a new one.\n",
      "[I 2024-01-05 15:58:23,798] Using an existing study with name 'UserKNNCF' instead of creating a new one.\n",
      "[I 2024-01-05 15:58:39,797] Using an existing study with name 'P3Beta' instead of creating a new one.\n"
     ]
    }
   ],
   "source": [
    "itemknncf_study = optuna.create_study(\n",
    "    study_name=\"ItemKNNCF\",\n",
    "    storage=get_database_url(),\n",
    "    load_if_exists=True,\n",
    "    direction=\"maximize\",\n",
    ")\n",
    "userknncf_study = optuna.create_study(\n",
    "    study_name=\"UserKNNCF\",\n",
    "    storage=get_database_url(),\n",
    "    load_if_exists=True,\n",
    "    direction=\"maximize\",\n",
    ")\n",
    "p3beta_study = optuna.create_study(\n",
    "    study_name=\"P3Beta\",\n",
    "    storage=get_database_url(),\n",
    "    load_if_exists=True,\n",
    "    direction=\"maximize\",\n",
    ")"
   ]
  },
  {
   "cell_type": "code",
   "execution_count": 4,
   "metadata": {},
   "outputs": [],
   "source": [
    "recommenders = [\n",
    "    {\n",
    "        \"recommender\": ItemKNNCFRecommender,\n",
    "        \"params\": itemknncf_study.best_params,\n",
    "    },\n",
    "    {\n",
    "        \"recommender\": UserKNNCFRecommender,\n",
    "        \"params\": userknncf_study.best_params,\n",
    "    },\n",
    "    {\n",
    "        \"recommender\": RP3betaRecommender,\n",
    "        \"params\": p3beta_study.best_params,\n",
    "    }\n",
    "]"
   ]
  },
  {
   "cell_type": "code",
   "execution_count": 8,
   "metadata": {},
   "outputs": [],
   "source": [
    "from Recommenders.BaseRecommender import BaseRecommender\n",
    "\n",
    "class ScoresHybridRecommender(BaseRecommender):\n",
    "\n",
    "    RECOMMENDER_NAME = \"ScoresHybridRecommender\"\n",
    "\n",
    "    def __init__(self, data_train, recommenders):\n",
    "        super(ScoresHybridRecommender, self).__init__(data_train)\n",
    "\n",
    "        self.data_train = sps.csr_matrix(data_train)\n",
    "        self.recommenders = recommenders\n",
    "        \n",
    "    def prefit(self):\n",
    "        for rec in self.recommenders:\n",
    "            rec[\"recommender\"] = rec[\"recommender\"](self.data_train)\n",
    "            rec[\"recommender\"].fit(**rec[\"params\"])\n",
    "        \n",
    "        \n",
    "    def fit(self, weights):\n",
    "        self.weights = weights      \n",
    "\n",
    "\n",
    "    def _compute_item_score(self, user_id_array, items_to_compute):\n",
    "        \n",
    "        # In a simple extension this could be a loop over a list of pretrained recommender objects\n",
    "        item_weights = []\n",
    "        for rec in self.recommenders:\n",
    "            item_weights.append(rec[\"recommender\"]._compute_item_score(user_id_array, items_to_compute))\n",
    "\n",
    "        item_weights = sum([a*b for a,b in zip(item_weights, self.weights)])\n",
    "        return item_weights"
   ]
  },
  {
   "cell_type": "code",
   "execution_count": 6,
   "metadata": {},
   "outputs": [
    {
     "name": "stderr",
     "output_type": "stream",
     "text": [
      "[I 2024-01-05 15:59:06,640] Using an existing study with name 'ScoresHybrid' instead of creating a new one.\n"
     ]
    }
   ],
   "source": [
    "scores_hybrid_study = optuna.create_study(\n",
    "    study_name=\"ScoresHybrid\",\n",
    "    storage=get_database_url(),\n",
    "    load_if_exists=True,\n",
    "    direction=\"maximize\",\n",
    ")"
   ]
  },
  {
   "cell_type": "code",
   "execution_count": 9,
   "metadata": {},
   "outputs": [
    {
     "name": "stdout",
     "output_type": "stream",
     "text": [
      "ScoresHybridRecommender: URM Detected 215 ( 1.7%) users with no interactions.\n",
      "ScoresHybridRecommender: URM Detected 127 ( 0.6%) items with no interactions.\n",
      "ItemKNNCFRecommender: URM Detected 215 ( 1.7%) users with no interactions.\n",
      "ItemKNNCFRecommender: URM Detected 127 ( 0.6%) items with no interactions.\n",
      "Similarity column 22222 (100.0%), 9876.86 column/sec. Elapsed time 2.25 sec\n",
      "UserKNNCFRecommender: URM Detected 215 ( 1.7%) users with no interactions.\n",
      "UserKNNCFRecommender: URM Detected 127 ( 0.6%) items with no interactions.\n",
      "Similarity column 12638 (100.0%), 10062.87 column/sec. Elapsed time 1.26 sec\n",
      "RP3betaRecommender: URM Detected 215 ( 1.7%) users with no interactions.\n",
      "RP3betaRecommender: URM Detected 127 ( 0.6%) items with no interactions.\n",
      "RP3betaRecommender: Similarity column 22222 (100.0%), 4389.92 column/sec. Elapsed time 5.06 sec\n"
     ]
    },
    {
     "name": "stderr",
     "output_type": "stream",
     "text": [
      "/tmp/ipykernel_48274/2146444983.py:7: FutureWarning: suggest_uniform has been deprecated in v3.0.0. This feature will be removed in v6.0.0. See https://github.com/optuna/optuna/releases/tag/v3.0.0. Use suggest_float instead.\n",
      "  weights.append(trial.suggest_uniform(\"weight_{}\".format(i), 0, 1))\n",
      "[I 2024-01-05 16:00:54,366] Trial 0 finished with value: 0.0748597494067432 and parameters: {'weight_0': 0.6939324663886626, 'weight_1': 0.22386061566316262, 'weight_2': 0.16925307885447627}. Best is trial 0 with value: 0.0748597494067432.\n",
      "[I 2024-01-05 16:01:27,137] Trial 1 finished with value: 0.07336114968865434 and parameters: {'weight_0': 0.6522523581713598, 'weight_1': 0.47760906929164404, 'weight_2': 0.6541540365328569}. Best is trial 0 with value: 0.0748597494067432.\n",
      "[I 2024-01-05 16:02:01,942] Trial 2 finished with value: 0.06608064622209452 and parameters: {'weight_0': 0.06789674663545808, 'weight_1': 0.8684945149522487, 'weight_2': 0.9323095869048201}. Best is trial 0 with value: 0.0748597494067432.\n",
      "[I 2024-01-05 16:02:35,121] Trial 3 finished with value: 0.07070989440207098 and parameters: {'weight_0': 0.5783784287094162, 'weight_1': 0.9954995470293515, 'weight_2': 0.7430257454517409}. Best is trial 0 with value: 0.0748597494067432.\n",
      "[I 2024-01-05 16:03:08,411] Trial 4 finished with value: 0.07633755347985426 and parameters: {'weight_0': 0.8687238986503298, 'weight_1': 0.06841013992506417, 'weight_2': 0.9707459527188532}. Best is trial 4 with value: 0.07633755347985426.\n",
      "[I 2024-01-05 16:03:36,676] Trial 5 finished with value: 0.07204015499292529 and parameters: {'weight_0': 0.9576353081915819, 'weight_1': 0.99364056084305, 'weight_2': 0.4279087659296025}. Best is trial 4 with value: 0.07633755347985426.\n",
      "[I 2024-01-05 16:04:09,444] Trial 6 finished with value: 0.0701423151917585 and parameters: {'weight_0': 0.17608073377001898, 'weight_1': 0.40499045460238825, 'weight_2': 0.6845569997825722}. Best is trial 4 with value: 0.07633755347985426.\n",
      "[I 2024-01-05 16:04:42,895] Trial 7 finished with value: 0.07129292890213443 and parameters: {'weight_0': 0.5282165646924919, 'weight_1': 0.7722074820271863, 'weight_2': 0.9785421232304645}. Best is trial 4 with value: 0.07633755347985426.\n",
      "[I 2024-01-05 16:05:17,746] Trial 8 finished with value: 0.06932869993366662 and parameters: {'weight_0': 0.31244645947689165, 'weight_1': 0.8316320092195425, 'weight_2': 0.8200999167445036}. Best is trial 4 with value: 0.07633755347985426.\n",
      "[I 2024-01-05 16:05:51,232] Trial 9 finished with value: 0.06756173950991205 and parameters: {'weight_0': 0.09438640539637422, 'weight_1': 0.43244913239938176, 'weight_2': 0.15019209571631387}. Best is trial 4 with value: 0.07633755347985426.\n",
      "[I 2024-01-05 16:06:23,075] Trial 10 finished with value: 0.07488542280386645 and parameters: {'weight_0': 0.9513263546545998, 'weight_1': 0.004767524334230999, 'weight_2': 0.4259383248099552}. Best is trial 4 with value: 0.07633755347985426.\n",
      "[I 2024-01-05 16:06:55,119] Trial 11 finished with value: 0.07475588689645873 and parameters: {'weight_0': 0.9801702619912036, 'weight_1': 0.003601316853340781, 'weight_2': 0.40719363636583156}. Best is trial 4 with value: 0.07633755347985426.\n",
      "[I 2024-01-05 16:07:32,503] Trial 12 finished with value: 0.07539043193955267 and parameters: {'weight_0': 0.8028723747238751, 'weight_1': 0.019785554486562374, 'weight_2': 0.33048715134842555}. Best is trial 4 with value: 0.07633755347985426.\n",
      "[I 2024-01-05 16:08:05,162] Trial 13 finished with value: 0.07537748088570134 and parameters: {'weight_0': 0.7940650585339096, 'weight_1': 0.18174505687995313, 'weight_2': 0.25517123224459864}. Best is trial 4 with value: 0.07633755347985426.\n",
      "[I 2024-01-05 16:08:35,883] Trial 14 finished with value: 0.07558692456256026 and parameters: {'weight_0': 0.8043404520705376, 'weight_1': 0.18524982611630508, 'weight_2': 0.5598601486191123}. Best is trial 4 with value: 0.07633755347985426.\n",
      "[I 2024-01-05 16:09:10,300] Trial 15 finished with value: 0.07511709723314472 and parameters: {'weight_0': 0.8229413296509844, 'weight_1': 0.22866538178917278, 'weight_2': 0.004383799485138895}. Best is trial 4 with value: 0.07633755347985426.\n",
      "[I 2024-01-05 16:09:43,775] Trial 16 finished with value: 0.07311521986279775 and parameters: {'weight_0': 0.3668577842698156, 'weight_1': 0.31433866216306394, 'weight_2': 0.5786580201832426}. Best is trial 4 with value: 0.07633755347985426.\n",
      "[I 2024-01-05 16:10:15,696] Trial 17 finished with value: 0.07290212694019621 and parameters: {'weight_0': 0.6980699046209071, 'weight_1': 0.6263039952382585, 'weight_2': 0.8691390585704388}. Best is trial 4 with value: 0.07633755347985426.\n",
      "[I 2024-01-05 16:10:49,119] Trial 18 finished with value: 0.07559171037686756 and parameters: {'weight_0': 0.43048181165040444, 'weight_1': 0.12762465326806485, 'weight_2': 0.5756625634261628}. Best is trial 4 with value: 0.07633755347985426.\n",
      "[I 2024-01-05 16:11:22,603] Trial 19 finished with value: 0.07608476062433087 and parameters: {'weight_0': 0.4328549594422302, 'weight_1': 0.10674395175671691, 'weight_2': 0.7722753338089686}. Best is trial 4 with value: 0.07633755347985426.\n",
      "[I 2024-01-05 16:11:56,283] Trial 20 finished with value: 0.06955977312463275 and parameters: {'weight_0': 0.21473097335836389, 'weight_1': 0.5741000592580754, 'weight_2': 0.7997303536597857}. Best is trial 4 with value: 0.07633755347985426.\n",
      "[I 2024-01-05 16:12:29,727] Trial 21 finished with value: 0.07618863331822172 and parameters: {'weight_0': 0.436339235833862, 'weight_1': 0.10797827320533204, 'weight_2': 0.8819644618982649}. Best is trial 4 with value: 0.07633755347985426.\n",
      "[I 2024-01-05 16:12:56,964] Trial 22 finished with value: 0.07376153320446824 and parameters: {'weight_0': 0.43268048628070627, 'weight_1': 0.31876489963441856, 'weight_2': 0.9990623268446128}. Best is trial 4 with value: 0.07633755347985426.\n",
      "[I 2024-01-05 16:13:30,895] Trial 23 finished with value: 0.07613076871555768 and parameters: {'weight_0': 0.2506710226554438, 'weight_1': 0.089600802939242, 'weight_2': 0.894010634986927}. Best is trial 4 with value: 0.07633755347985426.\n",
      "[I 2024-01-05 16:14:05,524] Trial 24 finished with value: 0.07615088585899257 and parameters: {'weight_0': 0.28029901467469753, 'weight_1': 0.09439740377491308, 'weight_2': 0.8963835838997993}. Best is trial 4 with value: 0.07633755347985426.\n",
      "[I 2024-01-05 16:14:40,388] Trial 25 finished with value: 0.07280899593823696 and parameters: {'weight_0': 0.29948869773247044, 'weight_1': 0.308572653301018, 'weight_2': 0.8877773911305471}. Best is trial 4 with value: 0.07633755347985426.\n",
      "[I 2024-01-05 16:15:14,340] Trial 26 finished with value: 0.07605388612303324 and parameters: {'weight_0': 0.5956478610999115, 'weight_1': 0.08782962764311579, 'weight_2': 0.6987548328813604}. Best is trial 4 with value: 0.07633755347985426.\n",
      "[I 2024-01-05 16:15:49,667] Trial 27 finished with value: 0.0711524845499973 and parameters: {'weight_0': 0.15000684452754312, 'weight_1': 0.29392721153376383, 'weight_2': 0.8342486166359369}. Best is trial 4 with value: 0.07633755347985426.\n",
      "[I 2024-01-05 16:16:22,027] Trial 28 finished with value: 0.07571395827679761 and parameters: {'weight_0': 0.3681076329633589, 'weight_1': 0.1352724134682632, 'weight_2': 0.9614424051709896}. Best is trial 4 with value: 0.07633755347985426.\n",
      "[I 2024-01-05 16:16:55,125] Trial 29 finished with value: 0.07497042362312102 and parameters: {'weight_0': 0.5014115189738297, 'weight_1': 0.21617829705868868, 'weight_2': 0.9201099617960224}. Best is trial 4 with value: 0.07633755347985426.\n",
      "[I 2024-01-05 16:17:29,916] Trial 30 finished with value: 0.0739758872270202 and parameters: {'weight_0': 0.6936538003588538, 'weight_1': 0.3807702605889599, 'weight_2': 0.7361420207804199}. Best is trial 4 with value: 0.07633755347985426.\n",
      "[I 2024-01-05 16:17:59,698] Trial 31 finished with value: 0.07683653174271528 and parameters: {'weight_0': 0.24291770607747287, 'weight_1': 0.05751493794703432, 'weight_2': 0.883073719232517}. Best is trial 31 with value: 0.07683653174271528.\n",
      "[I 2024-01-05 16:18:37,400] Trial 32 finished with value: 0.07138900292124707 and parameters: {'weight_0': 0.0023382215436603127, 'weight_1': 0.06562919505348663, 'weight_2': 0.8523660814314167}. Best is trial 31 with value: 0.07683653174271528.\n",
      "[I 2024-01-05 16:19:12,011] Trial 33 finished with value: 0.07381382376968322 and parameters: {'weight_0': 0.33646395838879406, 'weight_1': 0.2513041848707588, 'weight_2': 0.9294145773289472}. Best is trial 31 with value: 0.07683653174271528.\n",
      "[I 2024-01-05 16:19:46,111] Trial 34 finished with value: 0.07422973160748157 and parameters: {'weight_0': 0.25838670606461356, 'weight_1': 0.163579569166853, 'weight_2': 0.6248395134308143}. Best is trial 31 with value: 0.07683653174271528.\n",
      "[I 2024-01-05 16:20:19,391] Trial 35 finished with value: 0.07782912487242555 and parameters: {'weight_0': 0.13211269115644814, 'weight_1': 0.03860579494259194, 'weight_2': 0.995646802118891}. Best is trial 35 with value: 0.07782912487242555.\n",
      "[I 2024-01-05 16:20:53,080] Trial 36 finished with value: 0.07556676877248969 and parameters: {'weight_0': 0.10190060981882687, 'weight_1': 0.0768916032279422, 'weight_2': 0.952242617447368}. Best is trial 35 with value: 0.07782912487242555.\n",
      "[I 2024-01-05 16:21:26,043] Trial 37 finished with value: 0.07674535297412716 and parameters: {'weight_0': 0.013409513373053794, 'weight_1': 0.03676750496244863, 'weight_2': 0.9954737233905177}. Best is trial 35 with value: 0.07782912487242555.\n",
      "[I 2024-01-05 16:21:59,905] Trial 38 finished with value: 0.07556326754951964 and parameters: {'weight_0': 0.004846557930522851, 'weight_1': 0.03701185011536412, 'weight_2': 0.987899261635485}. Best is trial 35 with value: 0.07782912487242555.\n",
      "[I 2024-01-05 16:22:33,945] Trial 39 finished with value: 0.0680789938764021 and parameters: {'weight_0': 0.14858515699509814, 'weight_1': 0.7077967871991335, 'weight_2': 0.9942615540083859}. Best is trial 35 with value: 0.07782912487242555.\n",
      "[I 2024-01-05 16:23:05,168] Trial 40 finished with value: 0.07087498969022525 and parameters: {'weight_0': 0.05580614995800942, 'weight_1': 0.1547221842676504, 'weight_2': 0.7643897294041204}. Best is trial 35 with value: 0.07782912487242555.\n",
      "[I 2024-01-05 16:23:35,694] Trial 41 finished with value: 0.07706296672158477 and parameters: {'weight_0': 0.19826399028770186, 'weight_1': 0.049172119908687605, 'weight_2': 0.8153989944049362}. Best is trial 35 with value: 0.07782912487242555.\n",
      "[I 2024-01-05 16:24:08,975] Trial 42 finished with value: 0.07717258364531822 and parameters: {'weight_0': 0.19699161799691253, 'weight_1': 0.050927169091206516, 'weight_2': 0.9408256487618235}. Best is trial 35 with value: 0.07782912487242555.\n",
      "[I 2024-01-05 16:24:43,165] Trial 43 finished with value: 0.07724174221280324 and parameters: {'weight_0': 0.18735608621050281, 'weight_1': 0.03599775909760801, 'weight_2': 0.8201823150527748}. Best is trial 35 with value: 0.07782912487242555.\n",
      "[I 2024-01-05 16:25:15,433] Trial 44 finished with value: 0.07711347948148109 and parameters: {'weight_0': 0.2004964152452926, 'weight_1': 0.041717322344013825, 'weight_2': 0.8081943689309438}. Best is trial 35 with value: 0.07782912487242555.\n",
      "[I 2024-01-05 16:25:53,728] Trial 45 finished with value: 0.06790407744625943 and parameters: {'weight_0': 0.20363942947064495, 'weight_1': 0.9160460949813756, 'weight_2': 0.6936410634920884}. Best is trial 35 with value: 0.07782912487242555.\n",
      "[I 2024-01-05 16:26:26,703] Trial 46 finished with value: 0.07851797874232572 and parameters: {'weight_0': 0.12291126420228092, 'weight_1': 0.0038173291902883974, 'weight_2': 0.8100147662682496}. Best is trial 46 with value: 0.07851797874232572.\n",
      "[I 2024-01-05 16:26:59,257] Trial 47 finished with value: 0.07843110142088401 and parameters: {'weight_0': 0.12456750086369367, 'weight_1': 0.0032149267539882953, 'weight_2': 0.7889476426973568}. Best is trial 46 with value: 0.07851797874232572.\n",
      "[I 2024-01-05 16:27:37,976] Trial 48 finished with value: 0.07131117069992747 and parameters: {'weight_0': 0.11174589401027954, 'weight_1': 0.20903111787112647, 'weight_2': 0.6508538624969671}. Best is trial 46 with value: 0.07851797874232572.\n",
      "[I 2024-01-05 16:28:08,739] Trial 49 finished with value: 0.08023586795723398 and parameters: {'weight_0': 0.05769978376494983, 'weight_1': 0.0015104460920561552, 'weight_2': 0.7192756413610377}. Best is trial 49 with value: 0.08023586795723398.\n",
      "[I 2024-01-05 16:28:41,362] Trial 50 finished with value: 0.07938532503523822 and parameters: {'weight_0': 0.04702748689396674, 'weight_1': 0.006747204142077164, 'weight_2': 0.46775316622764795}. Best is trial 49 with value: 0.08023586795723398.\n",
      "[I 2024-01-05 16:29:16,883] Trial 51 finished with value: 0.07863748142438112 and parameters: {'weight_0': 0.05684072109516708, 'weight_1': 0.008811818916541043, 'weight_2': 0.47253171052783327}. Best is trial 49 with value: 0.08023586795723398.\n",
      "[I 2024-01-05 16:29:51,711] Trial 52 finished with value: 0.07749789158795906 and parameters: {'weight_0': 0.08242401387887074, 'weight_1': 0.021032095197820944, 'weight_2': 0.4868820567212586}. Best is trial 49 with value: 0.08023586795723398.\n",
      "[I 2024-01-05 16:30:28,369] Trial 53 finished with value: 0.07875266717359992 and parameters: {'weight_0': 0.05710501680307549, 'weight_1': 0.0007626458684570256, 'weight_2': 0.48616187140435696}. Best is trial 49 with value: 0.08023586795723398.\n",
      "[I 2024-01-05 16:31:03,084] Trial 54 finished with value: 0.07828208645258089 and parameters: {'weight_0': 0.049462274273791275, 'weight_1': 0.008662977903728195, 'weight_2': 0.36532906946777244}. Best is trial 49 with value: 0.08023586795723398.\n",
      "[I 2024-01-05 16:31:34,463] Trial 55 finished with value: 0.07043217823661341 and parameters: {'weight_0': 0.05539163879729788, 'weight_1': 0.14688367774298244, 'weight_2': 0.48612417922954687}. Best is trial 49 with value: 0.08023586795723398.\n",
      "[I 2024-01-05 16:32:07,689] Trial 56 finished with value: 0.07063502317692669 and parameters: {'weight_0': 0.038097896804366885, 'weight_1': 0.11539150166381609, 'weight_2': 0.5293611003012504}. Best is trial 49 with value: 0.08023586795723398.\n",
      "[I 2024-01-05 16:32:32,592] Trial 57 finished with value: 0.07713625041563525 and parameters: {'weight_0': 0.08713899022306971, 'weight_1': 0.0019800955211479302, 'weight_2': 0.2944792367436762}. Best is trial 49 with value: 0.08023586795723398.\n",
      "[I 2024-01-05 16:32:54,249] Trial 58 finished with value: 0.07622239945301963 and parameters: {'weight_0': 0.1534662156597467, 'weight_1': 0.0011806689122140475, 'weight_2': 0.3960609031013258}. Best is trial 49 with value: 0.08023586795723398.\n",
      "[I 2024-01-05 16:33:15,539] Trial 65 finished with value: 0.07173199872156381 and parameters: {'weight_0': 0.11875444554300202, 'weight_1': 0.18080224467965667, 'weight_2': 0.5178642172119959}. Best is trial 49 with value: 0.08023586795723398.\n",
      "[I 2024-01-05 16:33:40,366] Trial 72 finished with value: 0.07136213102781767 and parameters: {'weight_0': 0.041905455208511494, 'weight_1': 0.0853541125355671, 'weight_2': 0.3188208931975985}. Best is trial 49 with value: 0.08023586795723398.\n",
      "[I 2024-01-05 16:34:05,707] Trial 79 finished with value: 0.07332013333687079 and parameters: {'weight_0': 0.16115852734448566, 'weight_1': 0.12539075014803228, 'weight_2': 0.21704305973616583}. Best is trial 49 with value: 0.08023586795723398.\n",
      "[I 2024-01-05 16:34:32,132] Trial 85 finished with value: 0.0731267837382455 and parameters: {'weight_0': 0.019659513777541035, 'weight_1': 0.06232267155594298, 'weight_2': 0.779376754699868}. Best is trial 49 with value: 0.08023586795723398.\n",
      "[I 2024-01-05 16:34:58,483] Trial 100 finished with value: 0.0783672685189992 and parameters: {'weight_0': 0.09083014354005486, 'weight_1': 0.002776277338905486, 'weight_2': 0.5653749915858521}. Best is trial 96 with value: 0.08041238486776638.\n",
      "[I 2024-01-05 16:35:24,727] Trial 111 finished with value: 0.0745992229433777 and parameters: {'weight_0': 0.13971100982828824, 'weight_1': 0.11110382013027892, 'weight_2': 0.8489093429327271}. Best is trial 96 with value: 0.08041238486776638.\n",
      "[I 2024-01-05 16:35:49,602] Trial 120 finished with value: 0.06627818302522707 and parameters: {'weight_0': 0.05841642764606994, 'weight_1': 0.670135640639852, 'weight_2': 0.7455093858095302}. Best is trial 96 with value: 0.08041238486776638.\n",
      "[I 2024-01-05 16:36:13,699] Trial 128 finished with value: 0.07810752303910229 and parameters: {'weight_0': 0.11254387813626887, 'weight_1': 0.025523959112661736, 'weight_2': 0.811943215436878}. Best is trial 121 with value: 0.08049982424204019.\n",
      "[I 2024-01-05 16:36:38,027] Trial 135 finished with value: 0.07630652912333542 and parameters: {'weight_0': 0.6420148639008654, 'weight_1': 0.06676672313746593, 'weight_2': 0.7360373459897417}. Best is trial 121 with value: 0.08049982424204019.\n",
      "[I 2024-01-05 16:37:04,361] Trial 140 finished with value: 0.0788511508622624 and parameters: {'weight_0': 0.07278237188445295, 'weight_1': 0.0020404254616901343, 'weight_2': 0.5404331982584354}. Best is trial 121 with value: 0.08049982424204019.\n",
      "[I 2024-01-05 16:37:29,489] Trial 153 finished with value: 0.0772065105399063 and parameters: {'weight_0': 0.14939460522868322, 'weight_1': 0.04304952818465466, 'weight_2': 0.7885785135636225}. Best is trial 121 with value: 0.08049982424204019.\n",
      "[I 2024-01-05 16:37:52,242] Trial 164 finished with value: 0.06842349542354123 and parameters: {'weight_0': 0.05230354692373036, 'weight_1': 0.24688451666102018, 'weight_2': 0.4874234194005153}. Best is trial 160 with value: 0.08164524939929277.\n",
      "[I 2024-01-05 16:38:20,759] Trial 168 finished with value: 0.0771163841073401 and parameters: {'weight_0': 0.020423117309204444, 'weight_1': 0.019010667427433944, 'weight_2': 0.4507400434723781}. Best is trial 160 with value: 0.08164524939929277.\n",
      "[I 2024-01-05 16:38:46,096] Trial 181 finished with value: 0.06618155715378676 and parameters: {'weight_0': 0.08554183618948671, 'weight_1': 0.897780631281366, 'weight_2': 0.7636949515979273}. Best is trial 160 with value: 0.08164524939929277.\n",
      "[I 2024-01-05 16:39:09,403] Trial 186 finished with value: 0.08136255695189272 and parameters: {'weight_0': 0.037095480012279435, 'weight_1': 0.0003616447517054357, 'weight_2': 0.7626762447302486}. Best is trial 160 with value: 0.08164524939929277.\n",
      "[I 2024-01-05 16:39:36,440] Trial 193 finished with value: 0.07578370483489495 and parameters: {'weight_0': 0.03380357731795687, 'weight_1': 0.03547292741251562, 'weight_2': 0.5894079421017476}. Best is trial 160 with value: 0.08164524939929277.\n",
      "[I 2024-01-05 16:40:05,358] Trial 202 finished with value: 0.08384558301308127 and parameters: {'weight_0': 0.012043146329043831, 'weight_1': 0.000702019982461121, 'weight_2': 0.6033911138945971}. Best is trial 202 with value: 0.08384558301308127.\n",
      "[I 2024-01-05 16:40:38,021] Trial 213 finished with value: 0.08429159976427865 and parameters: {'weight_0': 0.0014590512227312877, 'weight_1': 0.000887063460402536, 'weight_2': 0.6421752449563862}. Best is trial 210 with value: 0.08506915084640007.\n",
      "[I 2024-01-05 16:41:14,493] Trial 221 finished with value: 0.07771900270363616 and parameters: {'weight_0': 0.00545615932263073, 'weight_1': 0.01858700178911069, 'weight_2': 0.6413771895467856}. Best is trial 215 with value: 0.08640446711669171.\n",
      "[I 2024-01-05 16:41:54,610] Trial 234 finished with value: 0.08204203535526981 and parameters: {'weight_0': 0.02578339061442647, 'weight_1': 0.001058312094572445, 'weight_2': 0.6208376187913364}. Best is trial 215 with value: 0.08640446711669171.\n",
      "[I 2024-01-05 16:42:32,325] Trial 245 finished with value: 0.07511056022907964 and parameters: {'weight_0': 0.025432695028598493, 'weight_1': 0.03894850046183588, 'weight_2': 0.6212442115910266}. Best is trial 215 with value: 0.08640446711669171.\n",
      "[I 2024-01-05 16:43:08,333] Trial 259 finished with value: 0.07975348897260205 and parameters: {'weight_0': 0.04839865968524265, 'weight_1': 0.00026784810875835736, 'weight_2': 0.5940478795768398}. Best is trial 215 with value: 0.08640446711669171.\n",
      "[I 2024-01-05 16:43:39,382] Trial 271 finished with value: 0.06973349350674037 and parameters: {'weight_0': 0.0009951340272114015, 'weight_1': 0.06594577472077605, 'weight_2': 0.6285793582638021}. Best is trial 215 with value: 0.08640446711669171.\n",
      "[I 2024-01-05 16:44:13,972] Trial 282 finished with value: 0.0759529096137232 and parameters: {'weight_0': 0.001296756969690645, 'weight_1': 0.023013686406523442, 'weight_2': 0.6870682784634797}. Best is trial 215 with value: 0.08640446711669171.\n",
      "[I 2024-01-05 16:44:47,343] Trial 297 finished with value: 0.0821287483571647 and parameters: {'weight_0': 0.01981030909501546, 'weight_1': 1.6601449387810532e-05, 'weight_2': 0.578432531920094}. Best is trial 215 with value: 0.08640446711669171.\n",
      "[I 2024-01-05 16:45:20,445] Trial 310 finished with value: 0.07170355449734969 and parameters: {'weight_0': 0.0002506748798944825, 'weight_1': 0.03768020633648484, 'weight_2': 0.5576658019170846}. Best is trial 215 with value: 0.08640446711669171.\n",
      "[I 2024-01-05 16:45:50,107] Trial 322 finished with value: 0.07576630428108466 and parameters: {'weight_0': 0.730893764788927, 'weight_1': 0.01643072501756313, 'weight_2': 0.6803134140522048}. Best is trial 215 with value: 0.08640446711669171.\n",
      "[I 2024-01-05 16:46:23,148] Trial 329 finished with value: 0.08094157058869687 and parameters: {'weight_0': 0.03746034877659387, 'weight_1': 0.003608931152703861, 'weight_2': 0.594586054138351}. Best is trial 215 with value: 0.08640446711669171.\n",
      "[I 2024-01-05 16:46:56,463] Trial 341 finished with value: 0.06877479358160508 and parameters: {'weight_0': 0.00038197080373615633, 'weight_1': 0.08249766309242242, 'weight_2': 0.6415035183622534}. Best is trial 215 with value: 0.08640446711669171.\n",
      "[I 2024-01-05 16:47:34,560] Trial 352 finished with value: 0.07768470533906463 and parameters: {'weight_0': 0.057179804319179975, 'weight_1': 0.027176535117827146, 'weight_2': 0.6141929879670386}. Best is trial 215 with value: 0.08640446711669171.\n",
      "[I 2024-01-05 16:48:13,479] Trial 365 finished with value: 0.08291303173504885 and parameters: {'weight_0': 0.018034441719020893, 'weight_1': 0.0001937537508730282, 'weight_2': 0.6601743394745383}. Best is trial 215 with value: 0.08640446711669171.\n",
      "[I 2024-01-05 16:48:47,636] Trial 378 finished with value: 0.07751189886802985 and parameters: {'weight_0': 0.002582178340620688, 'weight_1': 0.01584435604192206, 'weight_2': 0.5693331559323114}. Best is trial 215 with value: 0.08640446711669171.\n",
      "[I 2024-01-05 16:49:21,995] Trial 390 finished with value: 0.06545693001736826 and parameters: {'weight_0': 0.04040136091423123, 'weight_1': 0.6760233059078153, 'weight_2': 0.5407303958106878}. Best is trial 215 with value: 0.08640446711669171.\n",
      "[I 2024-01-05 16:49:55,149] Trial 409 finished with value: 0.07769836914021476 and parameters: {'weight_0': 0.0016638597686406947, 'weight_1': 0.015147865446108825, 'weight_2': 0.5937618300468772}. Best is trial 215 with value: 0.08640446711669171.\n",
      "[I 2024-01-05 16:53:19,172] Trial 421 finished with value: 0.07796318138479527 and parameters: {'weight_0': 0.021820712927282014, 'weight_1': 0.0186688333477855, 'weight_2': 0.5629366846429837}. Best is trial 215 with value: 0.08640446711669171.\n",
      "[I 2024-01-05 16:53:58,636] Trial 431 finished with value: 0.07642082712644008 and parameters: {'weight_0': 0.3869357237330614, 'weight_1': 0.04597422248309434, 'weight_2': 0.5849244524230458}. Best is trial 215 with value: 0.08640446711669171.\n",
      "[I 2024-01-05 16:54:32,391] Trial 445 finished with value: 0.06912153298373343 and parameters: {'weight_0': 0.07063096085938061, 'weight_1': 0.2641001359230075, 'weight_2': 0.6249943950213617}. Best is trial 215 with value: 0.08640446711669171.\n",
      "[I 2024-01-05 16:55:04,788] Trial 457 finished with value: 0.07636490634590899 and parameters: {'weight_0': 0.021330340001858218, 'weight_1': 0.030106029076207807, 'weight_2': 0.64589820245858}. Best is trial 215 with value: 0.08640446711669171.\n",
      "[I 2024-01-05 16:55:40,196] Trial 467 finished with value: 0.07528695727747053 and parameters: {'weight_0': 0.0450507140117238, 'weight_1': 0.0006741967621245427, 'weight_2': 0.026349877631003382}. Best is trial 215 with value: 0.08640446711669171.\n",
      "[I 2024-01-05 16:56:13,609] Trial 481 finished with value: 0.07893629518324916 and parameters: {'weight_0': 0.025688017944606633, 'weight_1': 0.01740575434201806, 'weight_2': 0.6767218979344155}. Best is trial 215 with value: 0.08640446711669171.\n",
      "[I 2024-01-05 16:56:47,433] Trial 489 finished with value: 0.08341666880252023 and parameters: {'weight_0': 8.25282436867393e-05, 'weight_1': 0.00015805403372423806, 'weight_2': 0.6291381784320861}. Best is trial 215 with value: 0.08640446711669171.\n"
     ]
    }
   ],
   "source": [
    "scores_hybrid_recommender = ScoresHybridRecommender(data_train, recommenders)\n",
    "scores_hybrid_recommender.prefit()\n",
    "\n",
    "def objective(trial):\n",
    "    weights = []\n",
    "    for i in range(len(recommenders)):\n",
    "        weights.append(trial.suggest_uniform(\"weight_{}\".format(i), 0, 1))\n",
    "    scores_hybrid_recommender.fit(weights)\n",
    "    _, _, ev_map, _, _ = evaluator(scores_hybrid_recommender, data_train, data_val)\n",
    "    return ev_map\n",
    "\n",
    "scores_hybrid_study.optimize(objective, n_trials=100)"
   ]
  },
  {
   "cell_type": "code",
   "execution_count": null,
   "metadata": {},
   "outputs": [],
   "source": []
  }
 ],
 "metadata": {
  "kernelspec": {
   "display_name": "RecSysFramework",
   "language": "python",
   "name": "python3"
  },
  "language_info": {
   "codemirror_mode": {
    "name": "ipython",
    "version": 3
   },
   "file_extension": ".py",
   "mimetype": "text/x-python",
   "name": "python",
   "nbconvert_exporter": "python",
   "pygments_lexer": "ipython3",
   "version": "3.8.18"
  }
 },
 "nbformat": 4,
 "nbformat_minor": 2
}
