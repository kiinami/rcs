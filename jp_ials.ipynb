{
 "cells": [
  {
   "cell_type": "code",
   "execution_count": null,
   "metadata": {},
   "outputs": [],
   "source": [
    "import os\n",
    "from utils import *\n",
    "import optuna"
   ]
  },
  {
   "cell_type": "code",
   "execution_count": null,
   "metadata": {},
   "outputs": [],
   "source": [
    "data, usermap, itemmap, users = load_data2()\n",
    "data_train, data_test, data_val = split_data2(data, 0, 0.2)"
   ]
  },
  {
   "cell_type": "code",
   "execution_count": null,
   "metadata": {},
   "outputs": [],
   "source": [
    "study_name = \"IALS\"\n",
    "study = optuna.create_study(\n",
    "    study_name=study_name,\n",
    "    storage=get_database_url(),\n",
    "    load_if_exists=True,\n",
    "    direction=\"maximize\",\n",
    ")"
   ]
  },
  {
   "cell_type": "code",
   "execution_count": null,
   "metadata": {},
   "outputs": [],
   "source": [
    "from Evaluation.Evaluator import EvaluatorHoldout\n",
    "from Recommenders.MatrixFactorization.IALSRecommender import IALSRecommender\n",
    "\n",
    "evaluator_validation = EvaluatorHoldout(data_val, cutoff_list=[10])\n",
    "\n",
    "def objective(trial):\n",
    "    num_factors = trial.suggest_int('num_factors', 1, 500)\n",
    "    epochs = trial.suggest_categorical('epochs', [10, 20, 50, 100, 200, 300])\n",
    "    confidence_scaling = trial.suggest_categorical('confidence_scaling', [\"linear\", \"log\"])\n",
    "    alpha = trial.suggest_float('alpha', 1e-7, 100, log=True)\n",
    "    epsilon = trial.suggest_float('epsilon', 1e-7, 100, log=True)\n",
    "    reg = trial.suggest_float('reg', 1e-5, 1, log=True)\n",
    "    \n",
    "    recommender = IALSRecommender(data_train, verbose=False)\n",
    "    recommender.fit(\n",
    "        epochs=epochs,\n",
    "        num_factors=num_factors,\n",
    "        confidence_scaling=confidence_scaling,\n",
    "        alpha=alpha,\n",
    "        epsilon=epsilon,\n",
    "        reg=reg,\n",
    "        validation_every_n=5,\n",
    "        stop_on_validation=True,\n",
    "        evaluator_object=evaluator_validation,\n",
    "        lower_validations_allowed=5,\n",
    "        validation_metric=\"MAP\",\n",
    "    )\n",
    "    _, _, ev_map, _, _ = evaluator(recommender, data_train, data_val)\n",
    "    \n",
    "    return ev_map\n",
    "\n",
    "study.optimize(objective, n_trials=150)"
   ]
  },
  {
   "cell_type": "code",
   "execution_count": null,
   "metadata": {},
   "outputs": [],
   "source": [
    "study.best_params"
   ]
  },
  {
   "cell_type": "code",
   "execution_count": null,
   "metadata": {},
   "outputs": [],
   "source": [
    "from Recommenders.MatrixFactorization.IALSRecommender import IALSRecommender\n",
    "\n",
    "recommender = IALSRecommender(data_train, verbose=False)\n",
    "recommender.fit(**study.best_params)"
   ]
  },
  {
   "cell_type": "code",
   "execution_count": null,
   "metadata": {},
   "outputs": [],
   "source": [
    "pr, re, ev_map, ev_ndcg, ev_auc = evaluator(recommender, data_train, data_val)\n",
    "print(\"Precision: {:.8f}\".format(pr))\n",
    "print(\"Recall: {:.8f}\".format(re))\n",
    "print(\"MAP: {:.8f}\".format(ev_map))"
   ]
  },
  {
   "cell_type": "code",
   "execution_count": null,
   "metadata": {},
   "outputs": [],
   "source": [
    "submission2(recommender, users, usermap, itemmap, data_train)"
   ]
  },
  {
   "cell_type": "code",
   "execution_count": null,
   "metadata": {},
   "outputs": [],
   "source": []
  }
 ],
 "metadata": {
  "kernelspec": {
   "display_name": "venv",
   "language": "python",
   "name": "python3"
  },
  "language_info": {
   "codemirror_mode": {
    "name": "ipython",
    "version": 3
   },
   "file_extension": ".py",
   "mimetype": "text/x-python",
   "name": "python",
   "nbconvert_exporter": "python",
   "pygments_lexer": "ipython3",
   "version": "3.8.18"
  }
 },
 "nbformat": 4,
 "nbformat_minor": 2
}
