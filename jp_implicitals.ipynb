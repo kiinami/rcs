{
 "cells": [
  {
   "cell_type": "code",
   "execution_count": null,
   "metadata": {},
   "outputs": [],
   "source": [
    "import os\n",
    "from utils import *\n",
    "import optuna"
   ]
  },
  {
   "cell_type": "code",
   "execution_count": null,
   "metadata": {},
   "outputs": [],
   "source": [
    "data, usermap, itemmap, users = load_data2()\n",
    "data_train, data_val = split_data2(data, 0.2)"
   ]
  },
  {
   "cell_type": "code",
   "execution_count": null,
   "metadata": {},
   "outputs": [],
   "source": [
    "study_name = \"ImplicitALS\"\n",
    "study = optuna.create_study(\n",
    "    study_name=study_name,\n",
    "    storage=get_database_url(),\n",
    "    load_if_exists=True,\n",
    "    direction=\"maximize\",\n",
    ")"
   ]
  },
  {
   "cell_type": "code",
   "execution_count": null,
   "metadata": {},
   "outputs": [],
   "source": [
    "from Evaluation.Evaluator import EvaluatorHoldout\n",
    "from implicit.gpu.als import AlternatingLeastSquares as IALSRecommender\n",
    "from implicit.evaluation import ranking_metrics_at_k\n",
    "\n",
    "evaluator_validation = EvaluatorHoldout(data_val, cutoff_list=[10])\n",
    "\n",
    "def objective(trial):\n",
    "    num_factors = trial.suggest_int('num_factors', 1, 500)\n",
    "    reg = trial.suggest_float('reg', 1e-5, 1, log=True)\n",
    "    alpha = trial.suggest_float('alpha', 1e-7, 100, log=True)\n",
    "    iterations = trial.suggest_categorical('iterations', [10, 20, 50, 100, 200, 300, 400, 500, 600, 700, 800, 900, 1000])\n",
    "    \n",
    "    recommender = IALSRecommender(\n",
    "        factors=num_factors,\n",
    "        regularization=reg,\n",
    "        alpha=alpha,\n",
    "        iterations=iterations,\n",
    "        calculate_training_loss=False,\n",
    "    )\n",
    "    recommender.fit(\n",
    "        data_train,\n",
    "        show_progress=False,\n",
    "    )\n",
    "    \n",
    "    return ranking_metrics_at_k(recommender, data_train, data_val, K=10, show_progress=False)['map']\n",
    "\n",
    "study.optimize(objective, n_trials=300)"
   ]
  },
  {
   "cell_type": "code",
   "execution_count": null,
   "metadata": {},
   "outputs": [],
   "source": [
    "study.best_params"
   ]
  },
  {
   "cell_type": "code",
   "execution_count": null,
   "metadata": {},
   "outputs": [],
   "source": [
    "from implicit.gpu.als import AlternatingLeastSquares as IALSRecommender\n",
    "\n",
    "recommender = IALSRecommender(\n",
    "        factors=study.best_params['num_factors'],\n",
    "        regularization=study.best_params['reg'],\n",
    "        alpha=study.best_params['alpha'],\n",
    "        iterations=study.best_params['iterations'],\n",
    "        calculate_training_loss=False,\n",
    "    )\n",
    "recommender.fit(\n",
    "    data_train,\n",
    "    show_progress=True,\n",
    ")"
   ]
  },
  {
   "cell_type": "code",
   "execution_count": null,
   "metadata": {},
   "outputs": [],
   "source": [
    "from implicit.evaluation import ranking_metrics_at_k\n",
    "\n",
    "ranking_metrics_at_k(recommender, data_train, data_val, K=10, show_progress=False)"
   ]
  },
  {
   "cell_type": "code",
   "execution_count": null,
   "metadata": {},
   "outputs": [],
   "source": [
    "recommender.recommend(1, data_train[1], N=10, filter_already_liked_items=True)[0]"
   ]
  },
  {
   "cell_type": "code",
   "execution_count": null,
   "metadata": {},
   "outputs": [],
   "source": [
    "def submission2(recommender, users, usermap, itemmap, data_train):\n",
    "    \n",
    "    toppoprecommender = TopPop(data_train)\n",
    "    toppoprecommender.fit()\n",
    "    \n",
    "    with open('data/results.csv', 'w', newline='') as f:\n",
    "        writer = csv.writer(f)\n",
    "        writer.writerow(['user_id', 'item_list'])\n",
    "        for user_id in users:\n",
    "            try:\n",
    "                item_list = list(recommender.recommend(user_id, data_train[user_id], N=10, filter_already_liked_items=True)[0])\n",
    "                item_list = [itemmap[i] for i in item_list]\n",
    "                writer.writerow([usermap[user_id], ' '.join(map(str, item_list))])\n",
    "            except IndexError:\n",
    "                item_list = toppoprecommender.recommend(0, cutoff=10)\n",
    "                item_list = [itemmap[i] for i in item_list]\n",
    "                writer.writerow([usermap[user_id], ' '.join(map(str, item_list))])"
   ]
  },
  {
   "cell_type": "code",
   "execution_count": null,
   "metadata": {},
   "outputs": [],
   "source": [
    "submission2(recommender, users, usermap, itemmap, data_train)"
   ]
  },
  {
   "cell_type": "code",
   "execution_count": null,
   "metadata": {},
   "outputs": [],
   "source": []
  }
 ],
 "metadata": {
  "kernelspec": {
   "display_name": "RecSysFramework",
   "language": "python",
   "name": "python3"
  },
  "language_info": {
   "codemirror_mode": {
    "name": "ipython",
    "version": 3
   },
   "file_extension": ".py",
   "mimetype": "text/x-python",
   "name": "python",
   "nbconvert_exporter": "python",
   "pygments_lexer": "ipython3",
   "version": "3.8.18"
  }
 },
 "nbformat": 4,
 "nbformat_minor": 2
}
