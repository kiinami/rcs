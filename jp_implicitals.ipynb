{
 "cells": [
  {
   "cell_type": "code",
   "execution_count": 1,
   "metadata": {},
   "outputs": [],
   "source": [
    "import os\n",
    "from utils import *\n",
    "import optuna"
   ]
  },
  {
   "cell_type": "code",
   "execution_count": 7,
   "metadata": {},
   "outputs": [],
   "source": [
    "data, usermap, itemmap, users = load_data2()\n",
    "data_train, data_test, data_val = split_data2(data, 0, 0.2)"
   ]
  },
  {
   "cell_type": "code",
   "execution_count": null,
   "metadata": {},
   "outputs": [],
   "source": [
    "study_name = \"ImplicitALS\"\n",
    "study = optuna.create_study(\n",
    "    study_name=study_name,\n",
    "    storage=get_database_url(),\n",
    "    load_if_exists=True,\n",
    "    direction=\"maximize\",\n",
    ")"
   ]
  },
  {
   "cell_type": "code",
   "execution_count": null,
   "metadata": {},
   "outputs": [],
   "source": [
    "from Evaluation.Evaluator import EvaluatorHoldout\n",
    "from implicit.gpu.als import AlternatingLeastSquares as IALSRecommender\n",
    "from implicit.evaluation import ranking_metrics_at_k\n",
    "\n",
    "evaluator_validation = EvaluatorHoldout(data_val, cutoff_list=[10])\n",
    "\n",
    "def objective(trial):\n",
    "    num_factors = trial.suggest_int('num_factors', 1, 500)\n",
    "    reg = trial.suggest_float('reg', 1e-5, 1, log=True)\n",
    "    alpha = trial.suggest_float('alpha', 1e-7, 100, log=True)\n",
    "    iterations = trial.suggest_categorical('iterations', [10, 20, 50, 100, 200, 300, 400, 500, 600, 700, 800, 900, 1000])\n",
    "    \n",
    "    recommender = IALSRecommender(\n",
    "        factors=num_factors,\n",
    "        regularization=reg,\n",
    "        alpha=alpha,\n",
    "        iterations=iterations,\n",
    "        calculate_training_loss=False,\n",
    "    )\n",
    "    recommender.fit(\n",
    "        data_train,\n",
    "        show_progress=False,\n",
    "    )\n",
    "    \n",
    "    return ranking_metrics_at_k(recommender, data_train, data_val, K=10, show_progress=False)['map']\n",
    "\n",
    "study.optimize(objective, n_trials=300)"
   ]
  },
  {
   "cell_type": "code",
   "execution_count": null,
   "metadata": {},
   "outputs": [],
   "source": [
    "study.best_params"
   ]
  },
  {
   "cell_type": "code",
   "execution_count": null,
   "metadata": {},
   "outputs": [],
   "source": [
    "from Recommenders.MatrixFactorization.IALSRecommender import IALSRecommender\n",
    "\n",
    "recommender = IALSRecommender(data_train, verbose=False)\n",
    "recommender.fit(**study.best_params)"
   ]
  },
  {
   "cell_type": "code",
   "execution_count": null,
   "metadata": {},
   "outputs": [],
   "source": [
    "pr, re, ev_map, ev_ndcg, ev_auc = evaluator(recommender, data_train, data_val)\n",
    "print(\"Precision: {:.8f}\".format(pr))\n",
    "print(\"Recall: {:.8f}\".format(re))\n",
    "print(\"MAP: {:.8f}\".format(ev_map))"
   ]
  },
  {
   "cell_type": "code",
   "execution_count": null,
   "metadata": {},
   "outputs": [],
   "source": [
    "submission2(recommender, users, usermap, itemmap, data_train)"
   ]
  },
  {
   "cell_type": "code",
   "execution_count": null,
   "metadata": {},
   "outputs": [],
   "source": []
  }
 ],
 "metadata": {
  "kernelspec": {
   "display_name": "RecSysFramework",
   "language": "python",
   "name": "python3"
  },
  "language_info": {
   "codemirror_mode": {
    "name": "ipython",
    "version": 3
   },
   "file_extension": ".py",
   "mimetype": "text/x-python",
   "name": "python",
   "nbconvert_exporter": "python",
   "pygments_lexer": "ipython3",
   "version": "3.8.18"
  }
 },
 "nbformat": 4,
 "nbformat_minor": 2
}
