{
 "cells": [
  {
   "cell_type": "code",
   "execution_count": 6,
   "metadata": {},
   "outputs": [
    {
     "name": "stdout",
     "output_type": "stream",
     "text": [
      "Collecting pandas==1.3.4\n",
      "  Downloading pandas-1.3.4-cp38-cp38-win_amd64.whl (10.2 MB)\n",
      "     ---------------------------------------- 0.0/10.2 MB ? eta -:--:--\n",
      "     ---------------------------------------- 0.0/10.2 MB ? eta -:--:--\n",
      "     --------------------------------------- 0.0/10.2 MB 393.8 kB/s eta 0:00:26\n",
      "      --------------------------------------- 0.2/10.2 MB 1.2 MB/s eta 0:00:09\n",
      "     - -------------------------------------- 0.4/10.2 MB 2.3 MB/s eta 0:00:05\n",
      "     -- ------------------------------------- 0.8/10.2 MB 3.4 MB/s eta 0:00:03\n",
      "     --- ------------------------------------ 1.0/10.2 MB 3.8 MB/s eta 0:00:03\n",
      "     ----- ---------------------------------- 1.4/10.2 MB 4.2 MB/s eta 0:00:03\n",
      "     ------ --------------------------------- 1.7/10.2 MB 4.4 MB/s eta 0:00:02\n",
      "     -------- ------------------------------- 2.1/10.2 MB 5.2 MB/s eta 0:00:02\n",
      "     --------- ------------------------------ 2.4/10.2 MB 4.9 MB/s eta 0:00:02\n",
      "     ----------- ---------------------------- 2.9/10.2 MB 5.5 MB/s eta 0:00:02\n",
      "     ------------ --------------------------- 3.3/10.2 MB 5.7 MB/s eta 0:00:02\n",
      "     -------------- ------------------------- 3.8/10.2 MB 6.0 MB/s eta 0:00:02\n",
      "     ---------------- ----------------------- 4.2/10.2 MB 6.1 MB/s eta 0:00:01\n",
      "     ------------------ --------------------- 4.7/10.2 MB 6.5 MB/s eta 0:00:01\n",
      "     -------------------- ------------------- 5.1/10.2 MB 6.5 MB/s eta 0:00:01\n",
      "     --------------------- ------------------ 5.6/10.2 MB 6.7 MB/s eta 0:00:01\n",
      "     ----------------------- ---------------- 6.0/10.2 MB 6.7 MB/s eta 0:00:01\n",
      "     ------------------------- -------------- 6.4/10.2 MB 7.0 MB/s eta 0:00:01\n",
      "     -------------------------- ------------- 6.9/10.2 MB 7.1 MB/s eta 0:00:01\n",
      "     ---------------------------- ----------- 7.4/10.2 MB 7.2 MB/s eta 0:00:01\n",
      "     ------------------------------ --------- 7.8/10.2 MB 7.2 MB/s eta 0:00:01\n",
      "     -------------------------------- ------- 8.2/10.2 MB 7.3 MB/s eta 0:00:01\n",
      "     -------------------------------- ------- 8.4/10.2 MB 7.3 MB/s eta 0:00:01\n",
      "     ----------------------------------- ---- 9.1/10.2 MB 7.5 MB/s eta 0:00:01\n",
      "     ------------------------------------- -- 9.6/10.2 MB 7.6 MB/s eta 0:00:01\n",
      "     -------------------------------------- - 9.9/10.2 MB 7.5 MB/s eta 0:00:01\n",
      "     ---------------------------------------  10.2/10.2 MB 7.5 MB/s eta 0:00:01\n",
      "     ---------------------------------------- 10.2/10.2 MB 7.3 MB/s eta 0:00:00\n",
      "Requirement already satisfied: python-dateutil>=2.7.3 in c:\\users\\francesco1\\miniconda3\\envs\\recsysframework\\lib\\site-packages (from pandas==1.3.4) (2.8.2)\n",
      "Requirement already satisfied: pytz>=2017.3 in c:\\users\\francesco1\\miniconda3\\envs\\recsysframework\\lib\\site-packages (from pandas==1.3.4) (2023.3.post1)\n",
      "Requirement already satisfied: numpy>=1.17.3 in c:\\users\\francesco1\\miniconda3\\envs\\recsysframework\\lib\\site-packages (from pandas==1.3.4) (1.19.0)\n",
      "Requirement already satisfied: six>=1.5 in c:\\users\\francesco1\\miniconda3\\envs\\recsysframework\\lib\\site-packages (from python-dateutil>=2.7.3->pandas==1.3.4) (1.16.0)\n",
      "Installing collected packages: pandas\n",
      "  Attempting uninstall: pandas\n",
      "    Found existing installation: pandas 2.0.3\n",
      "    Uninstalling pandas-2.0.3:\n",
      "      Successfully uninstalled pandas-2.0.3\n",
      "Successfully installed pandas-1.3.4\n",
      "Note: you may need to restart the kernel to use updated packages.\n",
      "Unexpected exception formatting exception. Falling back to standard exception\n"
     ]
    },
    {
     "name": "stderr",
     "output_type": "stream",
     "text": [
      "ERROR: pip's dependency resolver does not currently take into account all the packages that are installed. This behaviour is the source of the following dependency conflicts.\n",
      "xarray 2022.11.0 requires numpy>=1.20, but you have numpy 1.19.0 which is incompatible.\n",
      "Traceback (most recent call last):\n",
      "  File \"c:\\Users\\Francesco1\\miniconda3\\envs\\RecSysFramework\\lib\\site-packages\\IPython\\core\\interactiveshell.py\", line 3508, in run_code\n",
      "    exec(code_obj, self.user_global_ns, self.user_ns)\n",
      "  File \"C:\\Users\\Francesco1\\AppData\\Local\\Temp\\ipykernel_9220\\2105036940.py\", line 4, in <module>\n",
      "    from utils import *\n",
      "  File \"c:\\Users\\Francesco1\\Desktop\\rcs\\utils.py\", line 7, in <module>\n",
      "    import pandas as pd\n",
      "  File \"c:\\Users\\Francesco1\\miniconda3\\envs\\RecSysFramework\\lib\\site-packages\\pandas\\__init__.py\", line 22, in <module>\n",
      "    from pandas.compat import (\n",
      "  File \"c:\\Users\\Francesco1\\miniconda3\\envs\\RecSysFramework\\lib\\site-packages\\pandas\\compat\\__init__.py\", line 15, in <module>\n",
      "    from pandas.compat.numpy import (\n",
      "  File \"c:\\Users\\Francesco1\\miniconda3\\envs\\RecSysFramework\\lib\\site-packages\\pandas\\compat\\numpy\\__init__.py\", line 7, in <module>\n",
      "    from pandas.util.version import Version\n",
      "  File \"c:\\Users\\Francesco1\\miniconda3\\envs\\RecSysFramework\\lib\\site-packages\\pandas\\util\\__init__.py\", line 1, in <module>\n",
      "    from pandas.util._decorators import (  # noqa\n",
      "  File \"c:\\Users\\Francesco1\\miniconda3\\envs\\RecSysFramework\\lib\\site-packages\\pandas\\util\\_decorators.py\", line 14, in <module>\n",
      "    from pandas._libs.properties import cache_readonly  # noqa\n",
      "  File \"c:\\Users\\Francesco1\\miniconda3\\envs\\RecSysFramework\\lib\\site-packages\\pandas\\_libs\\__init__.py\", line 13, in <module>\n",
      "    from pandas._libs.interval import Interval\n",
      "  File \"pandas\\_libs\\interval.pyx\", line 1, in init pandas._libs.interval\n",
      "ValueError: numpy.ndarray size changed, may indicate binary incompatibility. Expected 88 from C header, got 80 from PyObject\n",
      "\n",
      "During handling of the above exception, another exception occurred:\n",
      "\n",
      "Traceback (most recent call last):\n",
      "  File \"c:\\Users\\Francesco1\\miniconda3\\envs\\RecSysFramework\\lib\\site-packages\\IPython\\core\\interactiveshell.py\", line 2105, in showtraceback\n",
      "    stb = self.InteractiveTB.structured_traceback(\n",
      "  File \"c:\\Users\\Francesco1\\miniconda3\\envs\\RecSysFramework\\lib\\site-packages\\IPython\\core\\ultratb.py\", line 1396, in structured_traceback\n",
      "    return FormattedTB.structured_traceback(\n",
      "  File \"c:\\Users\\Francesco1\\miniconda3\\envs\\RecSysFramework\\lib\\site-packages\\IPython\\core\\ultratb.py\", line 1287, in structured_traceback\n",
      "    return VerboseTB.structured_traceback(\n",
      "  File \"c:\\Users\\Francesco1\\miniconda3\\envs\\RecSysFramework\\lib\\site-packages\\IPython\\core\\ultratb.py\", line 1140, in structured_traceback\n",
      "    formatted_exception = self.format_exception_as_a_whole(etype, evalue, etb, number_of_lines_of_context,\n",
      "  File \"c:\\Users\\Francesco1\\miniconda3\\envs\\RecSysFramework\\lib\\site-packages\\IPython\\core\\ultratb.py\", line 1055, in format_exception_as_a_whole\n",
      "    frames.append(self.format_record(record))\n",
      "  File \"c:\\Users\\Francesco1\\miniconda3\\envs\\RecSysFramework\\lib\\site-packages\\IPython\\core\\ultratb.py\", line 955, in format_record\n",
      "    frame_info.lines, Colors, self.has_colors, lvals\n",
      "  File \"c:\\Users\\Francesco1\\miniconda3\\envs\\RecSysFramework\\lib\\site-packages\\IPython\\core\\ultratb.py\", line 778, in lines\n",
      "    return self._sd.lines\n",
      "  File \"c:\\Users\\Francesco1\\miniconda3\\envs\\RecSysFramework\\lib\\site-packages\\stack_data\\utils.py\", line 145, in cached_property_wrapper\n",
      "    value = obj.__dict__[self.func.__name__] = self.func(obj)\n",
      "  File \"c:\\Users\\Francesco1\\miniconda3\\envs\\RecSysFramework\\lib\\site-packages\\stack_data\\core.py\", line 698, in lines\n",
      "    pieces = self.included_pieces\n",
      "  File \"c:\\Users\\Francesco1\\miniconda3\\envs\\RecSysFramework\\lib\\site-packages\\stack_data\\utils.py\", line 145, in cached_property_wrapper\n",
      "    value = obj.__dict__[self.func.__name__] = self.func(obj)\n",
      "  File \"c:\\Users\\Francesco1\\miniconda3\\envs\\RecSysFramework\\lib\\site-packages\\stack_data\\core.py\", line 649, in included_pieces\n",
      "    pos = scope_pieces.index(self.executing_piece)\n",
      "  File \"c:\\Users\\Francesco1\\miniconda3\\envs\\RecSysFramework\\lib\\site-packages\\stack_data\\utils.py\", line 145, in cached_property_wrapper\n",
      "    value = obj.__dict__[self.func.__name__] = self.func(obj)\n",
      "  File \"c:\\Users\\Francesco1\\miniconda3\\envs\\RecSysFramework\\lib\\site-packages\\stack_data\\core.py\", line 628, in executing_piece\n",
      "    return only(\n",
      "  File \"c:\\Users\\Francesco1\\miniconda3\\envs\\RecSysFramework\\lib\\site-packages\\executing\\executing.py\", line 164, in only\n",
      "    raise NotOneValueFound('Expected one value, found 0')\n",
      "executing.executing.NotOneValueFound: Expected one value, found 0\n"
     ]
    }
   ],
   "source": [
    "import os\n",
    "from utils import *\n",
    "import optuna"
   ]
  },
  {
   "cell_type": "code",
   "execution_count": 7,
   "metadata": {},
   "outputs": [
    {
     "name": "stdout",
     "output_type": "stream",
     "text": [
      "Name: pandas\n",
      "Version: 1.3.4\n",
      "Summary: Powerful data structures for data analysis, time series, and statistics\n",
      "Home-page: https://pandas.pydata.org\n",
      "Author: The Pandas Development Team\n",
      "Author-email: pandas-dev@python.org\n",
      "License: BSD-3-Clause\n",
      "Location: c:\\users\\francesco1\\miniconda3\\envs\\recsysframework\\lib\\site-packages\n",
      "Requires: numpy, python-dateutil, pytz\n",
      "Required-by: datasets, datashader, holoviews, hvplot, seaborn, statsmodels, xarray\n"
     ]
    },
    {
     "ename": "NameError",
     "evalue": "name 'load_data2' is not defined",
     "output_type": "error",
     "traceback": [
      "\u001b[1;31m---------------------------------------------------------------------------\u001b[0m",
      "\u001b[1;31mNameError\u001b[0m                                 Traceback (most recent call last)",
      "Cell \u001b[1;32mIn[7], line 2\u001b[0m\n\u001b[0;32m      1\u001b[0m get_ipython()\u001b[38;5;241m.\u001b[39msystem(\u001b[38;5;124m'\u001b[39m\u001b[38;5;124mpip show pandas\u001b[39m\u001b[38;5;124m'\u001b[39m)\n\u001b[1;32m----> 2\u001b[0m data, usermap, itemmap, users \u001b[38;5;241m=\u001b[39m \u001b[43mload_data2\u001b[49m()\n\u001b[0;32m      3\u001b[0m data_train, data_test, data_val\u001b[38;5;241m=\u001b[39msplit_data2(data, \u001b[38;5;241m0.2\u001b[39m, \u001b[38;5;241m0.2\u001b[39m)\n",
      "\u001b[1;31mNameError\u001b[0m: name 'load_data2' is not defined"
     ]
    }
   ],
   "source": [
    "data, usermap, itemmap, users = load_data2()\n",
    "data_train, data_test, data_val=split_data2(data, 0.2, 0.2)"
   ]
  },
  {
   "cell_type": "code",
   "execution_count": null,
   "metadata": {},
   "outputs": [
    {
     "name": "stderr",
     "output_type": "stream",
     "text": [
      "[I 2024-01-05 11:46:27,402] A new study created in memory with name: rating+ranking\n"
     ]
    }
   ],
   "source": [
    "study_name = \"rating+ranking\"\n",
    "study = optuna.create_study(\n",
    "    study_name=study_name,\n",
    "    storage=get_database_url(),\n",
    "    load_if_exists=True,\n",
    "    direction=\"maximize\",\n",
    ")"
   ]
  },
  {
   "cell_type": "code",
   "execution_count": null,
   "metadata": {},
   "outputs": [
    {
     "name": "stdout",
     "output_type": "stream",
     "text": [
      "EvaluatorHoldout: Ignoring 2182 (17.3%) Users that have less than 1 test interactions\n",
      "EvaluatorHoldout: Ignoring 2631 (20.8%) Users that have less than 1 test interactions\n"
     ]
    }
   ],
   "source": [
    "from Evaluation.Evaluator import EvaluatorHoldout\n",
    "\n",
    "cutoff_list=[5, 10, 15]\n",
    "\n",
    "evaluator_validation = EvaluatorHoldout(data_val, cutoff_list=cutoff_list)\n",
    "evaluator_test = EvaluatorHoldout(data_test, cutoff_list=cutoff_list)"
   ]
  },
  {
   "cell_type": "code",
   "execution_count": null,
   "metadata": {},
   "outputs": [
    {
     "name": "stdout",
     "output_type": "stream",
     "text": [
      "MatrixFactorization_FunkSVD_Cython_Recommender: URM Detected 474 ( 3.8%) users with no interactions.\n",
      "MatrixFactorization_FunkSVD_Cython_Recommender: URM Detected 325 ( 1.5%) items with no interactions.\n"
     ]
    },
    {
     "ename": "AttributeError",
     "evalue": "module 'numpy' has no attribute 'int'.\n`np.int` was a deprecated alias for the builtin `int`. To avoid this error in existing code, use `int` by itself. Doing this will not modify any behavior and is safe. When replacing `np.int`, you may wish to use e.g. `np.int64` or `np.int32` to specify the precision. If you wish to review your current use, check the release note link for additional information.\nThe aliases was originally deprecated in NumPy 1.20; for more details and guidance see the original release note at:\n    https://numpy.org/devdocs/release/1.20.0-notes.html#deprecations",
     "output_type": "error",
     "traceback": [
      "\u001b[1;31m---------------------------------------------------------------------------\u001b[0m",
      "\u001b[1;31mAttributeError\u001b[0m                            Traceback (most recent call last)",
      "Cell \u001b[1;32mIn[10], line 4\u001b[0m\n\u001b[0;32m      1\u001b[0m \u001b[38;5;28;01mfrom\u001b[39;00m \u001b[38;5;21;01mRecommenders\u001b[39;00m\u001b[38;5;21;01m.\u001b[39;00m\u001b[38;5;21;01mMatrixFactorization\u001b[39;00m\u001b[38;5;21;01m.\u001b[39;00m\u001b[38;5;21;01mCython\u001b[39;00m\u001b[38;5;21;01m.\u001b[39;00m\u001b[38;5;21;01mMatrixFactorizationImpressions_Cython\u001b[39;00m \u001b[38;5;28;01mimport\u001b[39;00m MatrixFactorization_FunkSVD_Cython\n\u001b[0;32m      3\u001b[0m funk_svd_recommender \u001b[38;5;241m=\u001b[39m MatrixFactorization_FunkSVD_Cython(data_train)\n\u001b[1;32m----> 4\u001b[0m \u001b[43mfunk_svd_recommender\u001b[49m\u001b[38;5;241;43m.\u001b[39;49m\u001b[43mfit\u001b[49m\u001b[43m(\u001b[49m\u001b[43mepochs\u001b[49m\u001b[38;5;241;43m=\u001b[39;49m\u001b[38;5;241;43m200\u001b[39;49m\u001b[43m)\u001b[49m\n",
      "File \u001b[1;32mc:\\Users\\Francesco1\\Desktop\\rcs\\Recommenders\\MatrixFactorization\\Cython\\MatrixFactorizationImpressions_Cython.py:202\u001b[0m, in \u001b[0;36mMatrixFactorization_FunkSVD_Cython.fit\u001b[1;34m(self, **key_args)\u001b[0m\n\u001b[0;32m    200\u001b[0m \u001b[38;5;28;01mdef\u001b[39;00m \u001b[38;5;21mfit\u001b[39m(\u001b[38;5;28mself\u001b[39m, \u001b[38;5;241m*\u001b[39m\u001b[38;5;241m*\u001b[39mkey_args):\n\u001b[1;32m--> 202\u001b[0m     \u001b[38;5;28;43msuper\u001b[39;49m\u001b[43m(\u001b[49m\u001b[43mMatrixFactorization_FunkSVD_Cython\u001b[49m\u001b[43m,\u001b[49m\u001b[43m \u001b[49m\u001b[38;5;28;43mself\u001b[39;49m\u001b[43m)\u001b[49m\u001b[38;5;241;43m.\u001b[39;49m\u001b[43mfit\u001b[49m\u001b[43m(\u001b[49m\u001b[38;5;241;43m*\u001b[39;49m\u001b[38;5;241;43m*\u001b[39;49m\u001b[43mkey_args\u001b[49m\u001b[43m)\u001b[49m\n",
      "File \u001b[1;32mc:\\Users\\Francesco1\\Desktop\\rcs\\Recommenders\\MatrixFactorization\\Cython\\MatrixFactorizationImpressions_Cython.py:68\u001b[0m, in \u001b[0;36m_MatrixFactorization_Cython.fit\u001b[1;34m(self, epochs, batch_size, num_factors, positive_threshold_BPR, learning_rate, use_bias, sgd_mode, impression_sampling_mode, impression_sampling_inside_ratio, negative_interactions_quota, dropout_quota, init_mean, init_std_dev, user_reg, item_reg, bias_reg, positive_reg, negative_reg, random_seed, **earlystopping_kwargs)\u001b[0m\n\u001b[0;32m     63\u001b[0m \u001b[38;5;28;01mfrom\u001b[39;00m \u001b[38;5;21;01mRecommenders\u001b[39;00m\u001b[38;5;21;01m.\u001b[39;00m\u001b[38;5;21;01mMatrixFactorization\u001b[39;00m\u001b[38;5;21;01m.\u001b[39;00m\u001b[38;5;21;01mCython\u001b[39;00m\u001b[38;5;21;01m.\u001b[39;00m\u001b[38;5;21;01mMatrixFactorizationImpressions_Cython_Epoch\u001b[39;00m \u001b[38;5;28;01mimport\u001b[39;00m MatrixFactorization_Cython_Epoch\n\u001b[0;32m     66\u001b[0m \u001b[38;5;28;01mif\u001b[39;00m \u001b[38;5;28mself\u001b[39m\u001b[38;5;241m.\u001b[39malgorithm_name \u001b[38;5;129;01min\u001b[39;00m [\u001b[38;5;124m\"\u001b[39m\u001b[38;5;124mFUNK_SVD\u001b[39m\u001b[38;5;124m\"\u001b[39m, \u001b[38;5;124m\"\u001b[39m\u001b[38;5;124mASY_SVD\u001b[39m\u001b[38;5;124m\"\u001b[39m]:\n\u001b[1;32m---> 68\u001b[0m     \u001b[38;5;28mself\u001b[39m\u001b[38;5;241m.\u001b[39mcythonEpoch \u001b[38;5;241m=\u001b[39m \u001b[43mMatrixFactorization_Cython_Epoch\u001b[49m\u001b[43m(\u001b[49m\u001b[38;5;28;43mself\u001b[39;49m\u001b[38;5;241;43m.\u001b[39;49m\u001b[43mURM_train\u001b[49m\u001b[43m,\u001b[49m\n\u001b[0;32m     69\u001b[0m \u001b[43m                                                        \u001b[49m\u001b[43malgorithm_name\u001b[49m\u001b[43m \u001b[49m\u001b[38;5;241;43m=\u001b[39;49m\u001b[43m \u001b[49m\u001b[38;5;28;43mself\u001b[39;49m\u001b[38;5;241;43m.\u001b[39;49m\u001b[43malgorithm_name\u001b[49m\u001b[43m,\u001b[49m\n\u001b[0;32m     70\u001b[0m \u001b[43m                                                        \u001b[49m\u001b[43mn_factors\u001b[49m\u001b[43m \u001b[49m\u001b[38;5;241;43m=\u001b[39;49m\u001b[43m \u001b[49m\u001b[38;5;28;43mself\u001b[39;49m\u001b[38;5;241;43m.\u001b[39;49m\u001b[43mnum_factors\u001b[49m\u001b[43m,\u001b[49m\n\u001b[0;32m     71\u001b[0m \u001b[43m                                                        \u001b[49m\u001b[43mlearning_rate\u001b[49m\u001b[43m \u001b[49m\u001b[38;5;241;43m=\u001b[39;49m\u001b[43m \u001b[49m\u001b[43mlearning_rate\u001b[49m\u001b[43m,\u001b[49m\n\u001b[0;32m     72\u001b[0m \u001b[43m                                                        \u001b[49m\u001b[43msgd_mode\u001b[49m\u001b[43m \u001b[49m\u001b[38;5;241;43m=\u001b[39;49m\u001b[43m \u001b[49m\u001b[43msgd_mode\u001b[49m\u001b[43m,\u001b[49m\n\u001b[0;32m     73\u001b[0m \u001b[43m                                                        \u001b[49m\u001b[43muser_reg\u001b[49m\u001b[43m \u001b[49m\u001b[38;5;241;43m=\u001b[39;49m\u001b[43m \u001b[49m\u001b[43muser_reg\u001b[49m\u001b[43m,\u001b[49m\n\u001b[0;32m     74\u001b[0m \u001b[43m                                                        \u001b[49m\u001b[43mitem_reg\u001b[49m\u001b[43m \u001b[49m\u001b[38;5;241;43m=\u001b[39;49m\u001b[43m \u001b[49m\u001b[43mitem_reg\u001b[49m\u001b[43m,\u001b[49m\n\u001b[0;32m     75\u001b[0m \u001b[43m                                                        \u001b[49m\u001b[43mbias_reg\u001b[49m\u001b[43m \u001b[49m\u001b[38;5;241;43m=\u001b[39;49m\u001b[43m \u001b[49m\u001b[43mbias_reg\u001b[49m\u001b[43m,\u001b[49m\n\u001b[0;32m     76\u001b[0m \u001b[43m                                                        \u001b[49m\u001b[43mbatch_size\u001b[49m\u001b[43m \u001b[49m\u001b[38;5;241;43m=\u001b[39;49m\u001b[43m \u001b[49m\u001b[43mbatch_size\u001b[49m\u001b[43m,\u001b[49m\n\u001b[0;32m     77\u001b[0m \u001b[43m                                                        \u001b[49m\u001b[43muse_bias\u001b[49m\u001b[43m \u001b[49m\u001b[38;5;241;43m=\u001b[39;49m\u001b[43m \u001b[49m\u001b[43muse_bias\u001b[49m\u001b[43m,\u001b[49m\n\u001b[0;32m     78\u001b[0m \u001b[43m                                                        \u001b[49m\u001b[43minit_mean\u001b[49m\u001b[43m \u001b[49m\u001b[38;5;241;43m=\u001b[39;49m\u001b[43m \u001b[49m\u001b[43minit_mean\u001b[49m\u001b[43m,\u001b[49m\n\u001b[0;32m     79\u001b[0m \u001b[43m                                                        \u001b[49m\u001b[43mnegative_interactions_quota\u001b[49m\u001b[43m \u001b[49m\u001b[38;5;241;43m=\u001b[39;49m\u001b[43m \u001b[49m\u001b[43mnegative_interactions_quota\u001b[49m\u001b[43m,\u001b[49m\n\u001b[0;32m     80\u001b[0m \u001b[43m                                                        \u001b[49m\u001b[43mdropout_quota\u001b[49m\u001b[43m \u001b[49m\u001b[38;5;241;43m=\u001b[39;49m\u001b[43m \u001b[49m\u001b[43mdropout_quota\u001b[49m\u001b[43m,\u001b[49m\n\u001b[0;32m     81\u001b[0m \u001b[43m                                                        \u001b[49m\u001b[43minit_std_dev\u001b[49m\u001b[43m \u001b[49m\u001b[38;5;241;43m=\u001b[39;49m\u001b[43m \u001b[49m\u001b[43minit_std_dev\u001b[49m\u001b[43m,\u001b[49m\n\u001b[0;32m     82\u001b[0m \u001b[43m                                                        \u001b[49m\u001b[43mverbose\u001b[49m\u001b[43m \u001b[49m\u001b[38;5;241;43m=\u001b[39;49m\u001b[43m \u001b[49m\u001b[38;5;28;43mself\u001b[39;49m\u001b[38;5;241;43m.\u001b[39;49m\u001b[43mverbose\u001b[49m\u001b[43m,\u001b[49m\n\u001b[0;32m     83\u001b[0m \u001b[43m                                                        \u001b[49m\u001b[43mrandom_seed\u001b[49m\u001b[43m \u001b[49m\u001b[38;5;241;43m=\u001b[39;49m\u001b[43m \u001b[49m\u001b[43mrandom_seed\u001b[49m\u001b[43m)\u001b[49m\n\u001b[0;32m     85\u001b[0m \u001b[38;5;28;01melif\u001b[39;00m \u001b[38;5;28mself\u001b[39m\u001b[38;5;241m.\u001b[39malgorithm_name \u001b[38;5;241m==\u001b[39m \u001b[38;5;124m\"\u001b[39m\u001b[38;5;124mMF_BPR\u001b[39m\u001b[38;5;124m\"\u001b[39m:\n\u001b[0;32m     86\u001b[0m \n\u001b[0;32m     87\u001b[0m     \u001b[38;5;66;03m# Select only positive interactions\u001b[39;00m\n\u001b[0;32m     88\u001b[0m     URM_train_positive \u001b[38;5;241m=\u001b[39m \u001b[38;5;28mself\u001b[39m\u001b[38;5;241m.\u001b[39mURM_train\u001b[38;5;241m.\u001b[39mcopy()\n",
      "File \u001b[1;32mMatrixFactorizationImpressions_Cython_Epoch.pyx:200\u001b[0m, in \u001b[0;36mMatrixFactorizationImpressions_Cython_Epoch.MatrixFactorization_Cython_Epoch.__init__\u001b[1;34m()\u001b[0m\n",
      "File \u001b[1;32mMatrixFactorizationImpressions_Cython_Epoch.pyx:785\u001b[0m, in \u001b[0;36mMatrixFactorizationImpressions_Cython_Epoch.MatrixFactorization_Cython_Epoch._init_minibatch_data_structures\u001b[1;34m()\u001b[0m\n",
      "File \u001b[1;32mc:\\Users\\Francesco1\\miniconda3\\envs\\RecSysFramework\\lib\\site-packages\\numpy\\__init__.py:305\u001b[0m, in \u001b[0;36m__getattr__\u001b[1;34m(attr)\u001b[0m\n\u001b[0;32m    300\u001b[0m     warnings\u001b[38;5;241m.\u001b[39mwarn(\n\u001b[0;32m    301\u001b[0m         \u001b[38;5;124mf\u001b[39m\u001b[38;5;124m\"\u001b[39m\u001b[38;5;124mIn the future `np.\u001b[39m\u001b[38;5;132;01m{\u001b[39;00mattr\u001b[38;5;132;01m}\u001b[39;00m\u001b[38;5;124m` will be defined as the \u001b[39m\u001b[38;5;124m\"\u001b[39m\n\u001b[0;32m    302\u001b[0m         \u001b[38;5;124m\"\u001b[39m\u001b[38;5;124mcorresponding NumPy scalar.\u001b[39m\u001b[38;5;124m\"\u001b[39m, \u001b[38;5;167;01mFutureWarning\u001b[39;00m, stacklevel\u001b[38;5;241m=\u001b[39m\u001b[38;5;241m2\u001b[39m)\n\u001b[0;32m    304\u001b[0m \u001b[38;5;28;01mif\u001b[39;00m attr \u001b[38;5;129;01min\u001b[39;00m __former_attrs__:\n\u001b[1;32m--> 305\u001b[0m     \u001b[38;5;28;01mraise\u001b[39;00m \u001b[38;5;167;01mAttributeError\u001b[39;00m(__former_attrs__[attr])\n\u001b[0;32m    307\u001b[0m \u001b[38;5;66;03m# Importing Tester requires importing all of UnitTest which is not a\u001b[39;00m\n\u001b[0;32m    308\u001b[0m \u001b[38;5;66;03m# cheap import Since it is mainly used in test suits, we lazy import it\u001b[39;00m\n\u001b[0;32m    309\u001b[0m \u001b[38;5;66;03m# here to save on the order of 10 ms of import time for most users\u001b[39;00m\n\u001b[0;32m    310\u001b[0m \u001b[38;5;66;03m#\u001b[39;00m\n\u001b[0;32m    311\u001b[0m \u001b[38;5;66;03m# The previous way Tester was imported also had a side effect of adding\u001b[39;00m\n\u001b[0;32m    312\u001b[0m \u001b[38;5;66;03m# the full `numpy.testing` namespace\u001b[39;00m\n\u001b[0;32m    313\u001b[0m \u001b[38;5;28;01mif\u001b[39;00m attr \u001b[38;5;241m==\u001b[39m \u001b[38;5;124m'\u001b[39m\u001b[38;5;124mtesting\u001b[39m\u001b[38;5;124m'\u001b[39m:\n",
      "\u001b[1;31mAttributeError\u001b[0m: module 'numpy' has no attribute 'int'.\n`np.int` was a deprecated alias for the builtin `int`. To avoid this error in existing code, use `int` by itself. Doing this will not modify any behavior and is safe. When replacing `np.int`, you may wish to use e.g. `np.int64` or `np.int32` to specify the precision. If you wish to review your current use, check the release note link for additional information.\nThe aliases was originally deprecated in NumPy 1.20; for more details and guidance see the original release note at:\n    https://numpy.org/devdocs/release/1.20.0-notes.html#deprecations"
     ]
    }
   ],
   "source": [
    "from Recommenders.MatrixFactorization.Cython.MatrixFactorizationImpressions_Cython import MatrixFactorization_FunkSVD_Cython\n",
    "\n",
    "funk_svd_recommender = MatrixFactorization_FunkSVD_Cython(data_train)\n",
    "funk_svd_recommender.fit(epochs=200)"
   ]
  }
 ],
 "metadata": {
  "kernelspec": {
   "display_name": "RecSysFramework",
   "language": "python",
   "name": "python3"
  },
  "language_info": {
   "codemirror_mode": {
    "name": "ipython",
    "version": 3
   },
   "file_extension": ".py",
   "mimetype": "text/x-python",
   "name": "python",
   "nbconvert_exporter": "python",
   "pygments_lexer": "ipython3",
   "version": "3.8.18"
  }
 },
 "nbformat": 4,
 "nbformat_minor": 2
}
