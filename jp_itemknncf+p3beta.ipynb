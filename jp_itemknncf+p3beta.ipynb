{
 "cells": [
  {
   "cell_type": "code",
   "execution_count": 1,
   "metadata": {},
   "outputs": [
    {
     "name": "stderr",
     "output_type": "stream",
     "text": [
      "2024-01-04 12:41:24.563984: I tensorflow/core/platform/cpu_feature_guard.cc:182] This TensorFlow binary is optimized to use available CPU instructions in performance-critical operations.\n",
      "To enable the following instructions: AVX2 FMA, in other operations, rebuild TensorFlow with the appropriate compiler flags.\n",
      "2024-01-04 12:41:25.443721: W tensorflow/compiler/tf2tensorrt/utils/py_utils.cc:38] TF-TRT Warning: Could not find TensorRT\n"
     ]
    }
   ],
   "source": [
    "import os\n",
    "from utils import *\n",
    "import optuna\n",
    "from Recommenders.Recommender_import_list import *"
   ]
  },
  {
   "cell_type": "code",
   "execution_count": 2,
   "metadata": {},
   "outputs": [],
   "source": [
    "data, usermap, itemmap, users = load_data2()\n",
    "data_train, data_val = split_data2(data, 0.2)"
   ]
  },
  {
   "cell_type": "code",
   "execution_count": 3,
   "metadata": {},
   "outputs": [
    {
     "name": "stderr",
     "output_type": "stream",
     "text": [
      "[I 2024-01-04 12:41:43,606] Using an existing study with name 'ItemKNNCF' instead of creating a new one.\n"
     ]
    },
    {
     "name": "stdout",
     "output_type": "stream",
     "text": [
      "Similarity column 22222 (100.0%), 9561.81 column/sec. Elapsed time 2.32 sec\n"
     ]
    }
   ],
   "source": [
    "itemknncf_study = optuna.create_study(\n",
    "    study_name=\"ItemKNNCF\",\n",
    "    storage=get_database_url(),\n",
    "    load_if_exists=True,\n",
    "    direction=\"maximize\",\n",
    ")\n",
    "itemknncf_recommender = ItemKNNCFRecommender(data_train, verbose=False)\n",
    "itemknncf_recommender.fit(**itemknncf_study.best_params)"
   ]
  },
  {
   "cell_type": "code",
   "execution_count": 4,
   "metadata": {},
   "outputs": [
    {
     "name": "stderr",
     "output_type": "stream",
     "text": [
      "[I 2024-01-04 12:42:08,081] Using an existing study with name 'P3Beta' instead of creating a new one.\n"
     ]
    }
   ],
   "source": [
    "p3beta_study = optuna.create_study(\n",
    "    study_name=\"P3Beta\",\n",
    "    storage=get_database_url(),\n",
    "    load_if_exists=True,\n",
    "    direction=\"maximize\",\n",
    ")\n",
    "p3beta_recommender = RP3betaRecommender(data_train, verbose=False)\n",
    "p3beta_recommender.fit(**p3beta_study.best_params)"
   ]
  },
  {
   "cell_type": "code",
   "execution_count": 5,
   "metadata": {},
   "outputs": [
    {
     "name": "stderr",
     "output_type": "stream",
     "text": [
      "[I 2024-01-04 12:44:48,697] A new study created in RDB with name: ItemKNNCF + P3Beta\n"
     ]
    }
   ],
   "source": [
    "study = optuna.create_study(\n",
    "    study_name=\"ItemKNNCF + P3Beta\",\n",
    "    storage=get_database_url(),\n",
    "    load_if_exists=True,\n",
    "    direction=\"maximize\",\n",
    ")"
   ]
  },
  {
   "cell_type": "code",
   "execution_count": 8,
   "metadata": {},
   "outputs": [
    {
     "name": "stderr",
     "output_type": "stream",
     "text": [
      "/tmp/ipykernel_29671/1291327488.py:4: FutureWarning: suggest_uniform has been deprecated in v3.0.0. This feature will be removed in v6.0.0. See https://github.com/optuna/optuna/releases/tag/v3.0.0. Use suggest_float instead.\n",
      "  alpha = trial.suggest_uniform(\"alpha\", 0.0, 1.0)\n",
      "[I 2024-01-04 13:01:27,577] Trial 41 finished with value: 0.0846003511987717 and parameters: {'alpha': 0.055985923114176}. Best is trial 10 with value: 0.08496290015265232.\n",
      "[I 2024-01-04 13:01:50,720] Trial 42 finished with value: 0.08474541728895195 and parameters: {'alpha': 0.009785895309522607}. Best is trial 10 with value: 0.08496290015265232.\n",
      "[I 2024-01-04 13:02:15,768] Trial 43 finished with value: 0.08492634075069547 and parameters: {'alpha': 0.03233838556854799}. Best is trial 10 with value: 0.08496290015265232.\n"
     ]
    }
   ],
   "source": [
    "from Recommenders.KNN.ItemKNNCustomSimilarityRecommender import ItemKNNCustomSimilarityRecommender\n",
    "\n",
    "def objective(trial):\n",
    "    alpha = trial.suggest_uniform(\"alpha\", 0.0, 1.0)\n",
    "    \n",
    "    new_similarity = alpha * itemknncf_recommender.W_sparse + (1 - alpha) * p3beta_recommender.W_sparse\n",
    "    \n",
    "    recommender = ItemKNNCustomSimilarityRecommender(data_train, verbose=False)\n",
    "    recommender.fit(new_similarity)\n",
    "    _, _, ev_map, _, _ = evaluator(recommender, data_train, data_val)\n",
    "    \n",
    "    return ev_map\n",
    "\n",
    "study.optimize(objective, n_trials=300)"
   ]
  },
  {
   "cell_type": "code",
   "execution_count": null,
   "metadata": {},
   "outputs": [],
   "source": []
  }
 ],
 "metadata": {
  "kernelspec": {
   "display_name": "RecSysFramework",
   "language": "python",
   "name": "python3"
  },
  "language_info": {
   "codemirror_mode": {
    "name": "ipython",
    "version": 3
   },
   "file_extension": ".py",
   "mimetype": "text/x-python",
   "name": "python",
   "nbconvert_exporter": "python",
   "pygments_lexer": "ipython3",
   "version": "3.8.18"
  }
 },
 "nbformat": 4,
 "nbformat_minor": 2
}
