{
 "cells": [
  {
   "cell_type": "code",
   "execution_count": 1,
   "metadata": {},
   "outputs": [
    {
     "name": "stderr",
     "output_type": "stream",
     "text": [
      "2023-12-26 10:21:03.628820: I tensorflow/core/platform/cpu_feature_guard.cc:182] This TensorFlow binary is optimized to use available CPU instructions in performance-critical operations.\n",
      "To enable the following instructions: AVX2 FMA, in other operations, rebuild TensorFlow with the appropriate compiler flags.\n",
      "2023-12-26 10:21:04.474083: W tensorflow/compiler/tf2tensorrt/utils/py_utils.cc:38] TF-TRT Warning: Could not find TensorRT\n"
     ]
    }
   ],
   "source": [
    "import os\n",
    "from utils import *\n",
    "import optuna\n",
    "from Recommenders.Recommender_import_list import *"
   ]
  },
  {
   "cell_type": "code",
   "execution_count": 2,
   "metadata": {},
   "outputs": [],
   "source": [
    "data, usermap, itemmap, users = load_data2()\n",
    "data_train, data_val = split_data2(data, 0.2)"
   ]
  },
  {
   "cell_type": "code",
   "execution_count": 4,
   "metadata": {},
   "outputs": [
    {
     "name": "stderr",
     "output_type": "stream",
     "text": [
      "[I 2023-12-26 10:26:50,685] Using an existing study with name 'P3Beta' instead of creating a new one.\n"
     ]
    }
   ],
   "source": [
    "candidate_recommender_study = optuna.create_study(\n",
    "    study_name=\"P3Beta\",\n",
    "    storage=get_database_url(),\n",
    "    load_if_exists=True,\n",
    "    direction=\"maximize\",\n",
    ")\n",
    "candidate_recommender = RP3betaRecommender(data_train, verbose=False)\n",
    "candidate_recommender.fit(**candidate_recommender_study.best_params)"
   ]
  },
  {
   "cell_type": "code",
   "execution_count": 5,
   "metadata": {},
   "outputs": [],
   "source": [
    "n_users, n_items = data_train.shape\n",
    "\n",
    "training_dataframe = pd.DataFrame(index=range(0,n_users), columns = [\"ItemID\"])\n",
    "training_dataframe.index.name='UserID'"
   ]
  },
  {
   "cell_type": "code",
   "execution_count": 6,
   "metadata": {},
   "outputs": [],
   "source": [
    "cutoff = 50\n",
    "\n",
    "for user_id in range(n_users):    \n",
    "    recommendations = candidate_recommender.recommend(user_id, cutoff = cutoff)\n",
    "    training_dataframe.loc[user_id, \"ItemID\"] = recommendations\n",
    "training_dataframe = training_dataframe.explode(\"ItemID\")"
   ]
  },
  {
   "cell_type": "code",
   "execution_count": 7,
   "metadata": {},
   "outputs": [],
   "source": [
    "import scipy.sparse as sps\n",
    "\n",
    "data_val_coo = sps.coo_matrix(data_val)\n",
    "correct_recommendations = pd.DataFrame({\"UserID\": data_val_coo.row,\n",
    "                                        \"ItemID\": data_val_coo.col})\n",
    "training_dataframe = pd.merge(training_dataframe, correct_recommendations, on=['UserID','ItemID'], how='left', indicator='Exist')\n",
    "training_dataframe[\"Label\"] = training_dataframe[\"Exist\"] == \"both\"\n",
    "training_dataframe.drop(columns = ['Exist'], inplace=True)"
   ]
  },
  {
   "cell_type": "code",
   "execution_count": 8,
   "metadata": {},
   "outputs": [
    {
     "name": "stdout",
     "output_type": "stream",
     "text": [
      "TopPopRecommender: URM Detected 216 ( 1.7%) users with no interactions.\n",
      "TopPopRecommender: URM Detected 111 ( 0.5%) items with no interactions.\n"
     ]
    },
    {
     "name": "stderr",
     "output_type": "stream",
     "text": [
      "[I 2023-12-26 10:27:18,129] Using an existing study with name 'P3Alpha' instead of creating a new one.\n"
     ]
    },
    {
     "name": "stdout",
     "output_type": "stream",
     "text": [
      "P3alphaRecommender: URM Detected 216 ( 1.7%) users with no interactions.\n",
      "P3alphaRecommender: URM Detected 111 ( 0.5%) items with no interactions.\n",
      "P3alphaRecommender: Similarity column 22222 (100.0%), 4174.83 column/sec. Elapsed time 5.32 sec\n"
     ]
    },
    {
     "name": "stderr",
     "output_type": "stream",
     "text": [
      "[I 2023-12-26 10:27:32,361] Using an existing study with name 'Easer' instead of creating a new one.\n"
     ]
    },
    {
     "name": "stdout",
     "output_type": "stream",
     "text": [
      "EASE_R_Recommender: URM Detected 216 ( 1.7%) users with no interactions.\n",
      "EASE_R_Recommender: URM Detected 111 ( 0.5%) items with no interactions.\n",
      "EASE_R_Recommender: Fitting model... \n",
      "EASE_R_Recommender: Fitting model... done in 3.67 min\n"
     ]
    },
    {
     "name": "stderr",
     "output_type": "stream",
     "text": [
      "[I 2023-12-26 10:31:36,519] Using an existing study with name 'ItemKNNCF' instead of creating a new one.\n"
     ]
    },
    {
     "name": "stdout",
     "output_type": "stream",
     "text": [
      "ItemKNNCFRecommender: URM Detected 216 ( 1.7%) users with no interactions.\n",
      "ItemKNNCFRecommender: URM Detected 111 ( 0.5%) items with no interactions.\n",
      "Similarity column 22222 (100.0%), 10166.96 column/sec. Elapsed time 2.19 sec\n"
     ]
    }
   ],
   "source": [
    "topPop = TopPop(data_train)\n",
    "topPop.fit()\n",
    "\n",
    "p3alpha_study = optuna.create_study(\n",
    "    study_name=\"P3Alpha\",\n",
    "    storage=get_database_url(),\n",
    "    load_if_exists=True,\n",
    "    direction=\"maximize\",\n",
    ")\n",
    "p3alpha = P3alphaRecommender(data_train)\n",
    "p3alpha.fit(**p3alpha_study.best_params)\n",
    "\n",
    "easer_study = optuna.create_study(\n",
    "    study_name=\"Easer\",\n",
    "    storage=get_database_url(),\n",
    "    load_if_exists=True,\n",
    "    direction=\"maximize\",\n",
    ")\n",
    "easer = EASE_R_Recommender(data_train)\n",
    "easer.fit(**easer_study.best_params)\n",
    "\n",
    "itemknncf_study = optuna.create_study(\n",
    "    study_name=\"ItemKNNCF\",\n",
    "    storage=get_database_url(),\n",
    "    load_if_exists=True,\n",
    "    direction=\"maximize\",\n",
    ")\n",
    "itemknncf = ItemKNNCFRecommender(data_train)\n",
    "itemknncf.fit(**itemknncf_study.best_params)\n",
    "\n",
    "\n",
    "other_algorithms = {\n",
    "    \"TopPop\": topPop,\n",
    "    \"P3alpha\": p3alpha,\n",
    "    \"Easer\": easer,\n",
    "    \"ItemKNNCF\": itemknncf\n",
    "}"
   ]
  },
  {
   "cell_type": "code",
   "execution_count": 9,
   "metadata": {},
   "outputs": [],
   "source": [
    "training_dataframe = training_dataframe.set_index('UserID')\n",
    "\n",
    "for user_id in range(n_users):  \n",
    "    for rec_label, rec_instance in other_algorithms.items():\n",
    "        item_list = training_dataframe.loc[user_id, \"ItemID\"].values.tolist()\n",
    "        all_item_scores = rec_instance._compute_item_score([user_id], items_to_compute = item_list)\n",
    "        training_dataframe.loc[user_id, rec_label] = all_item_scores[0, item_list] \n",
    "\n",
    "training_dataframe = training_dataframe.reset_index()\n",
    "training_dataframe = training_dataframe.rename(columns = {\"index\": \"UserID\"})\n",
    "\n",
    "item_popularity = np.ediff1d(sps.csc_matrix(data_train).indptr)\n",
    "training_dataframe['item_popularity'] = item_popularity[training_dataframe[\"ItemID\"].values.astype(int)]\n",
    "user_popularity = np.ediff1d(sps.csr_matrix(data_train).indptr)\n",
    "training_dataframe['user_profile_len'] = user_popularity[training_dataframe[\"UserID\"].values.astype(int)]"
   ]
  },
  {
   "cell_type": "code",
   "execution_count": 10,
   "metadata": {},
   "outputs": [],
   "source": [
    "training_dataframe = training_dataframe.set_index('ItemID')\n",
    "training_dataframe = training_dataframe.reset_index()\n",
    "training_dataframe = training_dataframe.rename(columns = {\"index\": \"ItemID\"})"
   ]
  },
  {
   "cell_type": "code",
   "execution_count": 11,
   "metadata": {},
   "outputs": [],
   "source": [
    "groups = training_dataframe.groupby(\"UserID\").size().values\n",
    "train_recs = training_dataframe.drop(columns=[\"Label\"])\n",
    "train_labs = training_dataframe[\"Label\"]"
   ]
  },
  {
   "cell_type": "code",
   "execution_count": 19,
   "metadata": {},
   "outputs": [
    {
     "name": "stderr",
     "output_type": "stream",
     "text": [
      "[I 2023-12-26 10:45:20,789] A new study created in RDB with name: XGBoost(P3Beta, TopPop, P3alpha, Easer, ItemKNNCF)\n"
     ]
    }
   ],
   "source": [
    "study = optuna.create_study(\n",
    "    study_name=\"XGBoost(P3Beta, TopPop, P3alpha, Easer, ItemKNNCF)\",\n",
    "    storage=get_database_url(),\n",
    "    load_if_exists=True,\n",
    "    direction=\"maximize\",\n",
    ")"
   ]
  },
  {
   "cell_type": "code",
   "execution_count": 20,
   "metadata": {},
   "outputs": [],
   "source": [
    "def evaluator(data_train, train_recs, XGB_model, training_dataframe, data_test: sp.csr_matrix, recommendation_length: int = 10):\n",
    "    accum_precision = 0\n",
    "    accum_recall = 0\n",
    "    accum_map = 0\n",
    "\n",
    "    num_users = data_train.shape[0]\n",
    "\n",
    "    num_users_evaluated = 0\n",
    "    num_users_skipped = 0\n",
    "    for user_id in range(num_users):\n",
    "        user_profile_start = data_test.indptr[user_id]\n",
    "        user_profile_end = data_test.indptr[user_id+1]\n",
    "\n",
    "        relevant_items = data_test.indices[user_profile_start:user_profile_end]\n",
    "\n",
    "        if relevant_items.size == 0:\n",
    "            num_users_skipped += 1\n",
    "            continue\n",
    "        \n",
    "        predict = train_recs[train_recs[\"UserID\"] == user_id]\n",
    "        predictions = XGB_model.predict(predict)\n",
    "        user_ids = predict[\"UserID\"].values\n",
    "        item_ids = predict[\"ItemID\"].values\n",
    "        predictions = pd.DataFrame({\"UserID\": user_ids, \"ItemID\": item_ids, \"Predictions\": predictions})\n",
    "        predictions = predictions.sort_values(by=\"Predictions\", ascending=False)\n",
    "        recommendations = np.array(predictions[\"ItemID\"].values[:recommendation_length])\n",
    "\n",
    "        accum_precision += precision(recommendations, relevant_items)\n",
    "        accum_recall += recall(recommendations, relevant_items)\n",
    "        accum_map += mean_average_precision(recommendations, relevant_items)\n",
    "\n",
    "        num_users_evaluated += 1\n",
    "\n",
    "\n",
    "    accum_precision /= max(num_users_evaluated, 1)\n",
    "    accum_recall /= max(num_users_evaluated, 1)\n",
    "    accum_map /=  max(num_users_evaluated, 1)\n",
    "\n",
    "    return accum_precision, accum_recall, accum_map, num_users_evaluated, num_users_skipped\n"
   ]
  },
  {
   "cell_type": "code",
   "execution_count": 21,
   "metadata": {},
   "outputs": [
    {
     "name": "stderr",
     "output_type": "stream",
     "text": [
      "[I 2023-12-26 10:46:36,741] Trial 0 finished with value: 0.06581843829560775 and parameters: {'objective': 'rank:map', 'n_estimators': 63, 'learning_rate': 0.08677511249344874, 'reg_alpha': 0.04130990220340621, 'reg_lambda': 0.044240191383192407, 'max_depth': 2, 'max_leaves': 2, 'grow_policy': 'depthwise', 'booster': 'gblinear'}. Best is trial 0 with value: 0.06581843829560775.\n",
      "[I 2023-12-26 11:07:09,224] Trial 1 finished with value: 0.08588383700842542 and parameters: {'objective': 'rank:pairwise', 'n_estimators': 424, 'learning_rate': 0.0030004298323057666, 'reg_alpha': 0.052050455601365196, 'reg_lambda': 0.05041764407007444, 'max_depth': 4, 'max_leaves': 6, 'grow_policy': 'depthwise', 'booster': 'dart'}. Best is trial 1 with value: 0.08588383700842542.\n",
      "[I 2023-12-26 11:07:58,180] Trial 2 finished with value: 0.0836599101214688 and parameters: {'objective': 'rank:ndcg', 'n_estimators': 64, 'learning_rate': 0.0013862427006259587, 'reg_alpha': 0.00027836637461264174, 'reg_lambda': 0.0031931290508988653, 'max_depth': 10, 'max_leaves': 10, 'grow_policy': 'lossguide', 'booster': 'gbtree'}. Best is trial 1 with value: 0.08588383700842542.\n",
      "[I 2023-12-26 11:11:34,083] Trial 3 finished with value: 0.08307393686253522 and parameters: {'objective': 'rank:ndcg', 'n_estimators': 162, 'learning_rate': 0.0003560979391620785, 'reg_alpha': 0.013466672179202131, 'reg_lambda': 0.03384651217343987, 'max_depth': 5, 'max_leaves': 8, 'grow_policy': 'depthwise', 'booster': 'dart'}. Best is trial 1 with value: 0.08588383700842542.\n",
      "[I 2023-12-26 11:12:20,401] Trial 4 finished with value: 0.07243758155076377 and parameters: {'objective': 'rank:map', 'n_estimators': 102, 'learning_rate': 0.008525663510988869, 'reg_alpha': 0.0002781087959377211, 'reg_lambda': 0.00770185026796553, 'max_depth': 8, 'max_leaves': 7, 'grow_policy': 'depthwise', 'booster': 'gblinear'}. Best is trial 1 with value: 0.08588383700842542.\n",
      "[I 2023-12-26 11:13:16,902] Trial 5 finished with value: 0.06061667774743794 and parameters: {'objective': 'rank:pairwise', 'n_estimators': 474, 'learning_rate': 0.0014737510788736458, 'reg_alpha': 0.0017969940635691904, 'reg_lambda': 0.00016783140250168935, 'max_depth': 1, 'max_leaves': 2, 'grow_policy': 'depthwise', 'booster': 'gblinear'}. Best is trial 1 with value: 0.08588383700842542.\n",
      "[I 2023-12-26 11:14:04,332] Trial 6 finished with value: 0.08013269766256122 and parameters: {'objective': 'rank:ndcg', 'n_estimators': 236, 'learning_rate': 0.0002106702595452325, 'reg_alpha': 0.007073904066326698, 'reg_lambda': 0.0009941527447700385, 'max_depth': 2, 'max_leaves': 3, 'grow_policy': 'lossguide', 'booster': 'gbtree'}. Best is trial 1 with value: 0.08588383700842542.\n",
      "[I 2023-12-26 11:14:55,119] Trial 7 finished with value: 0.08490449891522833 and parameters: {'objective': 'rank:pairwise', 'n_estimators': 350, 'learning_rate': 0.0007092165774370957, 'reg_alpha': 0.0005853896423202888, 'reg_lambda': 0.02812413517820965, 'max_depth': 7, 'max_leaves': 10, 'grow_policy': 'depthwise', 'booster': 'gbtree'}. Best is trial 1 with value: 0.08588383700842542.\n",
      "[I 2023-12-26 11:16:36,492] Trial 8 finished with value: 0.08576065605066466 and parameters: {'objective': 'rank:pairwise', 'n_estimators': 89, 'learning_rate': 0.08146748380833183, 'reg_alpha': 0.0015386453247003766, 'reg_lambda': 0.049442976484198035, 'max_depth': 6, 'max_leaves': 3, 'grow_policy': 'depthwise', 'booster': 'dart'}. Best is trial 1 with value: 0.08588383700842542.\n",
      "[I 2023-12-26 11:19:34,254] Trial 9 finished with value: 0.08474665611066597 and parameters: {'objective': 'rank:ndcg', 'n_estimators': 142, 'learning_rate': 0.0019125672767694199, 'reg_alpha': 0.000521761993263615, 'reg_lambda': 0.0004735750638838149, 'max_depth': 5, 'max_leaves': 8, 'grow_policy': 'lossguide', 'booster': 'dart'}. Best is trial 1 with value: 0.08588383700842542.\n",
      "[I 2023-12-26 11:45:39,545] Trial 10 finished with value: 0.08618689041483557 and parameters: {'objective': 'rank:pairwise', 'n_estimators': 486, 'learning_rate': 0.009182560236372922, 'reg_alpha': 0.07125195996072424, 'reg_lambda': 0.008269373327112889, 'max_depth': 4, 'max_leaves': 6, 'grow_policy': 'lossguide', 'booster': 'dart'}. Best is trial 10 with value: 0.08618689041483557.\n",
      "[I 2023-12-26 12:11:41,442] Trial 11 finished with value: 0.08632827608316103 and parameters: {'objective': 'rank:pairwise', 'n_estimators': 499, 'learning_rate': 0.009700369844248534, 'reg_alpha': 0.0978612329154185, 'reg_lambda': 0.011455824603594792, 'max_depth': 4, 'max_leaves': 5, 'grow_policy': 'lossguide', 'booster': 'dart'}. Best is trial 11 with value: 0.08632827608316103.\n",
      "[I 2023-12-26 12:38:49,764] Trial 12 finished with value: 0.08701385591040205 and parameters: {'objective': 'rank:pairwise', 'n_estimators': 499, 'learning_rate': 0.017711975773091648, 'reg_alpha': 0.09708650278011849, 'reg_lambda': 0.007597295685301194, 'max_depth': 4, 'max_leaves': 5, 'grow_policy': 'lossguide', 'booster': 'dart'}. Best is trial 12 with value: 0.08701385591040205.\n",
      "[I 2023-12-26 12:54:03,924] Trial 13 finished with value: 0.08688008926409409 and parameters: {'objective': 'rank:pairwise', 'n_estimators': 373, 'learning_rate': 0.024385695201315876, 'reg_alpha': 0.018625998073478853, 'reg_lambda': 0.010006228974135898, 'max_depth': 3, 'max_leaves': 4, 'grow_policy': 'lossguide', 'booster': 'dart'}. Best is trial 12 with value: 0.08701385591040205.\n",
      "[I 2023-12-26 13:07:28,411] Trial 14 finished with value: 0.08689517470562862 and parameters: {'objective': 'rank:pairwise', 'n_estimators': 353, 'learning_rate': 0.02788518174443689, 'reg_alpha': 0.018571264339269776, 'reg_lambda': 0.0023803711948493463, 'max_depth': 3, 'max_leaves': 4, 'grow_policy': 'lossguide', 'booster': 'dart'}. Best is trial 12 with value: 0.08701385591040205.\n",
      "[I 2023-12-26 13:16:50,943] Trial 15 finished with value: 0.043800327844920064 and parameters: {'objective': 'rank:pairwise', 'n_estimators': 298, 'learning_rate': 0.01980793392460305, 'reg_alpha': 0.024243707049256116, 'reg_lambda': 0.0015001996841170905, 'max_depth': 1, 'max_leaves': 1, 'grow_policy': 'lossguide', 'booster': 'dart'}. Best is trial 12 with value: 0.08701385591040205.\n",
      "[I 2023-12-26 13:32:15,469] Trial 16 finished with value: 0.08780742053930533 and parameters: {'objective': 'rank:map', 'n_estimators': 378, 'learning_rate': 0.03257709513687877, 'reg_alpha': 0.005899342894108284, 'reg_lambda': 0.0030140868495540387, 'max_depth': 3, 'max_leaves': 5, 'grow_policy': 'lossguide', 'booster': 'dart'}. Best is trial 16 with value: 0.08780742053930533.\n",
      "[I 2023-12-26 13:50:46,624] Trial 17 finished with value: 0.08894533452102735 and parameters: {'objective': 'rank:map', 'n_estimators': 424, 'learning_rate': 0.0425671965657017, 'reg_alpha': 0.004513519401334721, 'reg_lambda': 0.003957501827273915, 'max_depth': 6, 'max_leaves': 5, 'grow_policy': 'lossguide', 'booster': 'dart'}. Best is trial 17 with value: 0.08894533452102735.\n",
      "[I 2023-12-26 13:51:35,264] Trial 18 finished with value: 0.07318009378462566 and parameters: {'objective': 'rank:map', 'n_estimators': 262, 'learning_rate': 0.048350993705120596, 'reg_alpha': 0.004328731476217387, 'reg_lambda': 0.0004586905331009004, 'max_depth': 8, 'max_leaves': 7, 'grow_policy': 'lossguide', 'booster': 'gblinear'}. Best is trial 17 with value: 0.08894533452102735.\n",
      "[I 2023-12-26 13:52:22,606] Trial 19 finished with value: 0.0854379033697106 and parameters: {'objective': 'rank:map', 'n_estimators': 391, 'learning_rate': 0.005354351633718518, 'reg_alpha': 0.006932396119733471, 'reg_lambda': 0.0035713020102371594, 'max_depth': 6, 'max_leaves': 4, 'grow_policy': 'lossguide', 'booster': 'gbtree'}. Best is trial 17 with value: 0.08894533452102735.\n",
      "[I 2023-12-26 14:11:50,063] Trial 20 finished with value: 0.09198917330857877 and parameters: {'objective': 'rank:map', 'n_estimators': 433, 'learning_rate': 0.05154689542772486, 'reg_alpha': 0.0019189786785834063, 'reg_lambda': 0.0007472347547308366, 'max_depth': 10, 'max_leaves': 7, 'grow_policy': 'lossguide', 'booster': 'dart'}. Best is trial 20 with value: 0.09198917330857877.\n",
      "[I 2023-12-26 14:30:52,456] Trial 21 finished with value: 0.0917250608390726 and parameters: {'objective': 'rank:map', 'n_estimators': 418, 'learning_rate': 0.049253313192676916, 'reg_alpha': 0.0016471252749893342, 'reg_lambda': 0.0007111476170388323, 'max_depth': 10, 'max_leaves': 7, 'grow_policy': 'lossguide', 'booster': 'dart'}. Best is trial 20 with value: 0.09198917330857877.\n",
      "[I 2023-12-26 14:50:06,002] Trial 22 finished with value: 0.09288261139865352 and parameters: {'objective': 'rank:map', 'n_estimators': 425, 'learning_rate': 0.050160148243931967, 'reg_alpha': 0.0020920213019654105, 'reg_lambda': 0.0005364315150003118, 'max_depth': 10, 'max_leaves': 8, 'grow_policy': 'lossguide', 'booster': 'dart'}. Best is trial 22 with value: 0.09288261139865352.\n",
      "[I 2023-12-26 15:09:16,195] Trial 23 finished with value: 0.09452979502147256 and parameters: {'objective': 'rank:map', 'n_estimators': 427, 'learning_rate': 0.06514566494889848, 'reg_alpha': 0.0018152502351439907, 'reg_lambda': 0.00010360686676030193, 'max_depth': 10, 'max_leaves': 8, 'grow_policy': 'lossguide', 'booster': 'dart'}. Best is trial 23 with value: 0.09452979502147256.\n",
      "[I 2023-12-26 15:18:41,471] Trial 24 finished with value: 0.09453359546527565 and parameters: {'objective': 'rank:map', 'n_estimators': 294, 'learning_rate': 0.08279666315420744, 'reg_alpha': 0.0008759829429493635, 'reg_lambda': 0.0001046986735634516, 'max_depth': 9, 'max_leaves': 9, 'grow_policy': 'lossguide', 'booster': 'dart'}. Best is trial 24 with value: 0.09453359546527565.\n",
      "[I 2023-12-26 15:27:58,170] Trial 25 finished with value: 0.09506224512813244 and parameters: {'objective': 'rank:map', 'n_estimators': 294, 'learning_rate': 0.0888887480813569, 'reg_alpha': 0.0006839458196167569, 'reg_lambda': 0.00010544228075107748, 'max_depth': 9, 'max_leaves': 9, 'grow_policy': 'lossguide', 'booster': 'dart'}. Best is trial 25 with value: 0.09506224512813244.\n",
      "[I 2023-12-26 15:37:54,019] Trial 26 finished with value: 0.09588927606984368 and parameters: {'objective': 'rank:map', 'n_estimators': 305, 'learning_rate': 0.09317892750199337, 'reg_alpha': 0.0006846070879484154, 'reg_lambda': 0.00010074673606694791, 'max_depth': 9, 'max_leaves': 9, 'grow_policy': 'lossguide', 'booster': 'dart'}. Best is trial 26 with value: 0.09588927606984368.\n",
      "[I 2023-12-26 15:48:01,076] Trial 27 finished with value: 0.09636717032433091 and parameters: {'objective': 'rank:map', 'n_estimators': 309, 'learning_rate': 0.0962338013333374, 'reg_alpha': 0.00010613787671635882, 'reg_lambda': 0.00023585581523817502, 'max_depth': 9, 'max_leaves': 9, 'grow_policy': 'lossguide', 'booster': 'dart'}. Best is trial 27 with value: 0.09636717032433091.\n",
      "[I 2023-12-26 15:48:46,683] Trial 28 finished with value: 0.0868917720920521 and parameters: {'objective': 'rank:map', 'n_estimators': 203, 'learning_rate': 0.013606883190956981, 'reg_alpha': 0.0001028277845753211, 'reg_lambda': 0.00022932851143620095, 'max_depth': 8, 'max_leaves': 9, 'grow_policy': 'lossguide', 'booster': 'gbtree'}. Best is trial 27 with value: 0.09636717032433091.\n",
      "[I 2023-12-26 15:49:32,560] Trial 29 finished with value: 0.07659179119884067 and parameters: {'objective': 'rank:map', 'n_estimators': 7, 'learning_rate': 0.08940378640889872, 'reg_alpha': 0.00010116178449018213, 'reg_lambda': 0.00023926204425330497, 'max_depth': 9, 'max_leaves': 9, 'grow_policy': 'lossguide', 'booster': 'gblinear'}. Best is trial 27 with value: 0.09636717032433091.\n",
      "[I 2023-12-26 15:50:24,546] Trial 30 finished with value: 0.07798441454451052 and parameters: {'objective': 'rank:map', 'n_estimators': 317, 'learning_rate': 0.005073548437034265, 'reg_alpha': 0.00021131287368536002, 'reg_lambda': 0.00018521098403258764, 'max_depth': 9, 'max_leaves': 10, 'grow_policy': 'lossguide', 'booster': 'gblinear'}. Best is trial 27 with value: 0.09636717032433091.\n",
      "[I 2023-12-26 15:58:56,105] Trial 31 finished with value: 0.09466567828564705 and parameters: {'objective': 'rank:map', 'n_estimators': 279, 'learning_rate': 0.08551506727495604, 'reg_alpha': 0.0007958523724587478, 'reg_lambda': 0.00012374002663145922, 'max_depth': 9, 'max_leaves': 9, 'grow_policy': 'lossguide', 'booster': 'dart'}. Best is trial 27 with value: 0.09636717032433091.\n",
      "[I 2023-12-26 16:06:18,938] Trial 32 finished with value: 0.0941611251991599 and parameters: {'objective': 'rank:map', 'n_estimators': 256, 'learning_rate': 0.08754938005097122, 'reg_alpha': 0.0009018542089090125, 'reg_lambda': 0.00031615360318146366, 'max_depth': 7, 'max_leaves': 9, 'grow_policy': 'lossguide', 'booster': 'dart'}. Best is trial 27 with value: 0.09636717032433091.\n",
      "[I 2023-12-26 16:12:18,361] Trial 33 finished with value: 0.09465932276786129 and parameters: {'objective': 'rank:map', 'n_estimators': 218, 'learning_rate': 0.09785100643358197, 'reg_alpha': 0.00016813600167681612, 'reg_lambda': 0.00014298562922849604, 'max_depth': 9, 'max_leaves': 10, 'grow_policy': 'lossguide', 'booster': 'dart'}. Best is trial 27 with value: 0.09636717032433091.\n",
      "[I 2023-12-26 16:24:00,390] Trial 34 finished with value: 0.08898409246113524 and parameters: {'objective': 'rank:map', 'n_estimators': 328, 'learning_rate': 0.03342241315356608, 'reg_alpha': 0.00043963864422070825, 'reg_lambda': 0.00030041471186900384, 'max_depth': 8, 'max_leaves': 9, 'grow_policy': 'depthwise', 'booster': 'dart'}. Best is trial 27 with value: 0.09636717032433091.\n",
      "[I 2023-12-26 16:32:13,445] Trial 35 finished with value: 0.09274998855744152 and parameters: {'objective': 'rank:map', 'n_estimators': 280, 'learning_rate': 0.058938678833071564, 'reg_alpha': 0.0008553609155283137, 'reg_lambda': 0.09432237643287786, 'max_depth': 7, 'max_leaves': 10, 'grow_policy': 'lossguide', 'booster': 'dart'}. Best is trial 27 with value: 0.09636717032433091.\n",
      "[I 2023-12-26 16:37:06,320] Trial 36 finished with value: 0.08770130224486396 and parameters: {'objective': 'rank:ndcg', 'n_estimators': 197, 'learning_rate': 0.03556210629574981, 'reg_alpha': 0.0003277377747951871, 'reg_lambda': 0.0001389363217753579, 'max_depth': 9, 'max_leaves': 8, 'grow_policy': 'depthwise', 'booster': 'dart'}. Best is trial 27 with value: 0.09636717032433091.\n",
      "[I 2023-12-26 16:37:55,164] Trial 37 finished with value: 0.08482280148310421 and parameters: {'objective': 'rank:map', 'n_estimators': 330, 'learning_rate': 0.0005989951585172161, 'reg_alpha': 0.00015294180182890045, 'reg_lambda': 0.0001037623673211021, 'max_depth': 8, 'max_leaves': 9, 'grow_policy': 'lossguide', 'booster': 'gbtree'}. Best is trial 27 with value: 0.09636717032433091.\n",
      "[I 2023-12-26 16:38:44,322] Trial 38 finished with value: 0.0755017457233256 and parameters: {'objective': 'rank:map', 'n_estimators': 159, 'learning_rate': 0.018549295244390723, 'reg_alpha': 0.0010948897772711196, 'reg_lambda': 0.00028655899811159003, 'max_depth': 9, 'max_leaves': 8, 'grow_policy': 'lossguide', 'booster': 'gblinear'}. Best is trial 27 with value: 0.09636717032433091.\n",
      "[I 2023-12-26 16:47:15,216] Trial 39 finished with value: 0.09149685698345429 and parameters: {'objective': 'rank:ndcg', 'n_estimators': 272, 'learning_rate': 0.06893629552034274, 'reg_alpha': 0.002862090282069199, 'reg_lambda': 0.0001769800112623968, 'max_depth': 7, 'max_leaves': 10, 'grow_policy': 'depthwise', 'booster': 'dart'}. Best is trial 27 with value: 0.09636717032433091.\n",
      "[I 2023-12-26 16:53:55,477] Trial 40 finished with value: 0.08657482470649752 and parameters: {'objective': 'rank:map', 'n_estimators': 234, 'learning_rate': 0.012612120060206797, 'reg_alpha': 0.0003617513247112031, 'reg_lambda': 0.0001688427294421877, 'max_depth': 8, 'max_leaves': 7, 'grow_policy': 'lossguide', 'booster': 'dart'}. Best is trial 27 with value: 0.09636717032433091.\n",
      "[I 2023-12-26 16:59:55,619] Trial 41 finished with value: 0.09377642427157468 and parameters: {'objective': 'rank:map', 'n_estimators': 214, 'learning_rate': 0.08634905108693976, 'reg_alpha': 0.0002323607081791907, 'reg_lambda': 0.00014799917069600285, 'max_depth': 9, 'max_leaves': 10, 'grow_policy': 'lossguide', 'booster': 'dart'}. Best is trial 27 with value: 0.09636717032433091.\n",
      "[I 2023-12-26 17:06:42,759] Trial 42 finished with value: 0.09554185865103915 and parameters: {'objective': 'rank:map', 'n_estimators': 233, 'learning_rate': 0.09699705295490953, 'reg_alpha': 0.000155691315799225, 'reg_lambda': 0.0003698810391114974, 'max_depth': 10, 'max_leaves': 10, 'grow_policy': 'lossguide', 'booster': 'dart'}. Best is trial 27 with value: 0.09636717032433091.\n",
      "[I 2023-12-26 17:17:05,052] Trial 43 finished with value: 0.09317884978202283 and parameters: {'objective': 'rank:map', 'n_estimators': 305, 'learning_rate': 0.06295111368613403, 'reg_alpha': 0.0005759169002114692, 'reg_lambda': 0.0003572343115962575, 'max_depth': 10, 'max_leaves': 9, 'grow_policy': 'lossguide', 'booster': 'dart'}. Best is trial 27 with value: 0.09636717032433091.\n",
      "[I 2023-12-26 17:21:14,809] Trial 44 finished with value: 0.0833907639329549 and parameters: {'objective': 'rank:map', 'n_estimators': 181, 'learning_rate': 0.00016267373810806813, 'reg_alpha': 0.0001504442036420033, 'reg_lambda': 0.00020994361129214327, 'max_depth': 10, 'max_leaves': 8, 'grow_policy': 'lossguide', 'booster': 'dart'}. Best is trial 27 with value: 0.09636717032433091.\n",
      "[I 2023-12-26 17:27:49,880] Trial 45 finished with value: 0.09263893182853113 and parameters: {'objective': 'rank:ndcg', 'n_estimators': 237, 'learning_rate': 0.09862969591331044, 'reg_alpha': 0.0004167533311687027, 'reg_lambda': 0.0010765854870974523, 'max_depth': 9, 'max_leaves': 10, 'grow_policy': 'depthwise', 'booster': 'dart'}. Best is trial 27 with value: 0.09636717032433091.\n",
      "[I 2023-12-26 17:28:41,902] Trial 46 finished with value: 0.0913163740947545 and parameters: {'objective': 'rank:map', 'n_estimators': 351, 'learning_rate': 0.04053780912343518, 'reg_alpha': 0.0006860577779886397, 'reg_lambda': 0.00037682055094749264, 'max_depth': 10, 'max_leaves': 9, 'grow_policy': 'lossguide', 'booster': 'gbtree'}. Best is trial 27 with value: 0.09636717032433091.\n",
      "[I 2023-12-26 17:31:21,350] Trial 47 finished with value: 0.0873285925354037 and parameters: {'objective': 'rank:map', 'n_estimators': 122, 'learning_rate': 0.024346126082722068, 'reg_alpha': 0.0011980467726874033, 'reg_lambda': 0.00013036910933243948, 'max_depth': 8, 'max_leaves': 10, 'grow_policy': 'lossguide', 'booster': 'dart'}. Best is trial 27 with value: 0.09636717032433091.\n",
      "[I 2023-12-26 17:40:26,949] Trial 48 finished with value: 0.0899309021226401 and parameters: {'objective': 'rank:map', 'n_estimators': 281, 'learning_rate': 0.06600357051496863, 'reg_alpha': 0.0002314526710401661, 'reg_lambda': 0.00023808563487659777, 'max_depth': 9, 'max_leaves': 6, 'grow_policy': 'lossguide', 'booster': 'dart'}. Best is trial 27 with value: 0.09636717032433091.\n",
      "[I 2023-12-26 17:47:13,790] Trial 49 finished with value: 0.08334756494006369 and parameters: {'objective': 'rank:ndcg', 'n_estimators': 237, 'learning_rate': 0.0003052714576803909, 'reg_alpha': 0.00012561378602302329, 'reg_lambda': 0.0005011784020100371, 'max_depth': 8, 'max_leaves': 9, 'grow_policy': 'depthwise', 'booster': 'dart'}. Best is trial 27 with value: 0.09636717032433091.\n",
      "[I 2023-12-26 17:48:11,347] Trial 50 finished with value: 0.07765228999365804 and parameters: {'objective': 'rank:map', 'n_estimators': 325, 'learning_rate': 0.0020354433743872947, 'reg_alpha': 0.00024689490275987683, 'reg_lambda': 0.000123057211126861, 'max_depth': 10, 'max_leaves': 8, 'grow_policy': 'lossguide', 'booster': 'gblinear'}. Best is trial 27 with value: 0.09636717032433091.\n",
      "[I 2023-12-26 17:54:21,075] Trial 51 finished with value: 0.09523633773266033 and parameters: {'objective': 'rank:map', 'n_estimators': 221, 'learning_rate': 0.09895045574476519, 'reg_alpha': 0.00019121383240525632, 'reg_lambda': 0.00015376773775663925, 'max_depth': 9, 'max_leaves': 10, 'grow_policy': 'lossguide', 'booster': 'dart'}. Best is trial 27 with value: 0.09636717032433091.\n",
      "[I 2023-12-26 18:01:36,835] Trial 52 finished with value: 0.09378780682252447 and parameters: {'objective': 'rank:map', 'n_estimators': 252, 'learning_rate': 0.07326102115826859, 'reg_alpha': 0.00018852191596431197, 'reg_lambda': 0.00018834295432019018, 'max_depth': 9, 'max_leaves': 10, 'grow_policy': 'lossguide', 'booster': 'dart'}. Best is trial 27 with value: 0.09636717032433091.\n",
      "[I 2023-12-26 18:05:47,785] Trial 53 finished with value: 0.08821578371884516 and parameters: {'objective': 'rank:map', 'n_estimators': 176, 'learning_rate': 0.041032742503965075, 'reg_alpha': 0.0003162134185486789, 'reg_lambda': 0.00024716920258895293, 'max_depth': 10, 'max_leaves': 9, 'grow_policy': 'lossguide', 'booster': 'dart'}. Best is trial 27 with value: 0.09636717032433091.\n",
      "[I 2023-12-26 18:15:29,327] Trial 54 finished with value: 0.08898215672162904 and parameters: {'objective': 'rank:map', 'n_estimators': 292, 'learning_rate': 0.02748472514703585, 'reg_alpha': 0.0004826314168999402, 'reg_lambda': 0.0001023978054596007, 'max_depth': 9, 'max_leaves': 10, 'grow_policy': 'lossguide', 'booster': 'dart'}. Best is trial 27 with value: 0.09636717032433091.\n",
      "[I 2023-12-26 18:23:02,415] Trial 55 finished with value: 0.09118077268771409 and parameters: {'objective': 'rank:map', 'n_estimators': 262, 'learning_rate': 0.05363109830236233, 'reg_alpha': 0.00014048235307571863, 'reg_lambda': 0.0003897614277308526, 'max_depth': 7, 'max_leaves': 9, 'grow_policy': 'lossguide', 'booster': 'dart'}. Best is trial 27 with value: 0.09636717032433091.\n",
      "[I 2023-12-26 18:37:12,444] Trial 56 finished with value: 0.0925713250445219 and parameters: {'objective': 'rank:pairwise', 'n_estimators': 367, 'learning_rate': 0.07469556354216805, 'reg_alpha': 0.0029106037800087333, 'reg_lambda': 0.0001549628020379664, 'max_depth': 5, 'max_leaves': 10, 'grow_policy': 'lossguide', 'booster': 'dart'}. Best is trial 27 with value: 0.09636717032433091.\n",
      "[I 2023-12-26 18:47:59,375] Trial 57 finished with value: 0.09546512414310306 and parameters: {'objective': 'rank:map', 'n_estimators': 315, 'learning_rate': 0.09930635401903068, 'reg_alpha': 0.0007162248005611243, 'reg_lambda': 0.01643815858919773, 'max_depth': 8, 'max_leaves': 8, 'grow_policy': 'lossguide', 'booster': 'dart'}. Best is trial 27 with value: 0.09636717032433091.\n",
      "[I 2023-12-26 18:48:51,144] Trial 58 finished with value: 0.09154640537921374 and parameters: {'objective': 'rank:map', 'n_estimators': 311, 'learning_rate': 0.05549224336674933, 'reg_alpha': 0.00012167231162243993, 'reg_lambda': 0.0315763609944607, 'max_depth': 8, 'max_leaves': 8, 'grow_policy': 'lossguide', 'booster': 'gbtree'}. Best is trial 27 with value: 0.09636717032433091.\n",
      "[I 2023-12-26 19:00:35,601] Trial 59 finished with value: 0.09306407363572296 and parameters: {'objective': 'rank:map', 'n_estimators': 336, 'learning_rate': 0.09880225941903545, 'reg_alpha': 0.009900306450164941, 'reg_lambda': 0.02278260694348191, 'max_depth': 10, 'max_leaves': 6, 'grow_policy': 'lossguide', 'booster': 'dart'}. Best is trial 27 with value: 0.09636717032433091.\n",
      "[I 2023-12-26 19:16:07,076] Trial 60 finished with value: 0.0885502125719626 and parameters: {'objective': 'rank:pairwise', 'n_estimators': 397, 'learning_rate': 0.04169580888997656, 'reg_alpha': 0.0002958339113630407, 'reg_lambda': 0.014663438996593609, 'max_depth': 8, 'max_leaves': 7, 'grow_policy': 'lossguide', 'booster': 'dart'}. Best is trial 27 with value: 0.09636717032433091.\n",
      "[I 2023-12-26 19:28:10,305] Trial 61 finished with value: 0.09483014665597589 and parameters: {'objective': 'rank:map', 'n_estimators': 345, 'learning_rate': 0.07276978124753586, 'reg_alpha': 0.0006356522457828011, 'reg_lambda': 0.0018454983698452812, 'max_depth': 9, 'max_leaves': 9, 'grow_policy': 'lossguide', 'booster': 'dart'}. Best is trial 27 with value: 0.09636717032433091.\n",
      "[I 2023-12-26 19:40:52,685] Trial 62 finished with value: 0.0944152813358483 and parameters: {'objective': 'rank:map', 'n_estimators': 343, 'learning_rate': 0.06673673045769062, 'reg_alpha': 0.001344080324683328, 'reg_lambda': 0.001249293420863429, 'max_depth': 9, 'max_leaves': 9, 'grow_policy': 'lossguide', 'booster': 'dart'}. Best is trial 27 with value: 0.09636717032433091.\n",
      "[I 2023-12-26 19:55:31,294] Trial 63 finished with value: 0.09188201250332648 and parameters: {'objective': 'rank:map', 'n_estimators': 363, 'learning_rate': 0.050221405905176805, 'reg_alpha': 0.0005867031435481898, 'reg_lambda': 0.0062246167082984395, 'max_depth': 10, 'max_leaves': 8, 'grow_policy': 'lossguide', 'booster': 'dart'}. Best is trial 27 with value: 0.09636717032433091.\n",
      "[I 2023-12-26 20:06:12,948] Trial 64 finished with value: 0.09713075384295052 and parameters: {'objective': 'rank:map', 'n_estimators': 301, 'learning_rate': 0.09961128143992405, 'reg_alpha': 0.00039283322049731446, 'reg_lambda': 0.0020993860216063924, 'max_depth': 9, 'max_leaves': 10, 'grow_policy': 'lossguide', 'booster': 'dart'}. Best is trial 64 with value: 0.09713075384295052.\n",
      "[I 2023-12-26 20:15:47,534] Trial 65 finished with value: 0.08941553224278526 and parameters: {'objective': 'rank:map', 'n_estimators': 299, 'learning_rate': 0.030394411448389076, 'reg_alpha': 0.00036946812638784926, 'reg_lambda': 0.005703482792308682, 'max_depth': 10, 'max_leaves': 10, 'grow_policy': 'lossguide', 'booster': 'dart'}. Best is trial 64 with value: 0.09713075384295052.\n",
      "[I 2023-12-26 20:22:53,356] Trial 66 finished with value: 0.09626602719893694 and parameters: {'objective': 'rank:map', 'n_estimators': 253, 'learning_rate': 0.09967760047560564, 'reg_alpha': 0.039450154605635696, 'reg_lambda': 0.0006752376167822037, 'max_depth': 8, 'max_leaves': 10, 'grow_policy': 'lossguide', 'booster': 'dart'}. Best is trial 64 with value: 0.09713075384295052.\n",
      "[I 2023-12-26 20:23:47,247] Trial 67 finished with value: 0.07727469129492194 and parameters: {'objective': 'rank:map', 'n_estimators': 248, 'learning_rate': 0.006782761115278173, 'reg_alpha': 0.0001927880500926554, 'reg_lambda': 0.0006448534537008369, 'max_depth': 6, 'max_leaves': 10, 'grow_policy': 'lossguide', 'booster': 'gblinear'}. Best is trial 64 with value: 0.09713075384295052.\n",
      "[I 2023-12-26 20:29:59,729] Trial 68 finished with value: 0.08488236136613435 and parameters: {'objective': 'rank:map', 'n_estimators': 223, 'learning_rate': 0.0010718016601411748, 'reg_alpha': 0.00025523711826962967, 'reg_lambda': 0.002266281100704738, 'max_depth': 8, 'max_leaves': 10, 'grow_policy': 'lossguide', 'booster': 'dart'}. Best is trial 64 with value: 0.09713075384295052.\n",
      "[I 2023-12-26 20:38:00,452] Trial 69 finished with value: 0.08194346922777532 and parameters: {'objective': 'rank:ndcg', 'n_estimators': 268, 'learning_rate': 0.003725897110775487, 'reg_alpha': 0.057511627370441736, 'reg_lambda': 0.0006277137237424204, 'max_depth': 7, 'max_leaves': 2, 'grow_policy': 'depthwise', 'booster': 'dart'}. Best is trial 64 with value: 0.09713075384295052.\n",
      "[I 2023-12-26 20:38:48,111] Trial 70 finished with value: 0.09107999851571272 and parameters: {'objective': 'rank:map', 'n_estimators': 200, 'learning_rate': 0.05810774330836223, 'reg_alpha': 0.04146119955528799, 'reg_lambda': 0.0008826533589956356, 'max_depth': 8, 'max_leaves': 10, 'grow_policy': 'lossguide', 'booster': 'gbtree'}. Best is trial 64 with value: 0.09713075384295052.\n",
      "[I 2023-12-26 20:49:22,488] Trial 71 finished with value: 0.09632861453708762 and parameters: {'objective': 'rank:map', 'n_estimators': 311, 'learning_rate': 0.09830462580725036, 'reg_alpha': 0.0001021208737029987, 'reg_lambda': 0.00020642866554341187, 'max_depth': 9, 'max_leaves': 9, 'grow_policy': 'lossguide', 'booster': 'dart'}. Best is trial 64 with value: 0.09713075384295052.\n",
      "[I 2023-12-26 20:57:42,209] Trial 72 finished with value: 0.043800327844920064 and parameters: {'objective': 'rank:map', 'n_estimators': 285, 'learning_rate': 0.09984300332270007, 'reg_alpha': 0.00011434793201406451, 'reg_lambda': 0.004638939602601363, 'max_depth': 9, 'max_leaves': 1, 'grow_policy': 'lossguide', 'booster': 'dart'}. Best is trial 64 with value: 0.09713075384295052.\n",
      "[I 2023-12-26 21:08:40,557] Trial 73 finished with value: 0.09509773100139286 and parameters: {'objective': 'rank:map', 'n_estimators': 314, 'learning_rate': 0.07388314443454226, 'reg_alpha': 0.00015427241206507775, 'reg_lambda': 0.05933112990804297, 'max_depth': 9, 'max_leaves': 10, 'grow_policy': 'lossguide', 'booster': 'dart'}. Best is trial 64 with value: 0.09713075384295052.\n",
      "[I 2023-12-26 21:19:03,783] Trial 74 finished with value: 0.08725220077836295 and parameters: {'objective': 'rank:map', 'n_estimators': 314, 'learning_rate': 0.045131775087656596, 'reg_alpha': 0.00017774224189131505, 'reg_lambda': 0.00041892037082124153, 'max_depth': 8, 'max_leaves': 3, 'grow_policy': 'lossguide', 'booster': 'dart'}. Best is trial 64 with value: 0.09713075384295052.\n",
      "[I 2023-12-26 21:26:59,037] Trial 75 finished with value: 0.08848393998183438 and parameters: {'objective': 'rank:map', 'n_estimators': 268, 'learning_rate': 0.07611164390379599, 'reg_alpha': 0.00012062388348660393, 'reg_lambda': 0.0002953140634645909, 'max_depth': 2, 'max_leaves': 9, 'grow_policy': 'lossguide', 'booster': 'dart'}. Best is trial 64 with value: 0.09713075384295052.\n",
      "[I 2023-12-26 21:42:33,544] Trial 76 finished with value: 0.09214384920184168 and parameters: {'objective': 'rank:pairwise', 'n_estimators': 395, 'learning_rate': 0.05940481831511498, 'reg_alpha': 0.0002811213645934775, 'reg_lambda': 0.0159574779820249, 'max_depth': 10, 'max_leaves': 10, 'grow_policy': 'lossguide', 'booster': 'dart'}. Best is trial 64 with value: 0.09713075384295052.\n",
      "[I 2023-12-26 21:49:51,192] Trial 77 finished with value: 0.0934468985306383 and parameters: {'objective': 'rank:map', 'n_estimators': 252, 'learning_rate': 0.08179231090863129, 'reg_alpha': 0.000201847711077105, 'reg_lambda': 0.002847688878495619, 'max_depth': 9, 'max_leaves': 9, 'grow_policy': 'lossguide', 'booster': 'dart'}. Best is trial 64 with value: 0.09713075384295052.\n",
      "[I 2023-12-26 21:55:50,103] Trial 78 finished with value: 0.08869350469730235 and parameters: {'objective': 'rank:map', 'n_estimators': 229, 'learning_rate': 0.036797730456183494, 'reg_alpha': 0.00232859776153511, 'reg_lambda': 0.0016246093944559874, 'max_depth': 8, 'max_leaves': 9, 'grow_policy': 'lossguide', 'booster': 'dart'}. Best is trial 64 with value: 0.09713075384295052.\n",
      "[I 2023-12-26 22:01:27,411] Trial 79 finished with value: 0.09167381372822829 and parameters: {'objective': 'rank:map', 'n_estimators': 211, 'learning_rate': 0.0834059583785132, 'reg_alpha': 0.017669431603722432, 'reg_lambda': 0.00021468724256939559, 'max_depth': 10, 'max_leaves': 8, 'grow_policy': 'lossguide', 'booster': 'dart'}. Best is trial 64 with value: 0.09713075384295052.\n",
      "[I 2023-12-26 22:02:18,715] Trial 80 finished with value: 0.07833753685086696 and parameters: {'objective': 'rank:map', 'n_estimators': 182, 'learning_rate': 0.09934540514731445, 'reg_alpha': 0.00010365243527111143, 'reg_lambda': 0.0008405389421825941, 'max_depth': 9, 'max_leaves': 10, 'grow_policy': 'lossguide', 'booster': 'gblinear'}. Best is trial 64 with value: 0.09713075384295052.\n",
      "[I 2023-12-26 22:13:16,314] Trial 81 finished with value: 0.09579098799495332 and parameters: {'objective': 'rank:map', 'n_estimators': 325, 'learning_rate': 0.07353951566390499, 'reg_alpha': 0.00015606136647650649, 'reg_lambda': 0.06535176637358721, 'max_depth': 9, 'max_leaves': 10, 'grow_policy': 'lossguide', 'booster': 'dart'}. Best is trial 64 with value: 0.09713075384295052.\n",
      "[I 2023-12-26 22:24:45,404] Trial 82 finished with value: 0.09450102570154846 and parameters: {'objective': 'rank:map', 'n_estimators': 325, 'learning_rate': 0.05947214533237553, 'reg_alpha': 0.02689084275493562, 'reg_lambda': 0.06656379149168548, 'max_depth': 9, 'max_leaves': 10, 'grow_policy': 'lossguide', 'booster': 'dart'}. Best is trial 64 with value: 0.09713075384295052.\n",
      "[I 2023-12-26 22:35:10,561] Trial 83 finished with value: 0.09201919704299276 and parameters: {'objective': 'rank:map', 'n_estimators': 304, 'learning_rate': 0.046892000071101454, 'reg_alpha': 0.00013611720799771356, 'reg_lambda': 0.04166862696259327, 'max_depth': 9, 'max_leaves': 10, 'grow_policy': 'lossguide', 'booster': 'dart'}. Best is trial 64 with value: 0.09713075384295052.\n",
      "[I 2023-12-26 22:44:20,225] Trial 84 finished with value: 0.0863742594218827 and parameters: {'objective': 'rank:map', 'n_estimators': 287, 'learning_rate': 0.08139080787106208, 'reg_alpha': 0.00016597906089839355, 'reg_lambda': 0.09237273623773228, 'max_depth': 1, 'max_leaves': 9, 'grow_policy': 'lossguide', 'booster': 'dart'}. Best is trial 64 with value: 0.09713075384295052.\n",
      "[I 2023-12-26 22:51:25,440] Trial 85 finished with value: 0.09274620127498455 and parameters: {'objective': 'rank:map', 'n_estimators': 241, 'learning_rate': 0.06663749224064357, 'reg_alpha': 0.00035975163121110124, 'reg_lambda': 0.0002629715391682281, 'max_depth': 8, 'max_leaves': 10, 'grow_policy': 'lossguide', 'booster': 'dart'}. Best is trial 64 with value: 0.09713075384295052.\n",
      "[I 2023-12-26 23:03:19,287] Trial 86 finished with value: 0.09439601223899394 and parameters: {'objective': 'rank:map', 'n_estimators': 334, 'learning_rate': 0.09791487143694666, 'reg_alpha': 0.004198840979710707, 'reg_lambda': 0.020385082079212444, 'max_depth': 7, 'max_leaves': 9, 'grow_policy': 'depthwise', 'booster': 'dart'}. Best is trial 64 with value: 0.09713075384295052.\n",
      "[I 2023-12-26 23:11:50,072] Trial 87 finished with value: 0.09203666573984336 and parameters: {'objective': 'rank:ndcg', 'n_estimators': 273, 'learning_rate': 0.05264366002128323, 'reg_alpha': 0.00021894000277256672, 'reg_lambda': 0.00018686405234291556, 'max_depth': 10, 'max_leaves': 10, 'grow_policy': 'lossguide', 'booster': 'dart'}. Best is trial 64 with value: 0.09713075384295052.\n",
      "[I 2023-12-26 23:24:19,548] Trial 88 finished with value: 0.09624261451675045 and parameters: {'objective': 'rank:map', 'n_estimators': 357, 'learning_rate': 0.08264334629964849, 'reg_alpha': 0.000477231944591461, 'reg_lambda': 0.009463079568281782, 'max_depth': 9, 'max_leaves': 9, 'grow_policy': 'lossguide', 'booster': 'dart'}. Best is trial 64 with value: 0.09713075384295052.\n",
      "[I 2023-12-26 23:25:11,468] Trial 89 finished with value: 0.08365029260316219 and parameters: {'objective': 'rank:map', 'n_estimators': 355, 'learning_rate': 0.00010520870921783633, 'reg_alpha': 0.0010704244204557392, 'reg_lambda': 0.013272805106844476, 'max_depth': 9, 'max_leaves': 9, 'grow_policy': 'lossguide', 'booster': 'gbtree'}. Best is trial 64 with value: 0.09713075384295052.\n",
      "[I 2023-12-26 23:45:40,299] Trial 90 finished with value: 0.09629854604508295 and parameters: {'objective': 'rank:map', 'n_estimators': 451, 'learning_rate': 0.08083510566914026, 'reg_alpha': 0.0004931530602769001, 'reg_lambda': 0.010386676528820925, 'max_depth': 10, 'max_leaves': 8, 'grow_policy': 'lossguide', 'booster': 'dart'}. Best is trial 64 with value: 0.09713075384295052.\n",
      "[I 2023-12-27 00:00:03,619] Trial 91 finished with value: 0.09380641744642512 and parameters: {'objective': 'rank:map', 'n_estimators': 372, 'learning_rate': 0.08070281773119843, 'reg_alpha': 0.0004997397628995102, 'reg_lambda': 0.009384435961798302, 'max_depth': 10, 'max_leaves': 7, 'grow_policy': 'lossguide', 'booster': 'dart'}. Best is trial 64 with value: 0.09713075384295052.\n",
      "[I 2023-12-27 00:24:10,418] Trial 92 finished with value: 0.09547388345451512 and parameters: {'objective': 'rank:map', 'n_estimators': 482, 'learning_rate': 0.06374959125031586, 'reg_alpha': 0.0008110346064214997, 'reg_lambda': 0.007446362503234474, 'max_depth': 10, 'max_leaves': 8, 'grow_policy': 'lossguide', 'booster': 'dart'}. Best is trial 64 with value: 0.09713075384295052.\n",
      "[I 2023-12-27 00:47:58,120] Trial 93 finished with value: 0.09676343414034831 and parameters: {'objective': 'rank:map', 'n_estimators': 489, 'learning_rate': 0.06618160050139567, 'reg_alpha': 0.0010070323236807696, 'reg_lambda': 0.006810547441588097, 'max_depth': 10, 'max_leaves': 9, 'grow_policy': 'lossguide', 'booster': 'dart'}. Best is trial 64 with value: 0.09713075384295052.\n",
      "[I 2023-12-27 01:10:33,427] Trial 94 finished with value: 0.0924166286129485 and parameters: {'objective': 'rank:map', 'n_estimators': 461, 'learning_rate': 0.03813472179968806, 'reg_alpha': 0.0004532306988300415, 'reg_lambda': 0.011222305162938272, 'max_depth': 10, 'max_leaves': 9, 'grow_policy': 'lossguide', 'booster': 'dart'}. Best is trial 64 with value: 0.09713075384295052.\n",
      "[I 2023-12-27 01:24:34,634] Trial 95 finished with value: 0.09609196108236885 and parameters: {'objective': 'rank:map', 'n_estimators': 383, 'learning_rate': 0.07448666900990697, 'reg_alpha': 0.0010077275277960525, 'reg_lambda': 0.005878863664594496, 'max_depth': 10, 'max_leaves': 9, 'grow_policy': 'lossguide', 'booster': 'dart'}. Best is trial 64 with value: 0.09713075384295052.\n",
      "[I 2023-12-27 01:46:54,452] Trial 96 finished with value: 0.08782531005366445 and parameters: {'objective': 'rank:pairwise', 'n_estimators': 457, 'learning_rate': 0.02152902498550959, 'reg_alpha': 0.0010058343187783374, 'reg_lambda': 0.00411921806252218, 'max_depth': 10, 'max_leaves': 8, 'grow_policy': 'lossguide', 'booster': 'dart'}. Best is trial 64 with value: 0.09713075384295052.\n",
      "[I 2023-12-27 02:11:30,561] Trial 97 finished with value: 0.09448106369589009 and parameters: {'objective': 'rank:map', 'n_estimators': 498, 'learning_rate': 0.04708448942335952, 'reg_alpha': 0.0013180484251114784, 'reg_lambda': 0.008543114511751755, 'max_depth': 9, 'max_leaves': 9, 'grow_policy': 'lossguide', 'booster': 'dart'}. Best is trial 64 with value: 0.09713075384295052.\n",
      "[I 2023-12-27 02:28:45,652] Trial 98 finished with value: 0.09315323840385044 and parameters: {'objective': 'rank:map', 'n_estimators': 406, 'learning_rate': 0.06775005715715374, 'reg_alpha': 0.0015244282635527675, 'reg_lambda': 0.005822888535725534, 'max_depth': 10, 'max_leaves': 9, 'grow_policy': 'depthwise', 'booster': 'dart'}. Best is trial 64 with value: 0.09713075384295052.\n",
      "[I 2023-12-27 02:29:37,467] Trial 99 finished with value: 0.07520470643599882 and parameters: {'objective': 'rank:map', 'n_estimators': 442, 'learning_rate': 0.0802740399649581, 'reg_alpha': 0.0005428834648634231, 'reg_lambda': 0.004713133681344797, 'max_depth': 9, 'max_leaves': 9, 'grow_policy': 'lossguide', 'booster': 'gblinear'}. Best is trial 64 with value: 0.09713075384295052.\n",
      "[I 2023-12-27 02:45:07,474] Trial 100 finished with value: 0.08972709955258869 and parameters: {'objective': 'rank:map', 'n_estimators': 383, 'learning_rate': 0.03211470707907878, 'reg_alpha': 0.00038783863536690454, 'reg_lambda': 0.006842226698264813, 'max_depth': 10, 'max_leaves': 8, 'grow_policy': 'lossguide', 'booster': 'dart'}. Best is trial 64 with value: 0.09713075384295052.\n",
      "[I 2023-12-27 03:06:09,981] Trial 101 finished with value: 0.09596856045333116 and parameters: {'objective': 'rank:map', 'n_estimators': 440, 'learning_rate': 0.05729849785376202, 'reg_alpha': 0.00010001196505715801, 'reg_lambda': 0.0034574646255452106, 'max_depth': 10, 'max_leaves': 10, 'grow_policy': 'lossguide', 'booster': 'dart'}. Best is trial 64 with value: 0.09713075384295052.\n",
      "[I 2023-12-27 03:27:09,719] Trial 102 finished with value: 0.09500105789576288 and parameters: {'objective': 'rank:map', 'n_estimators': 466, 'learning_rate': 0.054447063529603115, 'reg_alpha': 0.00010343137563337959, 'reg_lambda': 0.0030680863164650627, 'max_depth': 10, 'max_leaves': 9, 'grow_policy': 'lossguide', 'booster': 'dart'}. Best is trial 64 with value: 0.09713075384295052.\n",
      "[I 2023-12-27 03:45:31,901] Trial 103 finished with value: 0.09745870686314773 and parameters: {'objective': 'rank:map', 'n_estimators': 411, 'learning_rate': 0.075190779356883, 'reg_alpha': 0.0007072876275571323, 'reg_lambda': 0.002598510833082544, 'max_depth': 9, 'max_leaves': 10, 'grow_policy': 'lossguide', 'booster': 'dart'}. Best is trial 103 with value: 0.09745870686314773.\n",
      "[I 2023-12-27 04:05:16,702] Trial 104 finished with value: 0.0982066320310522 and parameters: {'objective': 'rank:map', 'n_estimators': 446, 'learning_rate': 0.08500509823207682, 'reg_alpha': 0.0006197539039243488, 'reg_lambda': 0.005010637121555073, 'max_depth': 10, 'max_leaves': 9, 'grow_policy': 'lossguide', 'booster': 'dart'}. Best is trial 104 with value: 0.0982066320310522.\n",
      "[I 2023-12-27 04:23:55,580] Trial 105 finished with value: 0.09593748115193095 and parameters: {'objective': 'rank:map', 'n_estimators': 415, 'learning_rate': 0.059755947851151354, 'reg_alpha': 0.0007628045488314233, 'reg_lambda': 0.002225228355201784, 'max_depth': 10, 'max_leaves': 10, 'grow_policy': 'lossguide', 'booster': 'dart'}. Best is trial 104 with value: 0.0982066320310522.\n",
      "[I 2023-12-27 04:44:51,725] Trial 106 finished with value: 0.09773398350442229 and parameters: {'objective': 'rank:map', 'n_estimators': 455, 'learning_rate': 0.08459445830309323, 'reg_alpha': 0.0005838277571380503, 'reg_lambda': 0.0035605213232860608, 'max_depth': 10, 'max_leaves': 9, 'grow_policy': 'lossguide', 'booster': 'dart'}. Best is trial 104 with value: 0.0982066320310522.\n",
      "[I 2023-12-27 05:07:06,847] Trial 107 finished with value: 0.09763341238674716 and parameters: {'objective': 'rank:ndcg', 'n_estimators': 478, 'learning_rate': 0.08869751255931639, 'reg_alpha': 0.0005449043877675024, 'reg_lambda': 0.00454442960968654, 'max_depth': 10, 'max_leaves': 9, 'grow_policy': 'lossguide', 'booster': 'dart'}. Best is trial 104 with value: 0.0982066320310522.\n",
      "[I 2023-12-27 05:30:48,492] Trial 108 finished with value: 0.09618660472648786 and parameters: {'objective': 'rank:ndcg', 'n_estimators': 476, 'learning_rate': 0.08131062125207113, 'reg_alpha': 0.0006169650332292943, 'reg_lambda': 0.004644731460917605, 'max_depth': 10, 'max_leaves': 8, 'grow_policy': 'lossguide', 'booster': 'dart'}. Best is trial 104 with value: 0.0982066320310522.\n",
      "[I 2023-12-27 05:51:44,235] Trial 109 finished with value: 0.09616921143693788 and parameters: {'objective': 'rank:ndcg', 'n_estimators': 451, 'learning_rate': 0.0869039139616214, 'reg_alpha': 0.00046024373333218175, 'reg_lambda': 0.0025520180262743304, 'max_depth': 4, 'max_leaves': 9, 'grow_policy': 'lossguide', 'booster': 'dart'}. Best is trial 104 with value: 0.0982066320310522.\n",
      "[I 2023-12-27 05:52:34,516] Trial 110 finished with value: 0.09356732872203015 and parameters: {'objective': 'rank:ndcg', 'n_estimators': 492, 'learning_rate': 0.04361330669727297, 'reg_alpha': 0.0005243590792502373, 'reg_lambda': 0.003656680398131458, 'max_depth': 9, 'max_leaves': 9, 'grow_policy': 'lossguide', 'booster': 'gbtree'}. Best is trial 104 with value: 0.0982066320310522.\n",
      "[I 2023-12-27 06:15:47,178] Trial 111 finished with value: 0.09708606202890618 and parameters: {'objective': 'rank:ndcg', 'n_estimators': 478, 'learning_rate': 0.08588748541397276, 'reg_alpha': 0.0006086623963964626, 'reg_lambda': 0.0050398395539364045, 'max_depth': 10, 'max_leaves': 8, 'grow_policy': 'lossguide', 'booster': 'dart'}. Best is trial 104 with value: 0.0982066320310522.\n",
      "[I 2023-12-27 06:37:52,771] Trial 112 finished with value: 0.09515337787805872 and parameters: {'objective': 'rank:ndcg', 'n_estimators': 469, 'learning_rate': 0.06585389210889832, 'reg_alpha': 0.000866299664054429, 'reg_lambda': 0.005032746428457284, 'max_depth': 10, 'max_leaves': 8, 'grow_policy': 'lossguide', 'booster': 'dart'}. Best is trial 104 with value: 0.0982066320310522.\n",
      "[I 2023-12-27 06:57:55,120] Trial 113 finished with value: 0.09740329825792561 and parameters: {'objective': 'rank:ndcg', 'n_estimators': 448, 'learning_rate': 0.08521965236732719, 'reg_alpha': 0.0007012528806189136, 'reg_lambda': 0.011069191192818477, 'max_depth': 10, 'max_leaves': 9, 'grow_policy': 'lossguide', 'booster': 'dart'}. Best is trial 104 with value: 0.0982066320310522.\n",
      "[I 2023-12-27 07:18:58,921] Trial 114 finished with value: 0.09585618508075978 and parameters: {'objective': 'rank:ndcg', 'n_estimators': 452, 'learning_rate': 0.09050049449779805, 'reg_alpha': 0.0007514141022639133, 'reg_lambda': 0.010927490133902804, 'max_depth': 10, 'max_leaves': 7, 'grow_policy': 'lossguide', 'booster': 'dart'}. Best is trial 104 with value: 0.0982066320310522.\n",
      "[I 2023-12-27 07:43:35,142] Trial 115 finished with value: 0.09545199206465767 and parameters: {'objective': 'rank:ndcg', 'n_estimators': 484, 'learning_rate': 0.06922311323430791, 'reg_alpha': 0.0006333182695987847, 'reg_lambda': 0.0018789590712381785, 'max_depth': 10, 'max_leaves': 8, 'grow_policy': 'lossguide', 'booster': 'dart'}. Best is trial 104 with value: 0.0982066320310522.\n",
      "[I 2023-12-27 08:02:31,097] Trial 116 finished with value: 0.0937412512206695 and parameters: {'objective': 'rank:ndcg', 'n_estimators': 431, 'learning_rate': 0.05068736652870727, 'reg_alpha': 0.00908926701049943, 'reg_lambda': 0.004055571117208007, 'max_depth': 10, 'max_leaves': 9, 'grow_policy': 'lossguide', 'booster': 'dart'}. Best is trial 104 with value: 0.0982066320310522.\n",
      "[I 2023-12-27 08:23:21,858] Trial 117 finished with value: 0.09659271824738733 and parameters: {'objective': 'rank:ndcg', 'n_estimators': 443, 'learning_rate': 0.08856115971410854, 'reg_alpha': 0.0003280056864156298, 'reg_lambda': 0.00784183222163472, 'max_depth': 10, 'max_leaves': 8, 'grow_policy': 'lossguide', 'booster': 'dart'}. Best is trial 104 with value: 0.0982066320310522.\n",
      "[I 2023-12-27 08:43:07,410] Trial 118 finished with value: 0.0954130172327811 and parameters: {'objective': 'rank:ndcg', 'n_estimators': 442, 'learning_rate': 0.07142257371404714, 'reg_alpha': 0.0003381266614507145, 'reg_lambda': 0.006921532970429037, 'max_depth': 10, 'max_leaves': 8, 'grow_policy': 'lossguide', 'booster': 'dart'}. Best is trial 104 with value: 0.0982066320310522.\n",
      "[I 2023-12-27 09:04:43,086] Trial 119 finished with value: 0.09378244109504416 and parameters: {'objective': 'rank:ndcg', 'n_estimators': 473, 'learning_rate': 0.08828511761614695, 'reg_alpha': 0.000419621475462175, 'reg_lambda': 0.012430178951021496, 'max_depth': 10, 'max_leaves': 7, 'grow_policy': 'depthwise', 'booster': 'dart'}. Best is trial 104 with value: 0.0982066320310522.\n",
      "[I 2023-12-27 09:24:07,481] Trial 120 finished with value: 0.09369335478416356 and parameters: {'objective': 'rank:ndcg', 'n_estimators': 422, 'learning_rate': 0.061796138278132004, 'reg_alpha': 0.0009492004906539689, 'reg_lambda': 0.007878791116529915, 'max_depth': 10, 'max_leaves': 8, 'grow_policy': 'lossguide', 'booster': 'dart'}. Best is trial 104 with value: 0.0982066320310522.\n",
      "[I 2023-12-27 09:45:27,685] Trial 121 finished with value: 0.09704674986993084 and parameters: {'objective': 'rank:ndcg', 'n_estimators': 448, 'learning_rate': 0.07658159135483993, 'reg_alpha': 0.0005519218994878466, 'reg_lambda': 0.0012771177661302358, 'max_depth': 10, 'max_leaves': 9, 'grow_policy': 'lossguide', 'booster': 'dart'}. Best is trial 104 with value: 0.0982066320310522.\n",
      "[W 2023-12-27 10:05:21,076] Trial 122 failed with parameters: {'objective': 'rank:ndcg', 'n_estimators': 448, 'learning_rate': 0.014834180463119377, 'reg_alpha': 0.0005661785348405954, 'reg_lambda': 0.0028447284851178265, 'max_depth': 10, 'max_leaves': 9, 'grow_policy': 'lossguide', 'booster': 'dart'} because of the following error: KeyboardInterrupt().\n",
      "Traceback (most recent call last):\n",
      "  File \"/home/kinami/.conda/envs/RecSysFramework/lib/python3.8/site-packages/optuna/study/_optimize.py\", line 200, in _run_trial\n",
      "    value_or_values = func(trial)\n",
      "  File \"/tmp/ipykernel_224358/1297192758.py\", line 28, in objective\n",
      "    XGB_model.fit(\n",
      "  File \"/home/kinami/.conda/envs/RecSysFramework/lib/python3.8/site-packages/xgboost/core.py\", line 730, in inner_f\n",
      "    return func(**kwargs)\n",
      "  File \"/home/kinami/.conda/envs/RecSysFramework/lib/python3.8/site-packages/xgboost/sklearn.py\", line 2033, in fit\n",
      "    self._Booster = train(\n",
      "  File \"/home/kinami/.conda/envs/RecSysFramework/lib/python3.8/site-packages/xgboost/core.py\", line 730, in inner_f\n",
      "    return func(**kwargs)\n",
      "  File \"/home/kinami/.conda/envs/RecSysFramework/lib/python3.8/site-packages/xgboost/training.py\", line 181, in train\n",
      "    bst.update(dtrain, i, obj)\n",
      "  File \"/home/kinami/.conda/envs/RecSysFramework/lib/python3.8/site-packages/xgboost/core.py\", line 2051, in update\n",
      "    _LIB.XGBoosterUpdateOneIter(\n",
      "KeyboardInterrupt\n",
      "[W 2023-12-27 10:05:21,077] Trial 122 failed with value None.\n"
     ]
    },
    {
     "ename": "KeyboardInterrupt",
     "evalue": "",
     "output_type": "error",
     "traceback": [
      "\u001b[0;31m---------------------------------------------------------------------------\u001b[0m",
      "\u001b[0;31mKeyboardInterrupt\u001b[0m                         Traceback (most recent call last)",
      "Cell \u001b[0;32mIn[21], line 38\u001b[0m\n\u001b[1;32m     34\u001b[0m     _, _, ev_map, _, _ \u001b[38;5;241m=\u001b[39m evaluator(data_train, train_recs, XGB_model, training_dataframe, data_val)\n\u001b[1;32m     36\u001b[0m     \u001b[38;5;28;01mreturn\u001b[39;00m ev_map\n\u001b[0;32m---> 38\u001b[0m \u001b[43mstudy\u001b[49m\u001b[38;5;241;43m.\u001b[39;49m\u001b[43moptimize\u001b[49m\u001b[43m(\u001b[49m\u001b[43mobjective\u001b[49m\u001b[43m,\u001b[49m\u001b[43m \u001b[49m\u001b[43mn_trials\u001b[49m\u001b[38;5;241;43m=\u001b[39;49m\u001b[38;5;241;43m1000\u001b[39;49m\u001b[43m)\u001b[49m\n",
      "File \u001b[0;32m~/.conda/envs/RecSysFramework/lib/python3.8/site-packages/optuna/study/study.py:451\u001b[0m, in \u001b[0;36mStudy.optimize\u001b[0;34m(self, func, n_trials, timeout, n_jobs, catch, callbacks, gc_after_trial, show_progress_bar)\u001b[0m\n\u001b[1;32m    348\u001b[0m \u001b[38;5;28;01mdef\u001b[39;00m \u001b[38;5;21moptimize\u001b[39m(\n\u001b[1;32m    349\u001b[0m     \u001b[38;5;28mself\u001b[39m,\n\u001b[1;32m    350\u001b[0m     func: ObjectiveFuncType,\n\u001b[0;32m   (...)\u001b[0m\n\u001b[1;32m    357\u001b[0m     show_progress_bar: \u001b[38;5;28mbool\u001b[39m \u001b[38;5;241m=\u001b[39m \u001b[38;5;28;01mFalse\u001b[39;00m,\n\u001b[1;32m    358\u001b[0m ) \u001b[38;5;241m-\u001b[39m\u001b[38;5;241m>\u001b[39m \u001b[38;5;28;01mNone\u001b[39;00m:\n\u001b[1;32m    359\u001b[0m \u001b[38;5;250m    \u001b[39m\u001b[38;5;124;03m\"\"\"Optimize an objective function.\u001b[39;00m\n\u001b[1;32m    360\u001b[0m \n\u001b[1;32m    361\u001b[0m \u001b[38;5;124;03m    Optimization is done by choosing a suitable set of hyperparameter values from a given\u001b[39;00m\n\u001b[0;32m   (...)\u001b[0m\n\u001b[1;32m    449\u001b[0m \u001b[38;5;124;03m            If nested invocation of this method occurs.\u001b[39;00m\n\u001b[1;32m    450\u001b[0m \u001b[38;5;124;03m    \"\"\"\u001b[39;00m\n\u001b[0;32m--> 451\u001b[0m     \u001b[43m_optimize\u001b[49m\u001b[43m(\u001b[49m\n\u001b[1;32m    452\u001b[0m \u001b[43m        \u001b[49m\u001b[43mstudy\u001b[49m\u001b[38;5;241;43m=\u001b[39;49m\u001b[38;5;28;43mself\u001b[39;49m\u001b[43m,\u001b[49m\n\u001b[1;32m    453\u001b[0m \u001b[43m        \u001b[49m\u001b[43mfunc\u001b[49m\u001b[38;5;241;43m=\u001b[39;49m\u001b[43mfunc\u001b[49m\u001b[43m,\u001b[49m\n\u001b[1;32m    454\u001b[0m \u001b[43m        \u001b[49m\u001b[43mn_trials\u001b[49m\u001b[38;5;241;43m=\u001b[39;49m\u001b[43mn_trials\u001b[49m\u001b[43m,\u001b[49m\n\u001b[1;32m    455\u001b[0m \u001b[43m        \u001b[49m\u001b[43mtimeout\u001b[49m\u001b[38;5;241;43m=\u001b[39;49m\u001b[43mtimeout\u001b[49m\u001b[43m,\u001b[49m\n\u001b[1;32m    456\u001b[0m \u001b[43m        \u001b[49m\u001b[43mn_jobs\u001b[49m\u001b[38;5;241;43m=\u001b[39;49m\u001b[43mn_jobs\u001b[49m\u001b[43m,\u001b[49m\n\u001b[1;32m    457\u001b[0m \u001b[43m        \u001b[49m\u001b[43mcatch\u001b[49m\u001b[38;5;241;43m=\u001b[39;49m\u001b[38;5;28;43mtuple\u001b[39;49m\u001b[43m(\u001b[49m\u001b[43mcatch\u001b[49m\u001b[43m)\u001b[49m\u001b[43m \u001b[49m\u001b[38;5;28;43;01mif\u001b[39;49;00m\u001b[43m \u001b[49m\u001b[38;5;28;43misinstance\u001b[39;49m\u001b[43m(\u001b[49m\u001b[43mcatch\u001b[49m\u001b[43m,\u001b[49m\u001b[43m \u001b[49m\u001b[43mIterable\u001b[49m\u001b[43m)\u001b[49m\u001b[43m \u001b[49m\u001b[38;5;28;43;01melse\u001b[39;49;00m\u001b[43m \u001b[49m\u001b[43m(\u001b[49m\u001b[43mcatch\u001b[49m\u001b[43m,\u001b[49m\u001b[43m)\u001b[49m\u001b[43m,\u001b[49m\n\u001b[1;32m    458\u001b[0m \u001b[43m        \u001b[49m\u001b[43mcallbacks\u001b[49m\u001b[38;5;241;43m=\u001b[39;49m\u001b[43mcallbacks\u001b[49m\u001b[43m,\u001b[49m\n\u001b[1;32m    459\u001b[0m \u001b[43m        \u001b[49m\u001b[43mgc_after_trial\u001b[49m\u001b[38;5;241;43m=\u001b[39;49m\u001b[43mgc_after_trial\u001b[49m\u001b[43m,\u001b[49m\n\u001b[1;32m    460\u001b[0m \u001b[43m        \u001b[49m\u001b[43mshow_progress_bar\u001b[49m\u001b[38;5;241;43m=\u001b[39;49m\u001b[43mshow_progress_bar\u001b[49m\u001b[43m,\u001b[49m\n\u001b[1;32m    461\u001b[0m \u001b[43m    \u001b[49m\u001b[43m)\u001b[49m\n",
      "File \u001b[0;32m~/.conda/envs/RecSysFramework/lib/python3.8/site-packages/optuna/study/_optimize.py:66\u001b[0m, in \u001b[0;36m_optimize\u001b[0;34m(study, func, n_trials, timeout, n_jobs, catch, callbacks, gc_after_trial, show_progress_bar)\u001b[0m\n\u001b[1;32m     64\u001b[0m \u001b[38;5;28;01mtry\u001b[39;00m:\n\u001b[1;32m     65\u001b[0m     \u001b[38;5;28;01mif\u001b[39;00m n_jobs \u001b[38;5;241m==\u001b[39m \u001b[38;5;241m1\u001b[39m:\n\u001b[0;32m---> 66\u001b[0m         \u001b[43m_optimize_sequential\u001b[49m\u001b[43m(\u001b[49m\n\u001b[1;32m     67\u001b[0m \u001b[43m            \u001b[49m\u001b[43mstudy\u001b[49m\u001b[43m,\u001b[49m\n\u001b[1;32m     68\u001b[0m \u001b[43m            \u001b[49m\u001b[43mfunc\u001b[49m\u001b[43m,\u001b[49m\n\u001b[1;32m     69\u001b[0m \u001b[43m            \u001b[49m\u001b[43mn_trials\u001b[49m\u001b[43m,\u001b[49m\n\u001b[1;32m     70\u001b[0m \u001b[43m            \u001b[49m\u001b[43mtimeout\u001b[49m\u001b[43m,\u001b[49m\n\u001b[1;32m     71\u001b[0m \u001b[43m            \u001b[49m\u001b[43mcatch\u001b[49m\u001b[43m,\u001b[49m\n\u001b[1;32m     72\u001b[0m \u001b[43m            \u001b[49m\u001b[43mcallbacks\u001b[49m\u001b[43m,\u001b[49m\n\u001b[1;32m     73\u001b[0m \u001b[43m            \u001b[49m\u001b[43mgc_after_trial\u001b[49m\u001b[43m,\u001b[49m\n\u001b[1;32m     74\u001b[0m \u001b[43m            \u001b[49m\u001b[43mreseed_sampler_rng\u001b[49m\u001b[38;5;241;43m=\u001b[39;49m\u001b[38;5;28;43;01mFalse\u001b[39;49;00m\u001b[43m,\u001b[49m\n\u001b[1;32m     75\u001b[0m \u001b[43m            \u001b[49m\u001b[43mtime_start\u001b[49m\u001b[38;5;241;43m=\u001b[39;49m\u001b[38;5;28;43;01mNone\u001b[39;49;00m\u001b[43m,\u001b[49m\n\u001b[1;32m     76\u001b[0m \u001b[43m            \u001b[49m\u001b[43mprogress_bar\u001b[49m\u001b[38;5;241;43m=\u001b[39;49m\u001b[43mprogress_bar\u001b[49m\u001b[43m,\u001b[49m\n\u001b[1;32m     77\u001b[0m \u001b[43m        \u001b[49m\u001b[43m)\u001b[49m\n\u001b[1;32m     78\u001b[0m     \u001b[38;5;28;01melse\u001b[39;00m:\n\u001b[1;32m     79\u001b[0m         \u001b[38;5;28;01mif\u001b[39;00m n_jobs \u001b[38;5;241m==\u001b[39m \u001b[38;5;241m-\u001b[39m\u001b[38;5;241m1\u001b[39m:\n",
      "File \u001b[0;32m~/.conda/envs/RecSysFramework/lib/python3.8/site-packages/optuna/study/_optimize.py:163\u001b[0m, in \u001b[0;36m_optimize_sequential\u001b[0;34m(study, func, n_trials, timeout, catch, callbacks, gc_after_trial, reseed_sampler_rng, time_start, progress_bar)\u001b[0m\n\u001b[1;32m    160\u001b[0m         \u001b[38;5;28;01mbreak\u001b[39;00m\n\u001b[1;32m    162\u001b[0m \u001b[38;5;28;01mtry\u001b[39;00m:\n\u001b[0;32m--> 163\u001b[0m     frozen_trial \u001b[38;5;241m=\u001b[39m \u001b[43m_run_trial\u001b[49m\u001b[43m(\u001b[49m\u001b[43mstudy\u001b[49m\u001b[43m,\u001b[49m\u001b[43m \u001b[49m\u001b[43mfunc\u001b[49m\u001b[43m,\u001b[49m\u001b[43m \u001b[49m\u001b[43mcatch\u001b[49m\u001b[43m)\u001b[49m\n\u001b[1;32m    164\u001b[0m \u001b[38;5;28;01mfinally\u001b[39;00m:\n\u001b[1;32m    165\u001b[0m     \u001b[38;5;66;03m# The following line mitigates memory problems that can be occurred in some\u001b[39;00m\n\u001b[1;32m    166\u001b[0m     \u001b[38;5;66;03m# environments (e.g., services that use computing containers such as GitHub Actions).\u001b[39;00m\n\u001b[1;32m    167\u001b[0m     \u001b[38;5;66;03m# Please refer to the following PR for further details:\u001b[39;00m\n\u001b[1;32m    168\u001b[0m     \u001b[38;5;66;03m# https://github.com/optuna/optuna/pull/325.\u001b[39;00m\n\u001b[1;32m    169\u001b[0m     \u001b[38;5;28;01mif\u001b[39;00m gc_after_trial:\n",
      "File \u001b[0;32m~/.conda/envs/RecSysFramework/lib/python3.8/site-packages/optuna/study/_optimize.py:251\u001b[0m, in \u001b[0;36m_run_trial\u001b[0;34m(study, func, catch)\u001b[0m\n\u001b[1;32m    244\u001b[0m         \u001b[38;5;28;01massert\u001b[39;00m \u001b[38;5;28;01mFalse\u001b[39;00m, \u001b[38;5;124m\"\u001b[39m\u001b[38;5;124mShould not reach.\u001b[39m\u001b[38;5;124m\"\u001b[39m\n\u001b[1;32m    246\u001b[0m \u001b[38;5;28;01mif\u001b[39;00m (\n\u001b[1;32m    247\u001b[0m     frozen_trial\u001b[38;5;241m.\u001b[39mstate \u001b[38;5;241m==\u001b[39m TrialState\u001b[38;5;241m.\u001b[39mFAIL\n\u001b[1;32m    248\u001b[0m     \u001b[38;5;129;01mand\u001b[39;00m func_err \u001b[38;5;129;01mis\u001b[39;00m \u001b[38;5;129;01mnot\u001b[39;00m \u001b[38;5;28;01mNone\u001b[39;00m\n\u001b[1;32m    249\u001b[0m     \u001b[38;5;129;01mand\u001b[39;00m \u001b[38;5;129;01mnot\u001b[39;00m \u001b[38;5;28misinstance\u001b[39m(func_err, catch)\n\u001b[1;32m    250\u001b[0m ):\n\u001b[0;32m--> 251\u001b[0m     \u001b[38;5;28;01mraise\u001b[39;00m func_err\n\u001b[1;32m    252\u001b[0m \u001b[38;5;28;01mreturn\u001b[39;00m frozen_trial\n",
      "File \u001b[0;32m~/.conda/envs/RecSysFramework/lib/python3.8/site-packages/optuna/study/_optimize.py:200\u001b[0m, in \u001b[0;36m_run_trial\u001b[0;34m(study, func, catch)\u001b[0m\n\u001b[1;32m    198\u001b[0m \u001b[38;5;28;01mwith\u001b[39;00m get_heartbeat_thread(trial\u001b[38;5;241m.\u001b[39m_trial_id, study\u001b[38;5;241m.\u001b[39m_storage):\n\u001b[1;32m    199\u001b[0m     \u001b[38;5;28;01mtry\u001b[39;00m:\n\u001b[0;32m--> 200\u001b[0m         value_or_values \u001b[38;5;241m=\u001b[39m \u001b[43mfunc\u001b[49m\u001b[43m(\u001b[49m\u001b[43mtrial\u001b[49m\u001b[43m)\u001b[49m\n\u001b[1;32m    201\u001b[0m     \u001b[38;5;28;01mexcept\u001b[39;00m exceptions\u001b[38;5;241m.\u001b[39mTrialPruned \u001b[38;5;28;01mas\u001b[39;00m e:\n\u001b[1;32m    202\u001b[0m         \u001b[38;5;66;03m# TODO(mamu): Handle multi-objective cases.\u001b[39;00m\n\u001b[1;32m    203\u001b[0m         state \u001b[38;5;241m=\u001b[39m TrialState\u001b[38;5;241m.\u001b[39mPRUNED\n",
      "Cell \u001b[0;32mIn[21], line 28\u001b[0m, in \u001b[0;36mobjective\u001b[0;34m(trial)\u001b[0m\n\u001b[1;32m     12\u001b[0m booster \u001b[38;5;241m=\u001b[39m trial\u001b[38;5;241m.\u001b[39msuggest_categorical(\u001b[38;5;124m\"\u001b[39m\u001b[38;5;124mbooster\u001b[39m\u001b[38;5;124m\"\u001b[39m, [\u001b[38;5;124m\"\u001b[39m\u001b[38;5;124mgbtree\u001b[39m\u001b[38;5;124m\"\u001b[39m, \u001b[38;5;124m\"\u001b[39m\u001b[38;5;124mgblinear\u001b[39m\u001b[38;5;124m\"\u001b[39m, \u001b[38;5;124m\"\u001b[39m\u001b[38;5;124mdart\u001b[39m\u001b[38;5;124m\"\u001b[39m])\n\u001b[1;32m     14\u001b[0m XGB_model \u001b[38;5;241m=\u001b[39m XGBRanker(\n\u001b[1;32m     15\u001b[0m     tree_method\u001b[38;5;241m=\u001b[39m\u001b[38;5;124m\"\u001b[39m\u001b[38;5;124mhist\u001b[39m\u001b[38;5;124m\"\u001b[39m,\n\u001b[1;32m     16\u001b[0m     objective\u001b[38;5;241m=\u001b[39mobjective,\n\u001b[0;32m   (...)\u001b[0m\n\u001b[1;32m     26\u001b[0m     verbosity\u001b[38;5;241m=\u001b[39m\u001b[38;5;241m0\u001b[39m, \u001b[38;5;66;03m# 2 if self.verbose else 0,\u001b[39;00m\n\u001b[1;32m     27\u001b[0m )\n\u001b[0;32m---> 28\u001b[0m \u001b[43mXGB_model\u001b[49m\u001b[38;5;241;43m.\u001b[39;49m\u001b[43mfit\u001b[49m\u001b[43m(\u001b[49m\n\u001b[1;32m     29\u001b[0m \u001b[43m    \u001b[49m\u001b[43mtrain_recs\u001b[49m\u001b[43m,\u001b[49m\n\u001b[1;32m     30\u001b[0m \u001b[43m    \u001b[49m\u001b[43mtrain_labs\u001b[49m\u001b[43m,\u001b[49m\n\u001b[1;32m     31\u001b[0m \u001b[43m    \u001b[49m\u001b[43mgroup\u001b[49m\u001b[38;5;241;43m=\u001b[39;49m\u001b[43mgroups\u001b[49m\u001b[43m,\u001b[49m\n\u001b[1;32m     32\u001b[0m \u001b[43m    \u001b[49m\u001b[43mverbose\u001b[49m\u001b[38;5;241;43m=\u001b[39;49m\u001b[38;5;28;43;01mFalse\u001b[39;49;00m\n\u001b[1;32m     33\u001b[0m \u001b[43m\u001b[49m\u001b[43m)\u001b[49m\n\u001b[1;32m     34\u001b[0m _, _, ev_map, _, _ \u001b[38;5;241m=\u001b[39m evaluator(data_train, train_recs, XGB_model, training_dataframe, data_val)\n\u001b[1;32m     36\u001b[0m \u001b[38;5;28;01mreturn\u001b[39;00m ev_map\n",
      "File \u001b[0;32m~/.conda/envs/RecSysFramework/lib/python3.8/site-packages/xgboost/core.py:730\u001b[0m, in \u001b[0;36mrequire_keyword_args.<locals>.throw_if.<locals>.inner_f\u001b[0;34m(*args, **kwargs)\u001b[0m\n\u001b[1;32m    728\u001b[0m \u001b[38;5;28;01mfor\u001b[39;00m k, arg \u001b[38;5;129;01min\u001b[39;00m \u001b[38;5;28mzip\u001b[39m(sig\u001b[38;5;241m.\u001b[39mparameters, args):\n\u001b[1;32m    729\u001b[0m     kwargs[k] \u001b[38;5;241m=\u001b[39m arg\n\u001b[0;32m--> 730\u001b[0m \u001b[38;5;28;01mreturn\u001b[39;00m \u001b[43mfunc\u001b[49m\u001b[43m(\u001b[49m\u001b[38;5;241;43m*\u001b[39;49m\u001b[38;5;241;43m*\u001b[39;49m\u001b[43mkwargs\u001b[49m\u001b[43m)\u001b[49m\n",
      "File \u001b[0;32m~/.conda/envs/RecSysFramework/lib/python3.8/site-packages/xgboost/sklearn.py:2033\u001b[0m, in \u001b[0;36mXGBRanker.fit\u001b[0;34m(self, X, y, group, qid, sample_weight, base_margin, eval_set, eval_group, eval_qid, eval_metric, early_stopping_rounds, verbose, xgb_model, sample_weight_eval_set, base_margin_eval_set, feature_weights, callbacks)\u001b[0m\n\u001b[1;32m   2021\u001b[0m params \u001b[38;5;241m=\u001b[39m \u001b[38;5;28mself\u001b[39m\u001b[38;5;241m.\u001b[39mget_xgb_params()\n\u001b[1;32m   2023\u001b[0m (\n\u001b[1;32m   2024\u001b[0m     model,\n\u001b[1;32m   2025\u001b[0m     metric,\n\u001b[0;32m   (...)\u001b[0m\n\u001b[1;32m   2030\u001b[0m     xgb_model, eval_metric, params, early_stopping_rounds, callbacks\n\u001b[1;32m   2031\u001b[0m )\n\u001b[0;32m-> 2033\u001b[0m \u001b[38;5;28mself\u001b[39m\u001b[38;5;241m.\u001b[39m_Booster \u001b[38;5;241m=\u001b[39m \u001b[43mtrain\u001b[49m\u001b[43m(\u001b[49m\n\u001b[1;32m   2034\u001b[0m \u001b[43m    \u001b[49m\u001b[43mparams\u001b[49m\u001b[43m,\u001b[49m\n\u001b[1;32m   2035\u001b[0m \u001b[43m    \u001b[49m\u001b[43mtrain_dmatrix\u001b[49m\u001b[43m,\u001b[49m\n\u001b[1;32m   2036\u001b[0m \u001b[43m    \u001b[49m\u001b[43mnum_boost_round\u001b[49m\u001b[38;5;241;43m=\u001b[39;49m\u001b[38;5;28;43mself\u001b[39;49m\u001b[38;5;241;43m.\u001b[39;49m\u001b[43mget_num_boosting_rounds\u001b[49m\u001b[43m(\u001b[49m\u001b[43m)\u001b[49m\u001b[43m,\u001b[49m\n\u001b[1;32m   2037\u001b[0m \u001b[43m    \u001b[49m\u001b[43mearly_stopping_rounds\u001b[49m\u001b[38;5;241;43m=\u001b[39;49m\u001b[43mearly_stopping_rounds\u001b[49m\u001b[43m,\u001b[49m\n\u001b[1;32m   2038\u001b[0m \u001b[43m    \u001b[49m\u001b[43mevals\u001b[49m\u001b[38;5;241;43m=\u001b[39;49m\u001b[43mevals\u001b[49m\u001b[43m,\u001b[49m\n\u001b[1;32m   2039\u001b[0m \u001b[43m    \u001b[49m\u001b[43mevals_result\u001b[49m\u001b[38;5;241;43m=\u001b[39;49m\u001b[43mevals_result\u001b[49m\u001b[43m,\u001b[49m\n\u001b[1;32m   2040\u001b[0m \u001b[43m    \u001b[49m\u001b[43mcustom_metric\u001b[49m\u001b[38;5;241;43m=\u001b[39;49m\u001b[43mmetric\u001b[49m\u001b[43m,\u001b[49m\n\u001b[1;32m   2041\u001b[0m \u001b[43m    \u001b[49m\u001b[43mverbose_eval\u001b[49m\u001b[38;5;241;43m=\u001b[39;49m\u001b[43mverbose\u001b[49m\u001b[43m,\u001b[49m\n\u001b[1;32m   2042\u001b[0m \u001b[43m    \u001b[49m\u001b[43mxgb_model\u001b[49m\u001b[38;5;241;43m=\u001b[39;49m\u001b[43mmodel\u001b[49m\u001b[43m,\u001b[49m\n\u001b[1;32m   2043\u001b[0m \u001b[43m    \u001b[49m\u001b[43mcallbacks\u001b[49m\u001b[38;5;241;43m=\u001b[39;49m\u001b[43mcallbacks\u001b[49m\u001b[43m,\u001b[49m\n\u001b[1;32m   2044\u001b[0m \u001b[43m\u001b[49m\u001b[43m)\u001b[49m\n\u001b[1;32m   2046\u001b[0m \u001b[38;5;28mself\u001b[39m\u001b[38;5;241m.\u001b[39mobjective \u001b[38;5;241m=\u001b[39m params[\u001b[38;5;124m\"\u001b[39m\u001b[38;5;124mobjective\u001b[39m\u001b[38;5;124m\"\u001b[39m]\n\u001b[1;32m   2048\u001b[0m \u001b[38;5;28mself\u001b[39m\u001b[38;5;241m.\u001b[39m_set_evaluation_result(evals_result)\n",
      "File \u001b[0;32m~/.conda/envs/RecSysFramework/lib/python3.8/site-packages/xgboost/core.py:730\u001b[0m, in \u001b[0;36mrequire_keyword_args.<locals>.throw_if.<locals>.inner_f\u001b[0;34m(*args, **kwargs)\u001b[0m\n\u001b[1;32m    728\u001b[0m \u001b[38;5;28;01mfor\u001b[39;00m k, arg \u001b[38;5;129;01min\u001b[39;00m \u001b[38;5;28mzip\u001b[39m(sig\u001b[38;5;241m.\u001b[39mparameters, args):\n\u001b[1;32m    729\u001b[0m     kwargs[k] \u001b[38;5;241m=\u001b[39m arg\n\u001b[0;32m--> 730\u001b[0m \u001b[38;5;28;01mreturn\u001b[39;00m \u001b[43mfunc\u001b[49m\u001b[43m(\u001b[49m\u001b[38;5;241;43m*\u001b[39;49m\u001b[38;5;241;43m*\u001b[39;49m\u001b[43mkwargs\u001b[49m\u001b[43m)\u001b[49m\n",
      "File \u001b[0;32m~/.conda/envs/RecSysFramework/lib/python3.8/site-packages/xgboost/training.py:181\u001b[0m, in \u001b[0;36mtrain\u001b[0;34m(params, dtrain, num_boost_round, evals, obj, feval, maximize, early_stopping_rounds, evals_result, verbose_eval, xgb_model, callbacks, custom_metric)\u001b[0m\n\u001b[1;32m    179\u001b[0m \u001b[38;5;28;01mif\u001b[39;00m cb_container\u001b[38;5;241m.\u001b[39mbefore_iteration(bst, i, dtrain, evals):\n\u001b[1;32m    180\u001b[0m     \u001b[38;5;28;01mbreak\u001b[39;00m\n\u001b[0;32m--> 181\u001b[0m \u001b[43mbst\u001b[49m\u001b[38;5;241;43m.\u001b[39;49m\u001b[43mupdate\u001b[49m\u001b[43m(\u001b[49m\u001b[43mdtrain\u001b[49m\u001b[43m,\u001b[49m\u001b[43m \u001b[49m\u001b[43mi\u001b[49m\u001b[43m,\u001b[49m\u001b[43m \u001b[49m\u001b[43mobj\u001b[49m\u001b[43m)\u001b[49m\n\u001b[1;32m    182\u001b[0m \u001b[38;5;28;01mif\u001b[39;00m cb_container\u001b[38;5;241m.\u001b[39mafter_iteration(bst, i, dtrain, evals):\n\u001b[1;32m    183\u001b[0m     \u001b[38;5;28;01mbreak\u001b[39;00m\n",
      "File \u001b[0;32m~/.conda/envs/RecSysFramework/lib/python3.8/site-packages/xgboost/core.py:2051\u001b[0m, in \u001b[0;36mBooster.update\u001b[0;34m(self, dtrain, iteration, fobj)\u001b[0m\n\u001b[1;32m   2047\u001b[0m \u001b[38;5;28mself\u001b[39m\u001b[38;5;241m.\u001b[39m_assign_dmatrix_features(dtrain)\n\u001b[1;32m   2049\u001b[0m \u001b[38;5;28;01mif\u001b[39;00m fobj \u001b[38;5;129;01mis\u001b[39;00m \u001b[38;5;28;01mNone\u001b[39;00m:\n\u001b[1;32m   2050\u001b[0m     _check_call(\n\u001b[0;32m-> 2051\u001b[0m         \u001b[43m_LIB\u001b[49m\u001b[38;5;241;43m.\u001b[39;49m\u001b[43mXGBoosterUpdateOneIter\u001b[49m\u001b[43m(\u001b[49m\n\u001b[1;32m   2052\u001b[0m \u001b[43m            \u001b[49m\u001b[38;5;28;43mself\u001b[39;49m\u001b[38;5;241;43m.\u001b[39;49m\u001b[43mhandle\u001b[49m\u001b[43m,\u001b[49m\u001b[43m \u001b[49m\u001b[43mctypes\u001b[49m\u001b[38;5;241;43m.\u001b[39;49m\u001b[43mc_int\u001b[49m\u001b[43m(\u001b[49m\u001b[43miteration\u001b[49m\u001b[43m)\u001b[49m\u001b[43m,\u001b[49m\u001b[43m \u001b[49m\u001b[43mdtrain\u001b[49m\u001b[38;5;241;43m.\u001b[39;49m\u001b[43mhandle\u001b[49m\n\u001b[1;32m   2053\u001b[0m \u001b[43m        \u001b[49m\u001b[43m)\u001b[49m\n\u001b[1;32m   2054\u001b[0m     )\n\u001b[1;32m   2055\u001b[0m \u001b[38;5;28;01melse\u001b[39;00m:\n\u001b[1;32m   2056\u001b[0m     pred \u001b[38;5;241m=\u001b[39m \u001b[38;5;28mself\u001b[39m\u001b[38;5;241m.\u001b[39mpredict(dtrain, output_margin\u001b[38;5;241m=\u001b[39m\u001b[38;5;28;01mTrue\u001b[39;00m, training\u001b[38;5;241m=\u001b[39m\u001b[38;5;28;01mTrue\u001b[39;00m)\n",
      "\u001b[0;31mKeyboardInterrupt\u001b[0m: "
     ]
    }
   ],
   "source": [
    "from xgboost import XGBRanker\n",
    "\n",
    "def objective(trial):\n",
    "    objective = trial.suggest_categorical(\"objective\", [\"rank:ndcg\", \"rank:map\", \"rank:pairwise\"])\n",
    "    n_estimators = trial.suggest_int(\"n_estimators\", 5, 500)\n",
    "    learning_rate = trial.suggest_float(\"learning_rate\", 1e-4, 1e-1, log=True)\n",
    "    reg_alpha = trial.suggest_float(\"reg_alpha\", 1e-4, 1e-1, log=True)\n",
    "    reg_lambda = trial.suggest_float(\"reg_lambda\", 1e-4, 1e-1, log=True)\n",
    "    max_depth = trial.suggest_int(\"max_depth\", 1, 10)\n",
    "    max_leaves = trial.suggest_int(\"max_leaves\", 1, 10)\n",
    "    grow_policy = trial.suggest_categorical(\"grow_policy\", [\"depthwise\", \"lossguide\"])\n",
    "    booster = trial.suggest_categorical(\"booster\", [\"gbtree\", \"gblinear\", \"dart\"])\n",
    "\n",
    "    XGB_model = XGBRanker(\n",
    "        tree_method=\"hist\",\n",
    "        objective=objective,\n",
    "        n_estimators=int(n_estimators),\n",
    "        random_state=None,\n",
    "        learning_rate=learning_rate,\n",
    "        reg_alpha=reg_alpha,\n",
    "        reg_lambda=reg_lambda,\n",
    "        max_depth=int(max_depth),\n",
    "        max_leaves=int(max_leaves),\n",
    "        grow_policy=grow_policy,\n",
    "        booster=booster,\n",
    "        verbosity=0, # 2 if self.verbose else 0,\n",
    "    )\n",
    "    XGB_model.fit(\n",
    "        train_recs,\n",
    "        train_labs,\n",
    "        group=groups,\n",
    "        verbose=False\n",
    "    )\n",
    "    _, _, ev_map, _, _ = evaluator(data_train, train_recs, XGB_model, training_dataframe, data_val)\n",
    "    \n",
    "    return ev_map\n",
    "\n",
    "study.optimize(objective, n_trials=1000)"
   ]
  },
  {
   "cell_type": "code",
   "execution_count": 1,
   "metadata": {},
   "outputs": [
    {
     "ename": "NameError",
     "evalue": "name 'study' is not defined",
     "output_type": "error",
     "traceback": [
      "\u001b[1;31m---------------------------------------------------------------------------\u001b[0m",
      "\u001b[1;31mNameError\u001b[0m                                 Traceback (most recent call last)",
      "Cell \u001b[1;32mIn[1], line 1\u001b[0m\n\u001b[1;32m----> 1\u001b[0m \u001b[43mstudy\u001b[49m\u001b[38;5;241m.\u001b[39mbest_params\n",
      "\u001b[1;31mNameError\u001b[0m: name 'study' is not defined"
     ]
    }
   ],
   "source": [
    "study.best_params"
   ]
  },
  {
   "cell_type": "code",
   "execution_count": null,
   "metadata": {},
   "outputs": [],
   "source": [
    "data_train_val = data_train + data_val"
   ]
  },
  {
   "cell_type": "code",
   "execution_count": null,
   "metadata": {},
   "outputs": [],
   "source": [
    "candidate_recommender_study = optuna.create_study(\n",
    "    study_name=\"P3Beta\",\n",
    "    storage=get_database_url(),\n",
    "    load_if_exists=True,\n",
    "    direction=\"maximize\",\n",
    ")\n",
    "candidate_recommender = RP3betaRecommender(data_train_val, verbose=False)\n",
    "candidate_recommender.fit(**candidate_recommender_study.best_params)"
   ]
  },
  {
   "cell_type": "code",
   "execution_count": null,
   "metadata": {},
   "outputs": [],
   "source": [
    "n_users, n_items = data_train.shape\n",
    "\n",
    "training_dataframe = pd.DataFrame(index=range(0,n_users), columns = [\"ItemID\"])\n",
    "training_dataframe.index.name='UserID'"
   ]
  },
  {
   "cell_type": "code",
   "execution_count": null,
   "metadata": {},
   "outputs": [],
   "source": [
    "cutoff = 30\n",
    "\n",
    "for user_id in range(n_users):    \n",
    "    recommendations = candidate_recommender.recommend(user_id, cutoff = cutoff)\n",
    "    training_dataframe.loc[user_id, \"ItemID\"] = recommendations\n",
    "training_dataframe = training_dataframe.explode(\"ItemID\")"
   ]
  },
  {
   "cell_type": "code",
   "execution_count": null,
   "metadata": {},
   "outputs": [],
   "source": [
    "topPop = TopPop(data_train_val)\n",
    "topPop.fit()\n",
    "\n",
    "p3alpha_study = optuna.create_study(\n",
    "    study_name=\"P3Alpha\",\n",
    "    storage=get_database_url(),\n",
    "    load_if_exists=True,\n",
    "    direction=\"maximize\",\n",
    ")\n",
    "p3alpha = P3alphaRecommender(data_train_val)\n",
    "p3alpha.fit(**p3alpha_study.best_params)\n",
    "\n",
    "easer_study = optuna.create_study(\n",
    "    study_name=\"Easer\",\n",
    "    storage=get_database_url(),\n",
    "    load_if_exists=True,\n",
    "    direction=\"maximize\",\n",
    ")\n",
    "easer = EASE_R_Recommender(data_train_val)\n",
    "easer.fit(**easer_study.best_params)\n",
    "\n",
    "itemknncf_study = optuna.create_study(\n",
    "    study_name=\"ItemKNNCF\",\n",
    "    storage=get_database_url(),\n",
    "    load_if_exists=True,\n",
    "    direction=\"maximize\",\n",
    ")\n",
    "itemknncf = ItemKNNCFRecommender(data_train_val)\n",
    "itemknncf.fit(**itemknncf_study.best_params)\n",
    "\n",
    "\n",
    "other_algorithms = {\n",
    "    \"TopPop\": topPop,\n",
    "    \"P3alpha\": p3alpha,\n",
    "    \"Easer\": easer,\n",
    "    \"ItemKNNCF\": itemknncf\n",
    "}"
   ]
  },
  {
   "cell_type": "code",
   "execution_count": null,
   "metadata": {},
   "outputs": [],
   "source": [
    "training_dataframe = training_dataframe.set_index('UserID')\n",
    "\n",
    "for user_id in range(n_users):  \n",
    "    for rec_label, rec_instance in other_algorithms.items():\n",
    "        item_list = training_dataframe.loc[user_id, \"ItemID\"].values.tolist()\n",
    "        all_item_scores = rec_instance._compute_item_score([user_id], items_to_compute = item_list)\n",
    "        training_dataframe.loc[user_id, rec_label] = all_item_scores[0, item_list] \n",
    "\n",
    "training_dataframe = training_dataframe.reset_index()\n",
    "training_dataframe = training_dataframe.rename(columns = {\"index\": \"UserID\"})\n",
    "\n",
    "item_popularity = np.ediff1d(sps.csc_matrix(data_train_val).indptr)\n",
    "training_dataframe['item_popularity'] = item_popularity[training_dataframe[\"ItemID\"].values.astype(int)]\n",
    "user_popularity = np.ediff1d(sps.csr_matrix(data_train_val).indptr)\n",
    "training_dataframe['user_profile_len'] = user_popularity[training_dataframe[\"UserID\"].values.astype(int)]"
   ]
  },
  {
   "cell_type": "code",
   "execution_count": null,
   "metadata": {},
   "outputs": [],
   "source": [
    "training_dataframe = training_dataframe.drop(\"ItemID\", axis=1)\n",
    "training_dataframe = training_dataframe.reset_index()\n",
    "training_dataframe = training_dataframe.rename(columns = {\"index\": \"ItemID\"})"
   ]
  },
  {
   "cell_type": "code",
   "execution_count": null,
   "metadata": {},
   "outputs": [],
   "source": [
    "training_dataframe[\"UserID\"] = training_dataframe[\"UserID\"].astype(\"category\")\n",
    "training_dataframe[\"ItemID\"] = training_dataframe[\"ItemID\"].astype(\"category\")"
   ]
  },
  {
   "cell_type": "code",
   "execution_count": null,
   "metadata": {},
   "outputs": [],
   "source": [
    "groups = training_dataframe.groupby(\"UserID\").size().values\n",
    "train_recs = training_dataframe.drop(columns=[\"Label\"])\n",
    "train_labs = training_dataframe[\"Label\"]"
   ]
  },
  {
   "cell_type": "code",
   "execution_count": null,
   "metadata": {},
   "outputs": [],
   "source": [
    "study = optuna.create_study(\n",
    "    study_name=\"XGBoost(P3Beta, TopPop, P3alpha, Easer, ItemKNNCF)\",\n",
    "    storage=get_database_url(),\n",
    "    load_if_exists=True,\n",
    "    direction=\"maximize\",\n",
    ")"
   ]
  },
  {
   "cell_type": "code",
   "execution_count": null,
   "metadata": {},
   "outputs": [],
   "source": [
    "from xgboost import XGBRanker\n",
    "\n",
    "XGB_model = XGBRanker(\n",
    "    **study.best_params,\n",
    "    verbosity=0, # 2 if self.verbose else 0,\n",
    ")\n",
    "XGB_model.fit(\n",
    "    train_recs,\n",
    "    train_labs,\n",
    "    group=groups,\n",
    ")\n",
    "XGB_scores = XGB_model.predict(train_recs)\n",
    "training_dataframe_copy = training_dataframe.copy()\n",
    "training_dataframe_copy[\"XGB\"] = XGB_scores"
   ]
  },
  {
   "cell_type": "code",
   "execution_count": null,
   "metadata": {},
   "outputs": [],
   "source": [
    "def submission2(training_dataframe, users, usermap, itemmap, data_train_val):\n",
    "    \n",
    "    toppoprecommender = TopPop(data_train_val)\n",
    "    toppoprecommender.fit()\n",
    "    \n",
    "    with open('data/results.csv', 'w', newline='') as f:\n",
    "        writer = csv.writer(f)\n",
    "        writer.writerow(['user_id', 'item_list'])\n",
    "        for user_id in users:\n",
    "            try:\n",
    "                user_recommendations = training_dataframe[training_dataframe[\"UserID\"] == user_id]\n",
    "                user_recommendations = user_recommendations.sort_values(by=\"XGB\", ascending=False)\n",
    "                item_list = np.array(user_recommendations[\"ItemID\"].values.tolist()[:10])\n",
    "                item_list = [itemmap[i] for i in item_list]\n",
    "                writer.writerow([usermap[user_id], ' '.join(map(str, item_list))])\n",
    "            except IndexError:\n",
    "                item_list = toppoprecommender.recommend(user_id, cutoff=10)\n",
    "                item_list = [itemmap[i] for i in item_list]\n",
    "                writer.writerow([usermap[user_id], ' '.join(map(str, item_list))])\n",
    "            except KeyError:\n",
    "                item_list = toppoprecommender.recommend(user_id, cutoff=10)\n",
    "                item_list = [itemmap[i] for i in item_list]\n",
    "                print(item_list)\n",
    "                writer.writerow([usermap[user_id], ' '.join(map(str, item_list))])\n",
    "                "
   ]
  },
  {
   "cell_type": "code",
   "execution_count": null,
   "metadata": {},
   "outputs": [],
   "source": [
    "submission2(training_dataframe_copy, users, usermap, itemmap, data_train_val)"
   ]
  },
  {
   "cell_type": "code",
   "execution_count": null,
   "metadata": {},
   "outputs": [],
   "source": []
  }
 ],
 "metadata": {
  "kernelspec": {
   "display_name": "RecSysFramework",
   "language": "python",
   "name": "python3"
  },
  "language_info": {
   "codemirror_mode": {
    "name": "ipython",
    "version": 3
   },
   "file_extension": ".py",
   "mimetype": "text/x-python",
   "name": "python",
   "nbconvert_exporter": "python",
   "pygments_lexer": "ipython3",
   "version": "3.8.18"
  }
 },
 "nbformat": 4,
 "nbformat_minor": 2
}
