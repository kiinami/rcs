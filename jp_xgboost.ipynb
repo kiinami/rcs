{
 "cells": [
  {
   "cell_type": "code",
   "execution_count": null,
   "metadata": {},
   "outputs": [],
   "source": [
    "import os\n",
    "from utils import *\n",
    "import optuna\n",
    "from Recommenders.Recommender_import_list import *"
   ]
  },
  {
   "cell_type": "code",
   "execution_count": null,
   "metadata": {},
   "outputs": [],
   "source": [
    "data, usermap, itemmap, users = load_data2()\n",
    "data_train, data_val = split_data2(data, 0.2)\n",
    "data_train_val = data_train + data_val"
   ]
  },
  {
   "cell_type": "code",
   "execution_count": null,
   "metadata": {},
   "outputs": [],
   "source": [
    "candidate_recommender_study = optuna.create_study(\n",
    "    study_name=\"P3Beta\",\n",
    "    storage=get_database_url(),\n",
    "    load_if_exists=True,\n",
    "    direction=\"maximize\",\n",
    ")\n",
    "candidate_recommender = RP3betaRecommender(data_train_val, verbose=False)\n",
    "candidate_recommender.fit(**candidate_recommender_study.best_params)"
   ]
  },
  {
   "cell_type": "code",
   "execution_count": null,
   "metadata": {},
   "outputs": [],
   "source": [
    "n_users, n_items = data_train_val.shape\n",
    "\n",
    "training_dataframe = pd.DataFrame(index=range(0,n_users), columns = [\"ItemID\"])\n",
    "training_dataframe.index.name='UserID'"
   ]
  },
  {
   "cell_type": "code",
   "execution_count": null,
   "metadata": {},
   "outputs": [],
   "source": [
    "cutoff = 50\n",
    "\n",
    "for user_id in range(n_users):    \n",
    "    recommendations = candidate_recommender.recommend(user_id, cutoff = cutoff, remove_seen_flag=True)\n",
    "    training_dataframe.loc[user_id, \"ItemID\"] = recommendations\n",
    "training_dataframe = training_dataframe.explode(\"ItemID\")"
   ]
  },
  {
   "cell_type": "code",
   "execution_count": null,
   "metadata": {},
   "outputs": [],
   "source": [
    "for user_id in range(n_users):\n",
    "    training_dataframe.loc[user_id, \"Label\"] = list(reversed(list(range(1, cutoff+1))))"
   ]
  },
  {
   "cell_type": "code",
   "execution_count": null,
   "metadata": {},
   "outputs": [],
   "source": [
    "topPop = TopPop(data_train_val)\n",
    "topPop.fit()\n",
    "\n",
    "p3alpha_study = optuna.create_study(\n",
    "    study_name=\"P3Alpha\",\n",
    "    storage=get_database_url(),\n",
    "    load_if_exists=True,\n",
    "    direction=\"maximize\",\n",
    ")\n",
    "p3alpha = P3alphaRecommender(data_train_val)\n",
    "p3alpha.fit(**p3alpha_study.best_params)\n",
    "\n",
    "easer_study = optuna.create_study(\n",
    "    study_name=\"Easer\",\n",
    "    storage=get_database_url(),\n",
    "    load_if_exists=True,\n",
    "    direction=\"maximize\",\n",
    ")\n",
    "easer = EASE_R_Recommender(data_train_val)\n",
    "easer.fit(**easer_study.best_params)\n",
    "\n",
    "itemknncf_study = optuna.create_study(\n",
    "    study_name=\"ItemKNNCF\",\n",
    "    storage=get_database_url(),\n",
    "    load_if_exists=True,\n",
    "    direction=\"maximize\",\n",
    ")\n",
    "itemknncf = ItemKNNCFRecommender(data_train_val)\n",
    "itemknncf.fit(**itemknncf_study.best_params)\n",
    "\n",
    "\n",
    "other_algorithms = {\n",
    "    \"TopPop\": topPop,\n",
    "    \"P3alpha\": p3alpha,\n",
    "    \"Easer\": easer,\n",
    "    \"ItemKNNCF\": itemknncf\n",
    "}"
   ]
  },
  {
   "cell_type": "code",
   "execution_count": null,
   "metadata": {},
   "outputs": [],
   "source": [
    "import scipy.sparse as sps\n",
    "\n",
    "for user_id in range(n_users):  \n",
    "    for rec_label, rec_instance in other_algorithms.items():\n",
    "        item_list = training_dataframe.loc[user_id, \"ItemID\"].values.tolist()\n",
    "        all_item_scores = rec_instance._compute_item_score([user_id], items_to_compute = item_list)\n",
    "        training_dataframe.loc[user_id, rec_label] = all_item_scores[0, item_list] \n",
    "\n",
    "training_dataframe = training_dataframe.reset_index()\n",
    "training_dataframe = training_dataframe.rename(columns = {\"index\": \"UserID\"})\n",
    "\n",
    "item_popularity = np.ediff1d(sps.csc_matrix(data_train_val).indptr)\n",
    "training_dataframe['item_popularity'] = item_popularity[training_dataframe[\"ItemID\"].values.astype(int)]\n",
    "user_popularity = np.ediff1d(sps.csr_matrix(data_train_val).indptr)\n",
    "training_dataframe['user_profile_len'] = user_popularity[training_dataframe[\"UserID\"].values.astype(int)]"
   ]
  },
  {
   "cell_type": "code",
   "execution_count": null,
   "metadata": {},
   "outputs": [],
   "source": [
    "training_dataframe = training_dataframe.set_index('ItemID')\n",
    "training_dataframe = training_dataframe.reset_index()\n",
    "training_dataframe = training_dataframe.rename(columns = {\"index\": \"ItemID\"})"
   ]
  },
  {
   "cell_type": "code",
   "execution_count": null,
   "metadata": {},
   "outputs": [],
   "source": [
    "groups = training_dataframe.groupby(\"UserID\").size().values\n",
    "train_recs = training_dataframe.drop(columns=[\"Label\"])\n",
    "train_labs = training_dataframe[\"Label\"]"
   ]
  },
  {
   "cell_type": "code",
   "execution_count": null,
   "metadata": {},
   "outputs": [],
   "source": [
    "study = optuna.create_study(\n",
    "    study_name=\"XGBoost(P3Beta, TopPop, P3alpha, Easer, ItemKNNCF)\",\n",
    "    storage=get_database_url(),\n",
    "    load_if_exists=True,\n",
    "    direction=\"maximize\",\n",
    ")"
   ]
  },
  {
   "cell_type": "code",
   "execution_count": null,
   "metadata": {},
   "outputs": [],
   "source": [
    "def evaluator(data_train, train_recs, XGB_model, training_dataframe, data_test: sp.csr_matrix, recommendation_length: int = 10):\n",
    "    accum_precision = 0\n",
    "    accum_recall = 0\n",
    "    accum_map = 0\n",
    "\n",
    "    num_users = data_train.shape[0]\n",
    "\n",
    "    num_users_evaluated = 0\n",
    "    num_users_skipped = 0\n",
    "    for user_id in range(num_users):\n",
    "        user_profile_start = data_test.indptr[user_id]\n",
    "        user_profile_end = data_test.indptr[user_id+1]\n",
    "\n",
    "        relevant_items = data_test.indices[user_profile_start:user_profile_end]\n",
    "\n",
    "        if relevant_items.size == 0:\n",
    "            num_users_skipped += 1\n",
    "            continue\n",
    "        \n",
    "        predict = train_recs[train_recs[\"UserID\"] == user_id]\n",
    "        predictions = XGB_model.predict(predict)\n",
    "        user_ids = predict[\"UserID\"].values\n",
    "        item_ids = predict[\"ItemID\"].values\n",
    "        predictions = pd.DataFrame({\"UserID\": user_ids, \"ItemID\": item_ids, \"Predictions\": predictions})\n",
    "        predictions = predictions.sort_values(by=\"Predictions\", ascending=False)\n",
    "        recommendations = np.array(predictions[\"ItemID\"].values[:recommendation_length])\n",
    "\n",
    "        accum_precision += precision(recommendations, relevant_items)\n",
    "        accum_recall += recall(recommendations, relevant_items)\n",
    "        accum_map += mean_average_precision(recommendations, relevant_items)\n",
    "\n",
    "        num_users_evaluated += 1\n",
    "\n",
    "\n",
    "    accum_precision /= max(num_users_evaluated, 1)\n",
    "    accum_recall /= max(num_users_evaluated, 1)\n",
    "    accum_map /=  max(num_users_evaluated, 1)\n",
    "\n",
    "    return accum_precision, accum_recall, accum_map, num_users_evaluated, num_users_skipped\n"
   ]
  },
  {
   "cell_type": "code",
   "execution_count": null,
   "metadata": {},
   "outputs": [],
   "source": [
    "from xgboost import XGBRanker\n",
    "\n",
    "def objective(trial):\n",
    "    objective = trial.suggest_categorical(\"objective\", [\"rank:ndcg\", \"rank:map\", \"rank:pairwise\"])\n",
    "    n_estimators = trial.suggest_int(\"n_estimators\", 5, 500)\n",
    "    learning_rate = trial.suggest_float(\"learning_rate\", 1e-4, 1e-1, log=True)\n",
    "    reg_alpha = trial.suggest_float(\"reg_alpha\", 1e-4, 1e-1, log=True)\n",
    "    reg_lambda = trial.suggest_float(\"reg_lambda\", 1e-4, 1e-1, log=True)\n",
    "    max_depth = trial.suggest_int(\"max_depth\", 1, 10)\n",
    "    max_leaves = trial.suggest_int(\"max_leaves\", 1, 10)\n",
    "    grow_policy = trial.suggest_categorical(\"grow_policy\", [\"depthwise\", \"lossguide\"])\n",
    "    booster = trial.suggest_categorical(\"booster\", [\"gbtree\", \"gblinear\", \"dart\"])\n",
    "\n",
    "    XGB_model = XGBRanker(\n",
    "        tree_method=\"hist\",\n",
    "        objective=objective,\n",
    "        n_estimators=int(n_estimators),\n",
    "        random_state=None,\n",
    "        learning_rate=learning_rate,\n",
    "        reg_alpha=reg_alpha,\n",
    "        reg_lambda=reg_lambda,\n",
    "        max_depth=int(max_depth),\n",
    "        max_leaves=int(max_leaves),\n",
    "        grow_policy=grow_policy,\n",
    "        booster=booster,\n",
    "        verbosity=0, # 2 if self.verbose else 0,\n",
    "    )\n",
    "    XGB_model.fit(\n",
    "        train_recs,\n",
    "        train_labs,\n",
    "        group=groups,\n",
    "        verbose=False\n",
    "    )\n",
    "    _, _, ev_map, _, _ = evaluator(data_train, train_recs, XGB_model, training_dataframe, data_val)\n",
    "    \n",
    "    return ev_map\n",
    "\n",
    "study.optimize(objective, n_trials=1000)"
   ]
  },
  {
   "cell_type": "code",
   "execution_count": null,
   "metadata": {},
   "outputs": [],
   "source": [
    "from xgboost import XGBRanker\n",
    "\n",
    "XGB_model = XGBRanker(\n",
    "    **study.best_params,\n",
    "    ndcg_exp_gain=False,\n",
    "    verbosity=0, # 2 if self.verbose else 0,\n",
    "    enable_categorical=True,\n",
    ")\n",
    "XGB_model.fit(\n",
    "    train_recs,\n",
    "    train_labs,\n",
    "    group=groups,\n",
    "    verbose=False\n",
    ")"
   ]
  },
  {
   "cell_type": "code",
   "execution_count": null,
   "metadata": {},
   "outputs": [],
   "source": [
    "def submission2(train_recs, XGB_model, users, usermap, itemmap, data_train_val):\n",
    "    \n",
    "    toppoprecommender = TopPop(data_train_val)\n",
    "    toppoprecommender.fit()\n",
    "    \n",
    "    with open('data/results.csv', 'w', newline='') as f:\n",
    "        writer = csv.writer(f)\n",
    "        writer.writerow(['user_id', 'item_list'])\n",
    "        for user_id in users:\n",
    "            predict = train_recs[train_recs[\"UserID\"] == user_id]\n",
    "            user_ids = predict[\"UserID\"].values\n",
    "            item_ids = predict[\"ItemID\"].values\n",
    "            predictions = XGB_model.predict(predict)\n",
    "            if not list(predictions):\n",
    "                predictions = toppoprecommender.recommend(0, cutoff = 10)\n",
    "                item_list = [itemmap[i] for i in predictions]\n",
    "                writer.writerow([usermap[user_id], ' '.join(map(str, item_list))])\n",
    "                continue\n",
    "            predictions = pd.DataFrame({\"UserID\": user_ids, \"ItemID\": item_ids, \"Predictions\": predictions.ravel()})\n",
    "            predictions = predictions.sort_values(by=\"Predictions\", ascending=False)\n",
    "            recommendations = np.array(predictions[\"ItemID\"].values[:10])\n",
    "            item_list = [itemmap[i] for i in recommendations]\n",
    "            writer.writerow([usermap[user_id], ' '.join(map(str, item_list))])\n",
    "                "
   ]
  },
  {
   "cell_type": "code",
   "execution_count": null,
   "metadata": {},
   "outputs": [],
   "source": [
    "submission2(train_recs, XGB_model, users, usermap, itemmap, data_train_val)"
   ]
  },
  {
   "cell_type": "code",
   "execution_count": null,
   "metadata": {},
   "outputs": [],
   "source": []
  }
 ],
 "metadata": {
  "kernelspec": {
   "display_name": "RecSysFramework",
   "language": "python",
   "name": "python3"
  },
  "language_info": {
   "codemirror_mode": {
    "name": "ipython",
    "version": 3
   },
   "file_extension": ".py",
   "mimetype": "text/x-python",
   "name": "python",
   "nbconvert_exporter": "python",
   "pygments_lexer": "ipython3",
   "version": "3.8.18"
  }
 },
 "nbformat": 4,
 "nbformat_minor": 2
}
