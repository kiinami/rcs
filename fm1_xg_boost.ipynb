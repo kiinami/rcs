{
 "cells": [
  {
   "cell_type": "code",
   "execution_count": 2,
   "metadata": {},
   "outputs": [],
   "source": [
    "import os\n",
    "from utils import *\n",
    "import optuna\n",
    "from Recommenders.Recommender_import_list import *\n",
    "\n",
    "from sklearn.model_selection import KFold\n",
    "from scipy import sparse as sps"
   ]
  },
  {
   "cell_type": "code",
   "execution_count": 10,
   "metadata": {},
   "outputs": [
    {
     "name": "stderr",
     "output_type": "stream",
     "text": [
      "[I 2024-01-01 18:34:54,928] A new study created in memory with name: P3Beta\n"
     ]
    },
    {
     "ename": "KeyboardInterrupt",
     "evalue": "",
     "output_type": "error",
     "traceback": [
      "\u001b[1;31m---------------------------------------------------------------------------\u001b[0m",
      "\u001b[1;31mKeyboardInterrupt\u001b[0m                         Traceback (most recent call last)",
      "Cell \u001b[1;32mIn[10], line 50\u001b[0m\n\u001b[0;32m     47\u001b[0m correct_recommendations \u001b[38;5;241m=\u001b[39m pd\u001b[38;5;241m.\u001b[39mDataFrame({\u001b[38;5;124m\"\u001b[39m\u001b[38;5;124mUserID\u001b[39m\u001b[38;5;124m\"\u001b[39m: val_fold_coo\u001b[38;5;241m.\u001b[39mrow, \u001b[38;5;124m\"\u001b[39m\u001b[38;5;124mItemID\u001b[39m\u001b[38;5;124m\"\u001b[39m: val_fold_coo\u001b[38;5;241m.\u001b[39mcol})\n\u001b[0;32m     49\u001b[0m \u001b[38;5;66;03m# Calcola le etichette sulla base della corrispondenza tra le previsioni e val_fold\u001b[39;00m\n\u001b[1;32m---> 50\u001b[0m labels \u001b[38;5;241m=\u001b[39m [(item,) \u001b[38;5;129;01min\u001b[39;00m correct_recommendations\u001b[38;5;241m.\u001b[39mitertuples(index\u001b[38;5;241m=\u001b[39m\u001b[38;5;28;01mFalse\u001b[39;00m, name\u001b[38;5;241m=\u001b[39m\u001b[38;5;28;01mNone\u001b[39;00m) \u001b[38;5;28;01mfor\u001b[39;00m item \u001b[38;5;129;01min\u001b[39;00m predictions_flat]\n\u001b[0;32m     52\u001b[0m \u001b[38;5;66;03m# Aggiungi le etichette al dataframe\u001b[39;00m\n\u001b[0;32m     53\u001b[0m training_dataframe\u001b[38;5;241m.\u001b[39mloc[val_index, \u001b[38;5;124mf\u001b[39m\u001b[38;5;124m\"\u001b[39m\u001b[38;5;124mLabel_fold_\u001b[39m\u001b[38;5;132;01m{\u001b[39;00mfold\u001b[38;5;132;01m}\u001b[39;00m\u001b[38;5;124m\"\u001b[39m] \u001b[38;5;241m=\u001b[39m labels\n",
      "Cell \u001b[1;32mIn[10], line 50\u001b[0m, in \u001b[0;36m<listcomp>\u001b[1;34m(.0)\u001b[0m\n\u001b[0;32m     47\u001b[0m correct_recommendations \u001b[38;5;241m=\u001b[39m pd\u001b[38;5;241m.\u001b[39mDataFrame({\u001b[38;5;124m\"\u001b[39m\u001b[38;5;124mUserID\u001b[39m\u001b[38;5;124m\"\u001b[39m: val_fold_coo\u001b[38;5;241m.\u001b[39mrow, \u001b[38;5;124m\"\u001b[39m\u001b[38;5;124mItemID\u001b[39m\u001b[38;5;124m\"\u001b[39m: val_fold_coo\u001b[38;5;241m.\u001b[39mcol})\n\u001b[0;32m     49\u001b[0m \u001b[38;5;66;03m# Calcola le etichette sulla base della corrispondenza tra le previsioni e val_fold\u001b[39;00m\n\u001b[1;32m---> 50\u001b[0m labels \u001b[38;5;241m=\u001b[39m [(item,) \u001b[38;5;129;01min\u001b[39;00m correct_recommendations\u001b[38;5;241m.\u001b[39mitertuples(index\u001b[38;5;241m=\u001b[39m\u001b[38;5;28;01mFalse\u001b[39;00m, name\u001b[38;5;241m=\u001b[39m\u001b[38;5;28;01mNone\u001b[39;00m) \u001b[38;5;28;01mfor\u001b[39;00m item \u001b[38;5;129;01min\u001b[39;00m predictions_flat]\n\u001b[0;32m     52\u001b[0m \u001b[38;5;66;03m# Aggiungi le etichette al dataframe\u001b[39;00m\n\u001b[0;32m     53\u001b[0m training_dataframe\u001b[38;5;241m.\u001b[39mloc[val_index, \u001b[38;5;124mf\u001b[39m\u001b[38;5;124m\"\u001b[39m\u001b[38;5;124mLabel_fold_\u001b[39m\u001b[38;5;132;01m{\u001b[39;00mfold\u001b[38;5;132;01m}\u001b[39;00m\u001b[38;5;124m\"\u001b[39m] \u001b[38;5;241m=\u001b[39m labels\n",
      "\u001b[1;31mKeyboardInterrupt\u001b[0m: "
     ]
    }
   ],
   "source": [
    "from itertools import chain\n",
    "\n",
    "data, usermap, itemmap, users = load_data2()\n",
    "data_train, data_val = split_data2(data, 0.2)\n",
    "data_train_val = data_train + data_val\n",
    "\n",
    "k = 5\n",
    "kf = KFold(n_splits=k, shuffle=True, random_state=42)\n",
    "folds = list(kf.split(data_train_val))\n",
    "\n",
    "candidate_recommender_study = optuna.create_study(\n",
    "    study_name=\"P3Beta\",\n",
    "    #storage=get_database_url(),\n",
    "    load_if_exists=True,\n",
    "    direction=\"maximize\",\n",
    ")\n",
    "candidate_recommender = RP3betaRecommender(data_train_val, verbose=False)\n",
    "candidate_recommender.fit()\n",
    "\n",
    "n_users, n_items = data_train_val.shape\n",
    "\n",
    "training_dataframe = pd.DataFrame(index=range(0,n_users), columns = [\"ItemID\"])\n",
    "training_dataframe.index.name='UserID'\n",
    "\n",
    "cutoff = 50\n",
    "\n",
    "for user_id in range(n_users):    \n",
    "    recommendations = candidate_recommender.recommend(user_id, cutoff = cutoff, remove_seen_flag=True)\n",
    "    training_dataframe.loc[user_id, \"ItemID\"] = recommendations\n",
    "training_dataframe = training_dataframe.explode(\"ItemID\")\n",
    "\n",
    "for fold, (train_index, val_index) in enumerate(folds):\n",
    "    # Dividi il dataset in training e validation\n",
    "    train_fold, val_fold = data_val[train_index], data_val[val_index]\n",
    "\n",
    "    # Valuta il modello su val_fold\n",
    "    predictions = []\n",
    "\n",
    "    for user_id in range(val_fold.shape[0]):\n",
    "        recommendations = candidate_recommender.recommend(user_id, cutoff=cutoff, remove_seen_flag=True)\n",
    "        predictions.append(recommendations)\n",
    "\n",
    "\n",
    "    # Flatten predictions e val_fold per calcolare le etichette\n",
    "    predictions_flat = list(chain.from_iterable(predictions))\n",
    "    val_fold_coo = sps.coo_matrix(val_fold)\n",
    "    correct_recommendations = pd.DataFrame({\"UserID\": val_fold_coo.row, \"ItemID\": val_fold_coo.col})\n",
    "    \n",
    "    # Calcola le etichette sulla base della corrispondenza tra le previsioni e val_fold\n",
    "    labels = [(item,) in correct_recommendations.itertuples(index=False, name=None) for item in predictions_flat]\n",
    "\n",
    "    # Aggiungi le etichette al dataframe\n",
    "    training_dataframe.loc[val_index, f\"Label_fold_{fold}\"] = labels"
   ]
  }
 ],
 "metadata": {
  "kernelspec": {
   "display_name": "RecSysFramework",
   "language": "python",
   "name": "python3"
  },
  "language_info": {
   "codemirror_mode": {
    "name": "ipython",
    "version": 3
   },
   "file_extension": ".py",
   "mimetype": "text/x-python",
   "name": "python",
   "nbconvert_exporter": "python",
   "pygments_lexer": "ipython3",
   "version": "3.8.18"
  }
 },
 "nbformat": 4,
 "nbformat_minor": 2
}
