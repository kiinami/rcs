{
 "cells": [
  {
   "cell_type": "code",
   "execution_count": 1,
   "metadata": {},
   "outputs": [],
   "source": [
    "import os\n",
    "from utils import *\n",
    "import optuna"
   ]
  },
  {
   "cell_type": "code",
   "execution_count": 2,
   "metadata": {},
   "outputs": [],
   "source": [
    "data, usermap, itemmap, users = load_data2()\n",
    "data_train, data_val = split_data2(data, 0.2)"
   ]
  },
  {
   "cell_type": "code",
   "execution_count": 3,
   "metadata": {},
   "outputs": [
    {
     "name": "stderr",
     "output_type": "stream",
     "text": [
      "[I 2023-12-23 11:14:30,545] A new study created in memory with name: PureSVDRecommender\n"
     ]
    }
   ],
   "source": [
    "study_name = \"PureSVDRecommender\"\n",
    "study = optuna.create_study(\n",
    "    study_name=study_name,\n",
    "    #storage=get_database_url(),\n",
    "    load_if_exists=True,\n",
    "    direction=\"maximize\",\n",
    ")"
   ]
  },
  {
   "cell_type": "code",
   "execution_count": 7,
   "metadata": {},
   "outputs": [
    {
     "name": "stderr",
     "output_type": "stream",
     "text": [
      "[I 2023-12-23 11:22:08,634] Trial 3 finished with value: 0.01589102916093298 and parameters: {'num_factors': 112, 'scaling_items': 1.365987578802472, 'scaling_users': 1.7294616981825706}. Best is trial 3 with value: 0.01589102916093298.\n",
      "[I 2023-12-23 11:23:51,236] Trial 4 finished with value: 0.025542204580828284 and parameters: {'num_factors': 34, 'scaling_items': 0.756915698694473, 'scaling_users': 1.4638346002858131}. Best is trial 4 with value: 0.025542204580828284.\n",
      "[I 2023-12-23 11:43:10,421] Trial 5 finished with value: 0.01628149815474641 and parameters: {'num_factors': 411, 'scaling_items': 1.6347223955814079, 'scaling_users': 0.34243042169263793}. Best is trial 4 with value: 0.025542204580828284.\n",
      "[I 2023-12-23 11:48:42,764] Trial 6 finished with value: 0.02251025741808728 and parameters: {'num_factors': 126, 'scaling_items': 0.8530111499058457, 'scaling_users': 1.8578857241935234}. Best is trial 4 with value: 0.025542204580828284.\n",
      "[I 2023-12-23 11:54:48,563] Trial 7 finished with value: 0.018274902442621782 and parameters: {'num_factors': 142, 'scaling_items': 1.7400310581998777, 'scaling_users': 0.5133888810904497}. Best is trial 4 with value: 0.025542204580828284.\n",
      "[I 2023-12-23 12:09:39,215] Trial 8 finished with value: 0.01499553053974084 and parameters: {'num_factors': 329, 'scaling_items': 1.2940264382930509, 'scaling_users': 1.0341997400859002}. Best is trial 4 with value: 0.025542204580828284.\n",
      "[I 2023-12-23 12:13:03,813] Trial 9 finished with value: 0.016564734654654828 and parameters: {'num_factors': 73, 'scaling_items': 1.697230851706312, 'scaling_users': 1.9761459851005139}. Best is trial 4 with value: 0.025542204580828284.\n",
      "[I 2023-12-23 12:17:20,787] Trial 10 finished with value: 0.019286156325885217 and parameters: {'num_factors': 105, 'scaling_items': 1.28378001406674, 'scaling_users': 1.0690730118181988}. Best is trial 4 with value: 0.025542204580828284.\n",
      "[I 2023-12-23 12:27:29,392] Trial 11 finished with value: 0.014650490924826514 and parameters: {'num_factors': 241, 'scaling_items': 1.3580758127358297, 'scaling_users': 1.1498004961360462}. Best is trial 4 with value: 0.025542204580828284.\n",
      "[I 2023-12-23 12:28:58,319] Trial 12 finished with value: 0.03305287840788158 and parameters: {'num_factors': 32, 'scaling_items': 0.5150959718274435, 'scaling_users': 0.903918173139328}. Best is trial 12 with value: 0.03305287840788158.\n",
      "[I 2023-12-23 12:46:39,094] Trial 13 finished with value: 0.04248825539840884 and parameters: {'num_factors': 246, 'scaling_items': 0.1352413924633981, 'scaling_users': 0.05328701709260386}. Best is trial 13 with value: 0.04248825539840884.\n",
      "[I 2023-12-23 12:56:55,379] Trial 14 finished with value: 0.04213523478775606 and parameters: {'num_factors': 235, 'scaling_items': 0.13056863457504309, 'scaling_users': 0.02565450605517642}. Best is trial 13 with value: 0.04248825539840884.\n",
      "[I 2023-12-23 13:07:21,407] Trial 15 finished with value: 0.050517546833193115 and parameters: {'num_factors': 239, 'scaling_items': 0.017095739496275547, 'scaling_users': 0.015788658763464962}. Best is trial 15 with value: 0.050517546833193115.\n",
      "[I 2023-12-23 13:23:46,972] Trial 16 finished with value: 0.05084750213671864 and parameters: {'num_factors': 326, 'scaling_items': 0.017605920055439584, 'scaling_users': 0.051676576681823204}. Best is trial 16 with value: 0.05084750213671864.\n",
      "[I 2023-12-23 13:47:40,411] Trial 17 finished with value: 0.03327028007063857 and parameters: {'num_factors': 483, 'scaling_items': 0.35656163731339174, 'scaling_users': 0.4455425045018753}. Best is trial 16 with value: 0.05084750213671864.\n",
      "[I 2023-12-23 14:02:54,301] Trial 18 finished with value: 0.05576721400188091 and parameters: {'num_factors': 331, 'scaling_items': 0.0013001962514631593, 'scaling_users': 0.23461905553827905}. Best is trial 18 with value: 0.05576721400188091.\n",
      "[I 2023-12-23 14:19:05,808] Trial 19 finished with value: 0.033727270253349685 and parameters: {'num_factors': 340, 'scaling_items': 0.4075890856566967, 'scaling_users': 0.7079661796411869}. Best is trial 18 with value: 0.05576721400188091.\n",
      "[I 2023-12-23 14:34:20,447] Trial 20 finished with value: 0.026756121142361745 and parameters: {'num_factors': 336, 'scaling_items': 0.6161886430925392, 'scaling_users': 0.2848824962524097}. Best is trial 18 with value: 0.05576721400188091.\n",
      "[I 2023-12-23 14:53:30,769] Trial 21 finished with value: 0.03766663731003078 and parameters: {'num_factors': 404, 'scaling_items': 0.3019168987489882, 'scaling_users': 0.6864451919809397}. Best is trial 18 with value: 0.05576721400188091.\n",
      "[I 2023-12-23 15:01:17,458] Trial 22 finished with value: 0.021859706095393963 and parameters: {'num_factors': 183, 'scaling_items': 0.9877475284510409, 'scaling_users': 0.1980528266885418}. Best is trial 18 with value: 0.05576721400188091.\n",
      "[I 2023-12-23 15:14:17,245] Trial 23 finished with value: 0.042648274936572285 and parameters: {'num_factors': 293, 'scaling_items': 0.22196699223394686, 'scaling_users': 1.3707401724373178}. Best is trial 18 with value: 0.05576721400188091.\n",
      "[I 2023-12-23 15:32:55,898] Trial 24 finished with value: 0.05121312066582078 and parameters: {'num_factors': 408, 'scaling_items': 0.0018965613744217347, 'scaling_users': 0.008838299509597677}. Best is trial 18 with value: 0.05576721400188091.\n",
      "[I 2023-12-23 15:51:44,315] Trial 25 finished with value: 0.05202873252658257 and parameters: {'num_factors': 423, 'scaling_items': 0.03580075814482438, 'scaling_users': 0.2012888045945162}. Best is trial 18 with value: 0.05576721400188091.\n",
      "[I 2023-12-23 16:10:53,255] Trial 26 finished with value: 0.02745314185500798 and parameters: {'num_factors': 420, 'scaling_items': 0.5571559418673865, 'scaling_users': 0.5510332996078673}. Best is trial 18 with value: 0.05576721400188091.\n",
      "[I 2023-12-23 16:32:37,219] Trial 27 finished with value: 0.05474846229675673 and parameters: {'num_factors': 493, 'scaling_items': 0.003207238817674929, 'scaling_users': 0.23758291592420178}. Best is trial 18 with value: 0.05576721400188091.\n",
      "[I 2023-12-23 16:54:58,982] Trial 28 finished with value: 0.014392818382074717 and parameters: {'num_factors': 492, 'scaling_items': 1.9753581921945849, 'scaling_users': 0.23102564705255355}. Best is trial 18 with value: 0.05576721400188091.\n",
      "[I 2023-12-23 17:14:30,427] Trial 29 finished with value: 0.04233788883172135 and parameters: {'num_factors': 444, 'scaling_items': 0.22078924443426995, 'scaling_users': 0.7517682767170171}. Best is trial 18 with value: 0.05576721400188091.\n",
      "[I 2023-12-23 17:30:19,848] Trial 30 finished with value: 0.03061763785144398 and parameters: {'num_factors': 371, 'scaling_items': 0.443472890322596, 'scaling_users': 0.41633166865171645}. Best is trial 18 with value: 0.05576721400188091.\n",
      "[I 2023-12-23 17:50:54,166] Trial 31 finished with value: 0.024237899529202127 and parameters: {'num_factors': 464, 'scaling_items': 0.7014549365891045, 'scaling_users': 0.18866448616069037}. Best is trial 18 with value: 0.05576721400188091.\n",
      "[I 2023-12-23 18:07:26,878] Trial 32 finished with value: 0.049216310884406964 and parameters: {'num_factors': 372, 'scaling_items': 0.1339105878698284, 'scaling_users': 0.8518784086489688}. Best is trial 18 with value: 0.05576721400188091.\n",
      "[I 2023-12-23 18:28:30,445] Trial 33 finished with value: 0.03765149548692749 and parameters: {'num_factors': 460, 'scaling_items': 0.2880243569187277, 'scaling_users': 0.5562115667914493}. Best is trial 18 with value: 0.05576721400188091.\n",
      "[I 2023-12-23 18:46:11,644] Trial 34 finished with value: 0.05296362679306125 and parameters: {'num_factors': 382, 'scaling_items': 0.01217004847466731, 'scaling_users': 0.15502771618776434}. Best is trial 18 with value: 0.05576721400188091.\n",
      "[I 2023-12-23 18:58:19,918] Trial 35 finished with value: 0.04387633691943167 and parameters: {'num_factors': 289, 'scaling_items': 0.14047671476711496, 'scaling_users': 0.1616128363267063}. Best is trial 18 with value: 0.05576721400188091.\n",
      "[I 2023-12-23 19:14:32,010] Trial 36 finished with value: 0.05709880701865354 and parameters: {'num_factors': 375, 'scaling_items': 0.001377730988707343, 'scaling_users': 0.3483494364599081}. Best is trial 36 with value: 0.05709880701865354.\n",
      "[I 2023-12-23 19:30:36,105] Trial 37 finished with value: 0.03902936327461436 and parameters: {'num_factors': 369, 'scaling_items': 0.2412245059225683, 'scaling_users': 0.33612999587703196}. Best is trial 36 with value: 0.05709880701865354.\n",
      "[I 2023-12-23 19:42:54,880] Trial 38 finished with value: 0.019625069478981638 and parameters: {'num_factors': 284, 'scaling_items': 1.1352840870467678, 'scaling_users': 0.3665831220032457}. Best is trial 36 with value: 0.05709880701865354.\n",
      "[I 2023-12-23 19:50:45,349] Trial 39 finished with value: 0.02331308496810303 and parameters: {'num_factors': 200, 'scaling_items': 0.7758175111075306, 'scaling_users': 0.6207911751689849}. Best is trial 36 with value: 0.05709880701865354.\n",
      "[I 2023-12-23 20:07:34,840] Trial 40 finished with value: 0.032861308426105615 and parameters: {'num_factors': 386, 'scaling_items': 0.4425426695490857, 'scaling_users': 1.6364199024193453}. Best is trial 36 with value: 0.05709880701865354.\n",
      "[I 2023-12-23 20:20:57,019] Trial 41 finished with value: 0.049418081331068196 and parameters: {'num_factors': 312, 'scaling_items': 0.1192230986189949, 'scaling_users': 0.441937468945572}. Best is trial 36 with value: 0.05709880701865354.\n",
      "[I 2023-12-23 20:36:06,906] Trial 42 finished with value: 0.03293280489154743 and parameters: {'num_factors': 351, 'scaling_items': 0.33301256747971547, 'scaling_users': 0.1398417775303549}. Best is trial 36 with value: 0.05709880701865354.\n",
      "[I 2023-12-23 20:55:11,814] Trial 43 finished with value: 0.016707445280003584 and parameters: {'num_factors': 432, 'scaling_items': 1.5288661463145345, 'scaling_users': 0.3134629837229125}. Best is trial 36 with value: 0.05709880701865354.\n",
      "[I 2023-12-23 21:15:21,856] Trial 44 finished with value: 0.05126844113884624 and parameters: {'num_factors': 446, 'scaling_items': 0.02416865196736353, 'scaling_users': 0.11954319576037904}. Best is trial 36 with value: 0.05709880701865354.\n",
      "[I 2023-12-23 21:38:25,416] Trial 45 finished with value: 0.04790562962520991 and parameters: {'num_factors': 500, 'scaling_items': 0.09265932589332164, 'scaling_users': 0.290520251419688}. Best is trial 36 with value: 0.05709880701865354.\n",
      "[I 2023-12-23 21:59:12,391] Trial 46 finished with value: 0.04228731247135579 and parameters: {'num_factors': 406, 'scaling_items': 0.2057493919431646, 'scaling_users': 0.4737676541024511}. Best is trial 36 with value: 0.05709880701865354.\n",
      "[I 2023-12-23 22:19:21,539] Trial 47 finished with value: 0.048950853414069545 and parameters: {'num_factors': 465, 'scaling_items': 0.07276987928094253, 'scaling_users': 0.23007235625590883}. Best is trial 36 with value: 0.05709880701865354.\n",
      "[I 2023-12-23 22:35:43,856] Trial 48 finished with value: 0.05658160392739365 and parameters: {'num_factors': 384, 'scaling_items': 0.0006651222322419867, 'scaling_users': 0.35918091987711853}. Best is trial 36 with value: 0.05709880701865354.\n",
      "[I 2023-12-23 22:52:28,284] Trial 49 finished with value: 0.04619381802866005 and parameters: {'num_factors': 389, 'scaling_items': 0.17011446653732012, 'scaling_users': 0.6076133889238282}. Best is trial 36 with value: 0.05709880701865354.\n",
      "[I 2023-12-23 23:05:26,653] Trial 50 finished with value: 0.038027635957814165 and parameters: {'num_factors': 309, 'scaling_items': 0.28591404916990926, 'scaling_users': 0.3903452661020924}. Best is trial 36 with value: 0.05709880701865354.\n",
      "[I 2023-12-23 23:16:20,885] Trial 51 finished with value: 0.04704301876858729 and parameters: {'num_factors': 268, 'scaling_items': 0.08677113796433442, 'scaling_users': 0.11842102055039021}. Best is trial 36 with value: 0.05709880701865354.\n",
      "[I 2023-12-23 23:31:16,930] Trial 52 finished with value: 0.0341928241718893 and parameters: {'num_factors': 348, 'scaling_items': 0.41279265769794754, 'scaling_users': 1.1920574846638314}. Best is trial 36 with value: 0.05709880701865354.\n",
      "[I 2023-12-23 23:47:09,434] Trial 53 finished with value: 0.027388308099064666 and parameters: {'num_factors': 358, 'scaling_items': 0.5672205976492882, 'scaling_users': 0.8703246157597253}. Best is trial 36 with value: 0.05709880701865354.\n",
      "[I 2023-12-24 00:03:26,673] Trial 54 finished with value: 0.05571576698057366 and parameters: {'num_factors': 391, 'scaling_items': 0.002035582028029703, 'scaling_users': 0.2524805506034953}. Best is trial 36 with value: 0.05709880701865354.\n",
      "[I 2023-12-24 00:20:45,667] Trial 55 finished with value: 0.05281182377695743 and parameters: {'num_factors': 390, 'scaling_items': 0.0032201270465938977, 'scaling_users': 0.09554251506808323}. Best is trial 36 with value: 0.05709880701865354.\n",
      "[I 2023-12-24 00:33:19,201] Trial 56 finished with value: 0.04373162461470477 and parameters: {'num_factors': 319, 'scaling_items': 0.16307291549195982, 'scaling_users': 0.28721127291296633}. Best is trial 36 with value: 0.05709880701865354.\n",
      "[I 2023-12-24 00:50:38,409] Trial 57 finished with value: 0.05033530562890484 and parameters: {'num_factors': 390, 'scaling_items': 0.08775294708221817, 'scaling_users': 0.37060641665598143}. Best is trial 36 with value: 0.05709880701865354.\n",
      "[I 2023-12-24 01:16:52,277] Trial 58 finished with value: 0.05695449204289055 and parameters: {'num_factors': 438, 'scaling_items': 0.001042298132293968, 'scaling_users': 0.5023474139798906}. Best is trial 36 with value: 0.05709880701865354.\n",
      "[I 2023-12-24 01:36:35,253] Trial 59 finished with value: 0.0340236650561938 and parameters: {'num_factors': 473, 'scaling_items': 0.3546568150365427, 'scaling_users': 0.5127117105193058}. Best is trial 36 with value: 0.05709880701865354.\n",
      "[I 2023-12-24 01:55:32,282] Trial 60 finished with value: 0.03760333709414665 and parameters: {'num_factors': 442, 'scaling_items': 0.24804212628097488, 'scaling_users': 0.2480091439849561}. Best is trial 36 with value: 0.05709880701865354.\n",
      "[I 2023-12-24 02:13:04,033] Trial 61 finished with value: 0.021193203860908377 and parameters: {'num_factors': 423, 'scaling_items': 0.9052325070710048, 'scaling_users': 0.47639037736442913}. Best is trial 36 with value: 0.05709880701865354.\n",
      "[I 2023-12-24 02:32:24,332] Trial 62 finished with value: 0.04545586727025656 and parameters: {'num_factors': 452, 'scaling_items': 0.17628112096584783, 'scaling_users': 0.7409026843890543}. Best is trial 36 with value: 0.05709880701865354.\n",
      "[I 2023-12-24 02:52:44,754] Trial 63 finished with value: 0.05230710877337607 and parameters: {'num_factors': 485, 'scaling_items': 0.07827308860302307, 'scaling_users': 0.6239305450797272}. Best is trial 36 with value: 0.05709880701865354.\n",
      "[I 2023-12-24 03:09:54,385] Trial 64 finished with value: 0.055382367238569166 and parameters: {'num_factors': 409, 'scaling_items': 0.01925995908253575, 'scaling_users': 0.3382598724416783}. Best is trial 36 with value: 0.05709880701865354.\n",
      "[I 2023-12-24 03:26:41,444] Trial 65 finished with value: 0.05653213855448158 and parameters: {'num_factors': 403, 'scaling_items': 0.0043197518874465764, 'scaling_users': 0.40359257171444407}. Best is trial 36 with value: 0.05709880701865354.\n",
      "[I 2023-12-24 03:43:45,911] Trial 66 finished with value: 0.052180891556804596 and parameters: {'num_factors': 411, 'scaling_items': 0.06991630189007793, 'scaling_users': 0.41818473531820227}. Best is trial 36 with value: 0.05709880701865354.\n",
      "[I 2023-12-24 03:58:26,682] Trial 67 finished with value: 0.04536703200402237 and parameters: {'num_factors': 357, 'scaling_items': 0.17502700060224163, 'scaling_users': 0.5478255436170432}. Best is trial 36 with value: 0.05709880701865354.\n",
      "[I 2023-12-24 04:16:34,401] Trial 68 finished with value: 0.036512998444520973 and parameters: {'num_factors': 434, 'scaling_items': 0.2797978809316866, 'scaling_users': 0.3377032993233251}. Best is trial 36 with value: 0.05709880701865354.\n",
      "[I 2023-12-24 04:33:16,148] Trial 69 finished with value: 0.05513605831626279 and parameters: {'num_factors': 400, 'scaling_items': 0.0030661381664678867, 'scaling_users': 0.8060405893647152}. Best is trial 36 with value: 0.05709880701865354.\n",
      "[I 2023-12-24 04:49:21,480] Trial 70 finished with value: 0.04913175147075419 and parameters: {'num_factors': 368, 'scaling_items': 0.12073180034185425, 'scaling_users': 0.940657888040624}. Best is trial 36 with value: 0.05709880701865354.\n",
      "[I 2023-12-24 05:03:17,803] Trial 71 finished with value: 0.036767924327408136 and parameters: {'num_factors': 325, 'scaling_items': 0.22797827115074756, 'scaling_users': 0.07167352530722584}. Best is trial 36 with value: 0.05709880701865354.\n",
      "[I 2023-12-24 05:05:51,344] Trial 72 finished with value: 0.04482082195114615 and parameters: {'num_factors': 52, 'scaling_items': 0.06954305463216533, 'scaling_users': 0.5034997677881734}. Best is trial 36 with value: 0.05709880701865354.\n",
      "[I 2023-12-24 05:23:01,758] Trial 73 finished with value: 0.03321424119931293 and parameters: {'num_factors': 342, 'scaling_items': 0.36457953722533104, 'scaling_users': 0.26331983731799036}. Best is trial 36 with value: 0.05709880701865354.\n",
      "[I 2023-12-24 05:41:23,420] Trial 74 finished with value: 0.056828366663922936 and parameters: {'num_factors': 401, 'scaling_items': 0.00204238364013126, 'scaling_users': 0.3782463657151693}. Best is trial 36 with value: 0.05709880701865354.\n",
      "[I 2023-12-24 06:00:16,944] Trial 75 finished with value: 0.04722300155878793 and parameters: {'num_factors': 418, 'scaling_items': 0.12125788094781423, 'scaling_users': 0.4025999984126385}. Best is trial 36 with value: 0.05709880701865354.\n",
      "[I 2023-12-24 06:18:25,703] Trial 76 finished with value: 0.05359892513352615 and parameters: {'num_factors': 399, 'scaling_items': 0.05114884148543349, 'scaling_users': 0.6665873928919954}. Best is trial 36 with value: 0.05709880701865354.\n",
      "[I 2023-12-24 06:35:18,492] Trial 77 finished with value: 0.040856943265831766 and parameters: {'num_factors': 376, 'scaling_items': 0.18896492289831754, 'scaling_users': 0.195186575472468}. Best is trial 36 with value: 0.05709880701865354.\n",
      "[I 2023-12-24 06:54:58,285] Trial 78 finished with value: 0.018501853918046967 and parameters: {'num_factors': 430, 'scaling_items': 1.1856593353594767, 'scaling_users': 0.3621628205513559}. Best is trial 36 with value: 0.05709880701865354.\n",
      "[I 2023-12-24 07:08:47,135] Trial 79 finished with value: 0.056569082600661076 and parameters: {'num_factors': 332, 'scaling_items': 0.002926339145156643, 'scaling_users': 0.4431834899794282}. Best is trial 36 with value: 0.05709880701865354.\n",
      "[I 2023-12-24 07:21:39,954] Trial 80 finished with value: 0.016625192855949742 and parameters: {'num_factors': 302, 'scaling_items': 1.4971980648488246, 'scaling_users': 0.4418268261967298}. Best is trial 36 with value: 0.05709880701865354.\n",
      "[I 2023-12-24 07:31:13,783] Trial 81 finished with value: 0.048743438713391575 and parameters: {'num_factors': 222, 'scaling_items': 0.1300195879005784, 'scaling_users': 0.5473115079008911}. Best is trial 36 with value: 0.05709880701865354.\n",
      "[I 2023-12-24 07:47:48,957] Trial 82 finished with value: 0.05211741002052231 and parameters: {'num_factors': 362, 'scaling_items': 0.056964809659497934, 'scaling_users': 0.30719056862280425}. Best is trial 36 with value: 0.05709880701865354.\n",
      "[I 2023-12-24 08:05:28,140] Trial 83 finished with value: 0.04274079148086611 and parameters: {'num_factors': 382, 'scaling_items': 0.2374035465414864, 'scaling_users': 1.2904704279604842}. Best is trial 36 with value: 0.05709880701865354.\n",
      "[I 2023-12-24 08:24:41,992] Trial 84 finished with value: 0.049237644998353855 and parameters: {'num_factors': 408, 'scaling_items': 0.0021720848894642105, 'scaling_users': 1.9782574448342594}. Best is trial 36 with value: 0.05709880701865354.\n",
      "[I 2023-12-24 08:39:34,995] Trial 85 finished with value: 0.05262743334026974 and parameters: {'num_factors': 328, 'scaling_items': 0.05251302860795022, 'scaling_users': 0.321756017567044}. Best is trial 36 with value: 0.05709880701865354.\n",
      "[I 2023-12-24 08:51:30,389] Trial 86 finished with value: 0.05028749093277267 and parameters: {'num_factors': 272, 'scaling_items': 0.11435015557538498, 'scaling_users': 0.46738831713735335}. Best is trial 36 with value: 0.05709880701865354.\n",
      "[I 2023-12-24 09:06:02,937] Trial 87 finished with value: 0.015928027669649677 and parameters: {'num_factors': 343, 'scaling_items': 1.9372243409233485, 'scaling_users': 0.0008587048208913706}. Best is trial 36 with value: 0.05709880701865354.\n",
      "[I 2023-12-24 09:23:51,182] Trial 88 finished with value: 0.0541870693474505 and parameters: {'num_factors': 395, 'scaling_items': 0.04607941004305306, 'scaling_users': 0.5900533626419425}. Best is trial 36 with value: 0.05709880701865354.\n",
      "[I 2023-12-24 09:28:18,781] Trial 89 finished with value: 0.04731411892306779 and parameters: {'num_factors': 98, 'scaling_items': 0.16283971484625176, 'scaling_users': 0.1913210231944394}. Best is trial 36 with value: 0.05709880701865354.\n",
      "[I 2023-12-24 09:46:20,358] Trial 90 finished with value: 0.05193277782330402 and parameters: {'num_factors': 413, 'scaling_items': 0.04831059721802743, 'scaling_users': 0.2615363149432513}. Best is trial 36 with value: 0.05709880701865354.\n",
      "[I 2023-12-24 10:06:49,638] Trial 91 finished with value: 0.04810113481209631 and parameters: {'num_factors': 453, 'scaling_items': 0.11212244756463281, 'scaling_users': 0.39539189411152276}. Best is trial 36 with value: 0.05709880701865354.\n",
      "[I 2023-12-24 10:23:42,923] Trial 92 finished with value: 0.05663129650931592 and parameters: {'num_factors': 379, 'scaling_items': 0.0005029472053681519, 'scaling_users': 0.3472550523703253}. Best is trial 36 with value: 0.05709880701865354.\n",
      "[I 2023-12-24 10:40:51,009] Trial 93 finished with value: 0.038833917214600916 and parameters: {'num_factors': 379, 'scaling_items': 0.26722735789835217, 'scaling_users': 0.5023465135248788}. Best is trial 36 with value: 0.05709880701865354.\n",
      "[I 2023-12-24 10:55:11,540] Trial 94 finished with value: 0.0550890519087875 and parameters: {'num_factors': 336, 'scaling_items': 0.027069606617408454, 'scaling_users': 0.35001105491158435}. Best is trial 36 with value: 0.05709880701865354.\n",
      "[I 2023-12-24 11:09:58,629] Trial 95 finished with value: 0.05044707492158854 and parameters: {'num_factors': 362, 'scaling_items': 0.0011632742502866878, 'scaling_users': 1.5707887837910206}. Best is trial 36 with value: 0.05709880701865354.\n",
      "[I 2023-12-24 11:27:52,167] Trial 96 finished with value: 0.03920417696926403 and parameters: {'num_factors': 435, 'scaling_items': 0.20087901749314252, 'scaling_users': 0.16585141351244448}. Best is trial 36 with value: 0.05709880701865354.\n",
      "[I 2023-12-24 11:45:03,413] Trial 97 finished with value: 0.04734770135669439 and parameters: {'num_factors': 425, 'scaling_items': 0.08940270095107673, 'scaling_users': 0.22606765152893205}. Best is trial 36 with value: 0.05709880701865354.\n",
      "[I 2023-12-24 12:00:03,160] Trial 98 finished with value: 0.04548427958187656 and parameters: {'num_factors': 375, 'scaling_items': 0.15230724499554685, 'scaling_users': 0.43181763028355485}. Best is trial 36 with value: 0.05709880701865354.\n",
      "[I 2023-12-24 12:14:27,461] Trial 99 finished with value: 0.05298392903212626 and parameters: {'num_factors': 353, 'scaling_items': 0.042919171236165704, 'scaling_users': 0.2829825853352002}. Best is trial 36 with value: 0.05709880701865354.\n",
      "[I 2023-12-24 12:20:31,144] Trial 100 finished with value: 0.051064885821404296 and parameters: {'num_factors': 155, 'scaling_items': 0.09680108237900201, 'scaling_users': 0.36193655213307735}. Best is trial 36 with value: 0.05709880701865354.\n",
      "[I 2023-12-24 12:36:24,978] Trial 101 finished with value: 0.03714270679727245 and parameters: {'num_factors': 394, 'scaling_items': 0.3205366791341229, 'scaling_users': 0.6626129425770123}. Best is trial 36 with value: 0.05709880701865354.\n",
      "[I 2023-12-24 12:52:44,318] Trial 102 finished with value: 0.04082753589588399 and parameters: {'num_factors': 403, 'scaling_items': 0.20174090473165243, 'scaling_users': 0.3038267303211978}. Best is trial 36 with value: 0.05709880701865354.\n",
      "[I 2023-12-24 13:12:39,635] Trial 103 finished with value: 0.04131792930511515 and parameters: {'num_factors': 469, 'scaling_items': 0.15079440705768068, 'scaling_users': 0.10362417574000024}. Best is trial 36 with value: 0.05709880701865354.\n",
      "[I 2023-12-24 13:29:31,964] Trial 104 finished with value: 0.05529120261203777 and parameters: {'num_factors': 417, 'scaling_items': 0.01106852880347486, 'scaling_users': 0.8007094920844686}. Best is trial 36 with value: 0.05709880701865354.\n",
      "[I 2023-12-24 13:47:14,923] Trial 105 finished with value: 0.056646355310259085 and parameters: {'num_factors': 414, 'scaling_items': 0.002973014630702447, 'scaling_users': 0.47033653844345763}. Best is trial 36 with value: 0.05709880701865354.\n",
      "[I 2023-12-24 14:05:14,167] Trial 106 finished with value: 0.050315770741024946 and parameters: {'num_factors': 441, 'scaling_items': 0.09058531893090706, 'scaling_users': 0.46736694915195465}. Best is trial 36 with value: 0.05709880701865354.\n",
      "[I 2023-12-24 14:20:57,660] Trial 107 finished with value: 0.05420965397136482 and parameters: {'num_factors': 383, 'scaling_items': 0.04328621967984041, 'scaling_users': 0.5766737870711708}. Best is trial 36 with value: 0.05709880701865354.\n",
      "[I 2023-12-24 14:35:44,454] Trial 108 finished with value: 0.05149368282571349 and parameters: {'num_factors': 371, 'scaling_items': 0.06957297305229654, 'scaling_users': 0.3796054349832263}. Best is trial 36 with value: 0.05709880701865354.\n",
      "[I 2023-12-24 14:36:26,150] Trial 109 finished with value: 0.03777444846839273 and parameters: {'num_factors': 15, 'scaling_items': 0.1355786329354281, 'scaling_users': 0.4273767939124463}. Best is trial 36 with value: 0.05709880701865354.\n",
      "[I 2023-12-24 14:52:06,309] Trial 110 finished with value: 0.056572032921432265 and parameters: {'num_factors': 401, 'scaling_items': 0.008350849905538194, 'scaling_users': 0.5339510022695426}. Best is trial 36 with value: 0.05709880701865354.\n",
      "[I 2023-12-24 15:08:22,166] Trial 111 finished with value: 0.049790776955912906 and parameters: {'num_factors': 394, 'scaling_items': 0.1120293712902381, 'scaling_users': 0.5359049080815421}. Best is trial 36 with value: 0.05709880701865354.\n",
      "[I 2023-12-24 15:21:53,339] Trial 112 finished with value: 0.052913566996576775 and parameters: {'num_factors': 336, 'scaling_items': 0.03906504829066315, 'scaling_users': 0.22689887435695474}. Best is trial 36 with value: 0.05709880701865354.\n",
      "[I 2023-12-24 15:39:27,608] Trial 113 finished with value: 0.05730761009136949 and parameters: {'num_factors': 423, 'scaling_items': 0.002697136347121248, 'scaling_users': 0.4984535611534031}. Best is trial 113 with value: 0.05730761009136949.\n",
      "[I 2023-12-24 15:56:14,815] Trial 114 finished with value: 0.05159999401515889 and parameters: {'num_factors': 421, 'scaling_items': 0.07683273554820809, 'scaling_users': 0.49294065131298714}. Best is trial 113 with value: 0.05730761009136949.\n",
      "[I 2023-12-24 16:15:05,098] Trial 115 finished with value: 0.05101615813812312 and parameters: {'num_factors': 458, 'scaling_items': 0.002768986536520559, 'scaling_users': 1.9048572960629584}. Best is trial 113 with value: 0.05730761009136949.\n",
      "[I 2023-12-24 16:31:22,793] Trial 116 finished with value: 0.046586218178300415 and parameters: {'num_factors': 403, 'scaling_items': 0.1609121732422199, 'scaling_users': 0.6411478052728213}. Best is trial 113 with value: 0.05730761009136949.\n",
      "[I 2023-12-24 16:46:29,936] Trial 117 finished with value: 0.053717437742678405 and parameters: {'num_factors': 365, 'scaling_items': 0.0009650347062224738, 'scaling_users': 1.0656352938803277}. Best is trial 113 with value: 0.05730761009136949.\n",
      "[I 2023-12-24 17:05:20,096] Trial 118 finished with value: 0.05257958027280437 and parameters: {'num_factors': 446, 'scaling_items': 0.057047182434969416, 'scaling_users': 0.4176284135873952}. Best is trial 113 with value: 0.05730761009136949.\n",
      "[I 2023-12-24 17:23:07,758] Trial 119 finished with value: 0.049671606524447874 and parameters: {'num_factors': 432, 'scaling_items': 0.09603345773812617, 'scaling_users': 0.46211494845617507}. Best is trial 113 with value: 0.05730761009136949.\n",
      "[I 2023-12-24 17:38:24,743] Trial 120 finished with value: 0.01966031226524342 and parameters: {'num_factors': 388, 'scaling_items': 1.0387987433120094, 'scaling_users': 0.52277096798831}. Best is trial 113 with value: 0.05730761009136949.\n",
      "[I 2023-12-24 17:55:53,032] Trial 121 finished with value: 0.04251845380349939 and parameters: {'num_factors': 414, 'scaling_items': 0.20678368855522017, 'scaling_users': 0.5855475366241576}. Best is trial 113 with value: 0.05730761009136949.\n",
      "[I 2023-12-24 18:08:42,778] Trial 122 finished with value: 0.04648509942118041 and parameters: {'num_factors': 318, 'scaling_items': 0.13098125554854761, 'scaling_users': 0.3180461138947653}. Best is trial 113 with value: 0.05730761009136949.\n",
      "[I 2023-12-24 18:22:22,823] Trial 123 finished with value: 0.053810526490795235 and parameters: {'num_factors': 355, 'scaling_items': 0.04206481415745726, 'scaling_users': 0.39978959344359966}. Best is trial 113 with value: 0.05730761009136949.\n",
      "[I 2023-12-24 18:38:49,961] Trial 124 finished with value: 0.05672719798784215 and parameters: {'num_factors': 411, 'scaling_items': 0.0019447101345333227, 'scaling_users': 0.3554314055129934}. Best is trial 113 with value: 0.05730761009136949.\n",
      "[I 2023-12-24 18:56:34,208] Trial 125 finished with value: 0.05411769424915217 and parameters: {'num_factors': 424, 'scaling_items': 0.045514265624392015, 'scaling_users': 0.7103154998161482}. Best is trial 113 with value: 0.05730761009136949.\n",
      "[I 2023-12-24 19:12:28,741] Trial 126 finished with value: 0.048619989802825926 and parameters: {'num_factors': 382, 'scaling_items': 0.08799320408312183, 'scaling_users': 0.2765642160583023}. Best is trial 113 with value: 0.05730761009136949.\n",
      "[I 2023-12-24 19:29:10,186] Trial 127 finished with value: 0.056157017067399714 and parameters: {'num_factors': 400, 'scaling_items': 0.009263252985584952, 'scaling_users': 0.35632964775830106}. Best is trial 113 with value: 0.05730761009136949.\n",
      "[I 2023-12-24 19:45:56,445] Trial 128 finished with value: 0.05396734051316214 and parameters: {'num_factors': 405, 'scaling_items': 0.035111728620549655, 'scaling_users': 0.3678051035284506}. Best is trial 113 with value: 0.05730761009136949.\n",
      "[I 2023-12-24 20:04:30,821] Trial 129 finished with value: 0.05714390513913331 and parameters: {'num_factors': 432, 'scaling_items': 0.0018350303004285866, 'scaling_users': 0.4456961533620183}. Best is trial 113 with value: 0.05730761009136949.\n",
      "[I 2023-12-24 20:22:53,948] Trial 130 finished with value: 0.048301133701712635 and parameters: {'num_factors': 440, 'scaling_items': 0.12155494732110135, 'scaling_users': 0.45042904691024477}. Best is trial 113 with value: 0.05730761009136949.\n",
      "[I 2023-12-24 20:40:11,400] Trial 131 finished with value: 0.05205709292671008 and parameters: {'num_factors': 427, 'scaling_items': 0.07430945912631141, 'scaling_users': 0.49903904444268166}. Best is trial 113 with value: 0.05730761009136949.\n",
      "[I 2023-12-24 20:59:08,271] Trial 132 finished with value: 0.057051417169557486 and parameters: {'num_factors': 451, 'scaling_items': 0.00264504495011507, 'scaling_users': 0.40268103163224117}. Best is trial 113 with value: 0.05730761009136949.\n",
      "[I 2023-12-24 21:20:39,723] Trial 133 finished with value: 0.02335301449116481 and parameters: {'num_factors': 486, 'scaling_items': 0.7291263125906731, 'scaling_users': 0.40946270093559844}. Best is trial 113 with value: 0.05730761009136949.\n",
      "[I 2023-12-24 21:37:23,033] Trial 134 finished with value: 0.025551683764280516 and parameters: {'num_factors': 417, 'scaling_items': 0.6483912659509451, 'scaling_users': 0.3377607877957483}. Best is trial 113 with value: 0.05730761009136949.\n",
      "[I 2023-12-24 21:56:42,570] Trial 135 finished with value: 0.05613516797454044 and parameters: {'num_factors': 456, 'scaling_items': 0.006580811507860873, 'scaling_users': 0.4479281036792363}. Best is trial 113 with value: 0.05730761009136949.\n",
      "[I 2023-12-24 22:16:30,157] Trial 136 finished with value: 0.05281467358053464 and parameters: {'num_factors': 476, 'scaling_items': 0.0453279158458025, 'scaling_users': 0.3736546117779943}. Best is trial 113 with value: 0.05730761009136949.\n",
      "[I 2023-12-24 22:34:48,622] Trial 137 finished with value: 0.045451053313317225 and parameters: {'num_factors': 449, 'scaling_items': 0.16345955238696921, 'scaling_users': 0.551860526493118}. Best is trial 113 with value: 0.05730761009136949.\n",
      "[I 2023-12-24 22:51:24,460] Trial 138 finished with value: 0.05080392342743593 and parameters: {'num_factors': 397, 'scaling_items': 0.09709796080113388, 'scaling_users': 0.5308675877936271}. Best is trial 113 with value: 0.05730761009136949.\n",
      "[I 2023-12-24 23:08:34,134] Trial 139 finished with value: 0.022056037850907748 and parameters: {'num_factors': 410, 'scaling_items': 0.8357407096840377, 'scaling_users': 0.4787601277010907}. Best is trial 113 with value: 0.05730761009136949.\n",
      "[I 2023-12-24 23:26:34,991] Trial 140 finished with value: 0.055528177760431785 and parameters: {'num_factors': 435, 'scaling_items': 0.007502165968793228, 'scaling_users': 0.31578807885975824}. Best is trial 113 with value: 0.05730761009136949.\n",
      "[I 2023-12-24 23:42:55,063] Trial 141 finished with value: 0.052255994338842676 and parameters: {'num_factors': 401, 'scaling_items': 0.06857773546273621, 'scaling_users': 0.3945577580624522}. Best is trial 113 with value: 0.05730761009136949.\n",
      "[I 2023-12-25 00:01:14,232] Trial 142 finished with value: 0.0485889386695801 and parameters: {'num_factors': 426, 'scaling_items': 0.13170395243116592, 'scaling_users': 0.6141270475503957}. Best is trial 113 with value: 0.05730761009136949.\n",
      "[I 2023-12-25 00:20:58,766] Trial 143 finished with value: 0.05687733536808259 and parameters: {'num_factors': 467, 'scaling_items': 0.0001785070275952046, 'scaling_users': 0.4323162617230324}. Best is trial 113 with value: 0.05730761009136949.\n",
      "[I 2023-12-25 00:39:34,490] Trial 144 finished with value: 0.05606647571086772 and parameters: {'num_factors': 449, 'scaling_items': 0.004823643060250701, 'scaling_users': 0.35138274821300897}. Best is trial 113 with value: 0.05730761009136949.\n",
      "[I 2023-12-25 00:59:17,145] Trial 145 finished with value: 0.05406802076232672 and parameters: {'num_factors': 477, 'scaling_items': 0.04691514580708092, 'scaling_users': 0.43828228550006915}. Best is trial 113 with value: 0.05730761009136949.\n",
      "[I 2023-12-25 01:19:14,131] Trial 146 finished with value: 0.05047179928318611 and parameters: {'num_factors': 462, 'scaling_items': 0.0835481485161432, 'scaling_users': 0.4898953042430346}. Best is trial 113 with value: 0.05730761009136949.\n",
      "[I 2023-12-25 01:37:55,585] Trial 147 finished with value: 0.056440848685247666 and parameters: {'num_factors': 440, 'scaling_items': 0.0010019251025040722, 'scaling_users': 0.4085483917014041}. Best is trial 113 with value: 0.05730761009136949.\n",
      "[I 2023-12-25 01:55:58,670] Trial 148 finished with value: 0.053279807829601906 and parameters: {'num_factors': 437, 'scaling_items': 0.04203275941280143, 'scaling_users': 0.4093835813442963}. Best is trial 113 with value: 0.05730761009136949.\n",
      "[I 2023-12-25 02:13:06,253] Trial 149 finished with value: 0.050044805022064175 and parameters: {'num_factors': 416, 'scaling_items': 0.10510727578062726, 'scaling_users': 0.5691729269597858}. Best is trial 113 with value: 0.05730761009136949.\n",
      "[I 2023-12-25 02:34:51,232] Trial 150 finished with value: 0.05700153057239415 and parameters: {'num_factors': 496, 'scaling_items': 9.117406715026307e-05, 'scaling_users': 0.44254031550614387}. Best is trial 113 with value: 0.05730761009136949.\n",
      "[I 2023-12-25 02:55:53,433] Trial 151 finished with value: 0.014242724928104569 and parameters: {'num_factors': 494, 'scaling_items': 1.819514166836167, 'scaling_users': 0.46549831124113716}. Best is trial 113 with value: 0.05730761009136949.\n",
      "[I 2023-12-25 03:15:27,563] Trial 152 finished with value: 0.04368100775462007 and parameters: {'num_factors': 465, 'scaling_items': 0.1878743461078988, 'scaling_users': 0.5172943351378868}. Best is trial 113 with value: 0.05730761009136949.\n"
     ]
    }
   ],
   "source": [
    "from Recommenders.MatrixFactorization.PureSVDRecommender import ScaledPureSVDRecommender\n",
    "\n",
    "def objective(trial):\n",
    "    num_factors = trial.suggest_int('num_factors', 5, 500)\n",
    "    scaling_items = trial.suggest_float('scaling_items', 0, 2.0)\n",
    "    scaling_users = trial.suggest_float('scaling_users', 0, 2.0)\n",
    "    \n",
    "    recommender = ScaledPureSVDRecommender(data_train, verbose=False)\n",
    "    recommender.fit(\n",
    "        num_factors=num_factors,\n",
    "        scaling_items=scaling_items,\n",
    "        scaling_users=scaling_users,\n",
    "    )\n",
    "    _, _, ev_map, _, _ = evaluator(recommender, data_train, data_val)\n",
    "    \n",
    "    return ev_map\n",
    "\n",
    "study.optimize(objective, n_trials=150)"
   ]
  },
  {
   "cell_type": "code",
   "execution_count": 8,
   "metadata": {},
   "outputs": [],
   "source": [
    "from Recommenders.MatrixFactorization.PureSVDRecommender import ScaledPureSVDRecommender\n",
    "\n",
    "recommender = ScaledPureSVDRecommender(data_train+data_val, verbose=False)\n",
    "recommender.fit(**study.best_params)"
   ]
  },
  {
   "cell_type": "code",
   "execution_count": 10,
   "metadata": {},
   "outputs": [
    {
     "name": "stdout",
     "output_type": "stream",
     "text": [
      "TopPopRecommender: URM Detected 199 ( 1.6%) users with no interactions.\n",
      "TopPopRecommender: URM Detected 95 ( 0.4%) items with no interactions.\n"
     ]
    },
    {
     "ename": "AssertionError",
     "evalue": "ScaledPureSVDRecommender: Cold users not allowed. Users in trained model are 12638, requested prediction for users up to 12638",
     "output_type": "error",
     "traceback": [
      "\u001b[1;31m---------------------------------------------------------------------------\u001b[0m",
      "\u001b[1;31mAssertionError\u001b[0m                            Traceback (most recent call last)",
      "Cell \u001b[1;32mIn[10], line 1\u001b[0m\n\u001b[1;32m----> 1\u001b[0m \u001b[43msubmission2\u001b[49m\u001b[43m(\u001b[49m\u001b[43mrecommender\u001b[49m\u001b[43m,\u001b[49m\u001b[43m \u001b[49m\u001b[43musers\u001b[49m\u001b[43m,\u001b[49m\u001b[43m \u001b[49m\u001b[43musermap\u001b[49m\u001b[43m,\u001b[49m\u001b[43m \u001b[49m\u001b[43mitemmap\u001b[49m\u001b[43m,\u001b[49m\u001b[43m \u001b[49m\u001b[43mdata_train\u001b[49m\u001b[43m)\u001b[49m\n",
      "File \u001b[1;32mc:\\Users\\Francesco1\\Desktop\\rcs\\utils.py:278\u001b[0m, in \u001b[0;36msubmission2\u001b[1;34m(recommender, users, usermap, itemmap, data_train)\u001b[0m\n\u001b[0;32m    276\u001b[0m \u001b[38;5;28;01mfor\u001b[39;00m user_id \u001b[38;5;129;01min\u001b[39;00m users:\n\u001b[0;32m    277\u001b[0m     \u001b[38;5;28;01mtry\u001b[39;00m:\n\u001b[1;32m--> 278\u001b[0m         item_list \u001b[38;5;241m=\u001b[39m \u001b[43mrecommender\u001b[49m\u001b[38;5;241;43m.\u001b[39;49m\u001b[43mrecommend\u001b[49m\u001b[43m(\u001b[49m\u001b[43muser_id\u001b[49m\u001b[43m,\u001b[49m\u001b[43m \u001b[49m\u001b[43mcutoff\u001b[49m\u001b[38;5;241;43m=\u001b[39;49m\u001b[38;5;241;43m10\u001b[39;49m\u001b[43m)\u001b[49m\n\u001b[0;32m    279\u001b[0m         item_list \u001b[38;5;241m=\u001b[39m [itemmap[i] \u001b[38;5;28;01mfor\u001b[39;00m i \u001b[38;5;129;01min\u001b[39;00m item_list]\n\u001b[0;32m    280\u001b[0m         writer\u001b[38;5;241m.\u001b[39mwriterow([usermap[user_id], \u001b[38;5;124m'\u001b[39m\u001b[38;5;124m \u001b[39m\u001b[38;5;124m'\u001b[39m\u001b[38;5;241m.\u001b[39mjoin(\u001b[38;5;28mmap\u001b[39m(\u001b[38;5;28mstr\u001b[39m, item_list))])\n",
      "File \u001b[1;32mc:\\Users\\Francesco1\\Desktop\\rcs\\Recommenders\\BaseRecommender.py:147\u001b[0m, in \u001b[0;36mBaseRecommender.recommend\u001b[1;34m(self, user_id_array, cutoff, remove_seen_flag, items_to_compute, remove_top_pop_flag, remove_custom_items_flag, return_scores)\u001b[0m\n\u001b[0;32m    143\u001b[0m cutoff \u001b[38;5;241m=\u001b[39m \u001b[38;5;28mmin\u001b[39m(cutoff, \u001b[38;5;28mself\u001b[39m\u001b[38;5;241m.\u001b[39mURM_train\u001b[38;5;241m.\u001b[39mshape[\u001b[38;5;241m1\u001b[39m] \u001b[38;5;241m-\u001b[39m \u001b[38;5;241m1\u001b[39m)\n\u001b[0;32m    145\u001b[0m \u001b[38;5;66;03m# Compute the scores using the model-specific function\u001b[39;00m\n\u001b[0;32m    146\u001b[0m \u001b[38;5;66;03m# Vectorize over all users in user_id_array\u001b[39;00m\n\u001b[1;32m--> 147\u001b[0m scores_batch \u001b[38;5;241m=\u001b[39m \u001b[38;5;28;43mself\u001b[39;49m\u001b[38;5;241;43m.\u001b[39;49m\u001b[43m_compute_item_score\u001b[49m\u001b[43m(\u001b[49m\u001b[43muser_id_array\u001b[49m\u001b[43m,\u001b[49m\u001b[43m \u001b[49m\u001b[43mitems_to_compute\u001b[49m\u001b[38;5;241;43m=\u001b[39;49m\u001b[43mitems_to_compute\u001b[49m\u001b[43m)\u001b[49m\n\u001b[0;32m    150\u001b[0m \u001b[38;5;28;01mfor\u001b[39;00m user_index \u001b[38;5;129;01min\u001b[39;00m \u001b[38;5;28mrange\u001b[39m(\u001b[38;5;28mlen\u001b[39m(user_id_array)):\n\u001b[0;32m    152\u001b[0m     user_id \u001b[38;5;241m=\u001b[39m user_id_array[user_index]\n",
      "File \u001b[1;32mc:\\Users\\Francesco1\\Desktop\\rcs\\Recommenders\\BaseMatrixFactorizationRecommender.py:155\u001b[0m, in \u001b[0;36mBaseSVDRecommender._compute_item_score\u001b[1;34m(self, user_id_array, items_to_compute)\u001b[0m\n\u001b[0;32m    149\u001b[0m \u001b[38;5;28;01massert\u001b[39;00m \u001b[38;5;28mself\u001b[39m\u001b[38;5;241m.\u001b[39mUSER_factors\u001b[38;5;241m.\u001b[39mshape[\u001b[38;5;241m1\u001b[39m] \u001b[38;5;241m==\u001b[39m \u001b[38;5;28mself\u001b[39m\u001b[38;5;241m.\u001b[39mITEM_factors\u001b[38;5;241m.\u001b[39mshape[\u001b[38;5;241m1\u001b[39m], \\\n\u001b[0;32m    150\u001b[0m     \u001b[38;5;124m\"\u001b[39m\u001b[38;5;132;01m{}\u001b[39;00m\u001b[38;5;124m: User and Item factors have inconsistent shape\u001b[39m\u001b[38;5;124m\"\u001b[39m\u001b[38;5;241m.\u001b[39mformat(\u001b[38;5;28mself\u001b[39m\u001b[38;5;241m.\u001b[39mRECOMMENDER_NAME)\n\u001b[0;32m    152\u001b[0m \u001b[38;5;28;01massert\u001b[39;00m \u001b[38;5;28mlen\u001b[39m(\u001b[38;5;28mself\u001b[39m\u001b[38;5;241m.\u001b[39mSigma) \u001b[38;5;241m==\u001b[39m \u001b[38;5;28mself\u001b[39m\u001b[38;5;241m.\u001b[39mUSER_factors\u001b[38;5;241m.\u001b[39mshape[\u001b[38;5;241m1\u001b[39m], \\\n\u001b[0;32m    153\u001b[0m     \u001b[38;5;124m\"\u001b[39m\u001b[38;5;132;01m{}\u001b[39;00m\u001b[38;5;124m: Sigma and latent factors have inconsistent shape\u001b[39m\u001b[38;5;124m\"\u001b[39m\u001b[38;5;241m.\u001b[39mformat(\u001b[38;5;28mself\u001b[39m\u001b[38;5;241m.\u001b[39mRECOMMENDER_NAME)\n\u001b[1;32m--> 155\u001b[0m \u001b[38;5;28;01massert\u001b[39;00m \u001b[38;5;28mself\u001b[39m\u001b[38;5;241m.\u001b[39mUSER_factors\u001b[38;5;241m.\u001b[39mshape[\u001b[38;5;241m0\u001b[39m] \u001b[38;5;241m>\u001b[39m np\u001b[38;5;241m.\u001b[39mmax(user_id_array),\\\n\u001b[0;32m    156\u001b[0m         \u001b[38;5;124m\"\u001b[39m\u001b[38;5;132;01m{}\u001b[39;00m\u001b[38;5;124m: Cold users not allowed. Users in trained model are \u001b[39m\u001b[38;5;132;01m{}\u001b[39;00m\u001b[38;5;124m, requested prediction for users up to \u001b[39m\u001b[38;5;132;01m{}\u001b[39;00m\u001b[38;5;124m\"\u001b[39m\u001b[38;5;241m.\u001b[39mformat(\n\u001b[0;32m    157\u001b[0m         \u001b[38;5;28mself\u001b[39m\u001b[38;5;241m.\u001b[39mRECOMMENDER_NAME, \u001b[38;5;28mself\u001b[39m\u001b[38;5;241m.\u001b[39mUSER_factors\u001b[38;5;241m.\u001b[39mshape[\u001b[38;5;241m0\u001b[39m], np\u001b[38;5;241m.\u001b[39mmax(user_id_array))\n\u001b[0;32m    159\u001b[0m \u001b[38;5;28;01mif\u001b[39;00m items_to_compute \u001b[38;5;129;01mis\u001b[39;00m \u001b[38;5;129;01mnot\u001b[39;00m \u001b[38;5;28;01mNone\u001b[39;00m:\n\u001b[0;32m    160\u001b[0m     item_scores \u001b[38;5;241m=\u001b[39m \u001b[38;5;241m-\u001b[39m np\u001b[38;5;241m.\u001b[39mones((\u001b[38;5;28mlen\u001b[39m(user_id_array), \u001b[38;5;28mself\u001b[39m\u001b[38;5;241m.\u001b[39mn_items), dtype\u001b[38;5;241m=\u001b[39m\u001b[38;5;28mfloat\u001b[39m)\u001b[38;5;241m*\u001b[39mnp\u001b[38;5;241m.\u001b[39minf\n",
      "\u001b[1;31mAssertionError\u001b[0m: ScaledPureSVDRecommender: Cold users not allowed. Users in trained model are 12638, requested prediction for users up to 12638"
     ]
    }
   ],
   "source": [
    "submission2(recommender, users, usermap, itemmap, data_train)"
   ]
  }
 ],
 "metadata": {
  "kernelspec": {
   "display_name": "RecSysFramework",
   "language": "python",
   "name": "python3"
  },
  "language_info": {
   "codemirror_mode": {
    "name": "ipython",
    "version": 3
   },
   "file_extension": ".py",
   "mimetype": "text/x-python",
   "name": "python",
   "nbconvert_exporter": "python",
   "pygments_lexer": "ipython3",
   "version": "3.8.18"
  }
 },
 "nbformat": 4,
 "nbformat_minor": 2
}
