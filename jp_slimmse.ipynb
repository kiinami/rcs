{
 "cells": [
  {
   "cell_type": "code",
   "execution_count": null,
   "id": "84bc7b5babad8dc0",
   "metadata": {
    "ExecuteTime": {
     "end_time": "2023-11-16T07:45:01.202762880Z",
     "start_time": "2023-11-16T07:45:00.620218249Z"
    },
    "collapsed": false
   },
   "outputs": [],
   "source": [
    "from utils import *"
   ]
  },
  {
   "cell_type": "code",
   "execution_count": null,
   "id": "2fd3e2b8aa1a3951",
   "metadata": {
    "ExecuteTime": {
     "end_time": "2023-11-16T07:45:02.061235295Z",
     "start_time": "2023-11-16T07:45:01.803657794Z"
    },
    "collapsed": false
   },
   "outputs": [],
   "source": [
    "%load_ext Cython"
   ]
  },
  {
   "cell_type": "code",
   "execution_count": null,
   "id": "82364d28b280f794",
   "metadata": {
    "ExecuteTime": {
     "end_time": "2023-11-16T07:45:02.765876358Z",
     "start_time": "2023-11-16T07:45:02.647329627Z"
    },
    "collapsed": false
   },
   "outputs": [],
   "source": [
    "data = load_data()\n",
    "users = load_users()"
   ]
  },
  {
   "cell_type": "code",
   "execution_count": null,
   "id": "fa4c47d9fb68767f",
   "metadata": {
    "ExecuteTime": {
     "end_time": "2023-11-16T07:45:03.410977028Z",
     "start_time": "2023-11-16T07:45:03.321494801Z"
    },
    "collapsed": false
   },
   "outputs": [],
   "source": [
    "data, num_users, num_items, mapping_user_id = preprocess_data(data)"
   ]
  },
  {
   "cell_type": "code",
   "execution_count": null,
   "id": "78e6f351277bf141",
   "metadata": {
    "ExecuteTime": {
     "end_time": "2023-11-16T07:45:04.104295196Z",
     "start_time": "2023-11-16T07:45:04.031337866Z"
    },
    "collapsed": false
   },
   "outputs": [],
   "source": [
    "data_train, data_validation, data_test = split_data(\n",
    "    data,\n",
    "    num_users=num_users,\n",
    "    num_items=num_items,\n",
    "    validation_percentage=0.1,\n",
    "    testing_percentage=0.20\n",
    ")"
   ]
  },
  {
   "cell_type": "code",
   "execution_count": null,
   "id": "15c6af0fe0cb245",
   "metadata": {
    "collapsed": false
   },
   "outputs": [],
   "source": [
    "%%cython\n",
    "\n",
    "import numpy as np\n",
    "import time\n",
    "\n",
    "from libc.stdlib cimport rand, srand, RAND_MAX\n",
    "\n",
    "def train_multiple_epochs(URM_train, learning_rate_input, regularization_2_input, n_epochs):\n",
    "\n",
    "    URM_train_coo = URM_train.tocoo()\n",
    "    cdef int n_items = URM_train.shape[1]\n",
    "    cdef int n_interactions = URM_train.nnz\n",
    "    cdef int[:] URM_train_coo_row = URM_train_coo.row\n",
    "    cdef int[:] URM_train_coo_col = URM_train_coo.col\n",
    "    cdef double[:] URM_train_coo_data = URM_train_coo.data\n",
    "    cdef int[:] URM_train_indices = URM_train.indices\n",
    "    cdef int[:] URM_train_indptr = URM_train.indptr\n",
    "    cdef double[:] URM_train_data = URM_train.data\n",
    "\n",
    "    cdef double[:,:] item_item_S = np.zeros((n_items, n_items), dtype = float)\n",
    "    cdef double learning_rate = learning_rate_input\n",
    "    cdef double regularization_2 = regularization_2_input\n",
    "    cdef double loss = 0.0\n",
    "    cdef long start_time\n",
    "    cdef double true_rating, predicted_rating, prediction_error, profile_rating\n",
    "    cdef int start_profile, end_profile\n",
    "    cdef int index\n",
    "    cdef int sample_num\n",
    "    cdef int user_id\n",
    "    cdef int item_id\n",
    "    cdef int profile_item_id\n",
    "\n",
    "    for n_epoch in range(n_epochs):\n",
    "\n",
    "        loss = 0.0\n",
    "        start_time = time.time()\n",
    "\n",
    "        for sample_num in range(n_interactions):\n",
    "\n",
    "            # Randomly pick sample\n",
    "            index = rand() % n_interactions\n",
    "\n",
    "            user_id = URM_train_coo_row[index]\n",
    "            item_id = URM_train_coo_col[index]\n",
    "            true_rating = URM_train_coo_data[index]\n",
    "\n",
    "            # Compute prediction\n",
    "            start_profile = URM_train_indptr[user_id]\n",
    "            end_profile = URM_train_indptr[user_id+1]\n",
    "            predicted_rating = 0.0\n",
    "\n",
    "            for index in range(start_profile, end_profile):\n",
    "                profile_item_id = URM_train_indices[index]\n",
    "                profile_rating = URM_train_data[index]\n",
    "                predicted_rating += item_item_S[profile_item_id,item_id] * profile_rating\n",
    "\n",
    "            # Compute prediction error, or gradient\n",
    "            prediction_error = true_rating - predicted_rating\n",
    "            loss += prediction_error**2\n",
    "\n",
    "            # Update model, in this case the similarity\n",
    "            for index in range(start_profile, end_profile):\n",
    "                profile_item_id = URM_train_indices[index]\n",
    "                profile_rating = URM_train_data[index]\n",
    "                item_item_S[profile_item_id,item_id] += learning_rate * (prediction_error * profile_rating -\n",
    "                                                                         regularization_2 * item_item_S[profile_item_id,item_id])\n",
    "\n",
    "            # Ensure diagonal is always zero\n",
    "            item_item_S[item_id,item_id] = 0.0\n",
    "\n",
    "        #             if sample_num % 1000000 == 0:\n",
    "        #                 print(\"Epoch {}: {:.2f}%\".format(n_epoch+1, sample_num/n_interactions*100))\n",
    "\n",
    "\n",
    "        elapsed_time = time.time() - start_time\n",
    "        samples_per_second = (sample_num+1)/elapsed_time\n",
    "        print(\"\\tEpoch {} complete in in {:.2f} seconds, loss is {:.3E}. Samples per second {:.2f}\".format(n_epoch+1, time.time() - start_time, loss/(sample_num+1), samples_per_second))\n",
    "\n",
    "    return np.array(item_item_S)"
   ]
  },
  {
   "cell_type": "code",
   "execution_count": null,
   "id": "f1a2fd3e55377276",
   "metadata": {
    "collapsed": false
   },
   "outputs": [],
   "source": [
    "from typing import Optional\n",
    "\n",
    "class SLIMMSE(object):\n",
    "    def __init__(self, learning_rate: float, regularization: float):\n",
    "        self.learning_rate = learning_rate\n",
    "        self.regularization = regularization\n",
    "        self.weights = None\n",
    "        \n",
    "    def fit(self, urm_train: sp.csr_matrix, n_epochs: int):\n",
    "        self.weights = train_multiple_epochs(urm_train, self.learning_rate, self.regularization, n_epochs)\n",
    "        \n",
    "    def recommend(self, user_id: int, urm_train: sp.csr_matrix, at: Optional[int] = None, remove_seen: bool = True):\n",
    "        user_profile = urm_train[user_id]\n",
    "\n",
    "        ranking = user_profile.dot(self.weights).flatten()\n",
    "\n",
    "        if remove_seen:\n",
    "            user_profile_start = urm_train.indptr[user_id]\n",
    "            user_profile_end = urm_train.indptr[user_id+1]\n",
    "\n",
    "            seen_items = urm_train.indices[user_profile_start:user_profile_end]\n",
    "\n",
    "            ranking[seen_items] = -np.inf\n",
    "\n",
    "        ranking = np.flip(np.argsort(ranking))\n",
    "        return ranking[:at]"
   ]
  },
  {
   "cell_type": "code",
   "execution_count": null,
   "id": "76967c45d27f8a0a",
   "metadata": {
    "collapsed": false
   },
   "outputs": [],
   "source": [
    "def hyperparameter_tuning():\n",
    "    learning_rates =    [4e-5]\n",
    "    regularizations =   [4e-5, 8e-5, 4e-4, 8e-4, 4e-3, 8e-3]\n",
    "    epochs = [1000]\n",
    "    \n",
    "    results = []\n",
    "    for lr in learning_rates:\n",
    "        for reg in regularizations:\n",
    "            for eps in epochs:\n",
    "                print(f'lr={lr}, reg={reg}, eps={eps}')\n",
    "        \n",
    "                slimmse_recommender = SLIMMSE(lr, reg)\n",
    "                slimmse_recommender.fit(data_train, eps)\n",
    "            \n",
    "                ev_precision, ev_recall, ev_map, _, _ = evaluator(slimmse_recommender, data_train, data_validation)\n",
    "                \n",
    "                results.append(((lr, reg, eps), (ev_precision, ev_recall, ev_map)))\n",
    "                \n",
    "                del slimmse_recommender\n",
    "        \n",
    "    return results"
   ]
  },
  {
   "cell_type": "code",
   "execution_count": null,
   "id": "34efc27d1759c079",
   "metadata": {
    "collapsed": false
   },
   "outputs": [],
   "source": [
    "hyperparameter_results = hyperparameter_tuning()"
   ]
  },
  {
   "cell_type": "code",
   "execution_count": null,
   "id": "9bcf1836cf0a1485",
   "metadata": {
    "collapsed": false
   },
   "outputs": [],
   "source": [
    "for (lr, reg, eps), (ev_precision, ev_recall, ev_map) in hyperparameter_results:\n",
    "    print(f'{lr},{reg},{eps},{ev_precision},{ev_recall},{ev_map}')"
   ]
  },
  {
   "cell_type": "code",
   "execution_count": null,
   "id": "a74a080c376f88be",
   "metadata": {
    "collapsed": false
   },
   "outputs": [],
   "source": [
    "best_learning_rate = 7e-05\n",
    "best_regularization = 7e-03\n",
    "best_epochs = 50\n",
    "data_train_validation = data_train + data_validation"
   ]
  },
  {
   "cell_type": "code",
   "execution_count": null,
   "id": "f6d14f11d00656be",
   "metadata": {
    "collapsed": false
   },
   "outputs": [],
   "source": [
    "best_recommender = SLIMMSE(best_learning_rate, best_regularization)\n",
    "best_recommender.fit(data_train_validation, best_epochs)"
   ]
  },
  {
   "cell_type": "code",
   "execution_count": null,
   "id": "bca5c3f9c61ce0db",
   "metadata": {
    "collapsed": false
   },
   "outputs": [],
   "source": [
    "write_submission(prepare_submission(data, users, data_train, best_recommender))"
   ]
  }
 ],
 "metadata": {
  "kernelspec": {
   "display_name": "Python 3",
   "language": "python",
   "name": "python3"
  },
  "language_info": {
   "codemirror_mode": {
    "name": "ipython",
    "version": 3
   },
   "file_extension": ".py",
   "mimetype": "text/x-python",
   "name": "python",
   "nbconvert_exporter": "python",
   "pygments_lexer": "ipython3",
   "version": "3.8.18"
  }
 },
 "nbformat": 4,
 "nbformat_minor": 5
}
